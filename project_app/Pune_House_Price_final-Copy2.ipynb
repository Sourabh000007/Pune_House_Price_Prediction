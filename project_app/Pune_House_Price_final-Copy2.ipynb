{
 "cells": [
  {
   "cell_type": "code",
   "execution_count": 1,
   "id": "4c4ceed0",
   "metadata": {},
   "outputs": [],
   "source": [
    "import pandas as pd\n",
    "import numpy as np\n",
    "\n",
    "import matplotlib.pyplot as plt\n",
    "import seaborn as sns\n",
    "\n",
    "from statsmodels.stats.outliers_influence import variance_inflation_factor\n",
    "from sklearn.model_selection import train_test_split,GridSearchCV,RandomizedSearchCV\n",
    "\n",
    "from sklearn.linear_model import LinearRegression,Ridge,Lasso\n",
    "from sklearn.neighbors import KNeighborsRegressor\n",
    "from sklearn.tree import DecisionTreeRegressor, plot_tree\n",
    "from sklearn.ensemble import RandomForestRegressor\n",
    "from sklearn.ensemble import AdaBoostRegressor\n",
    "\n",
    "from sklearn.preprocessing import MinMaxScaler, StandardScaler\n",
    "\n",
    "from sklearn.metrics import mean_absolute_error,mean_squared_error,r2_score\n",
    "\n",
    "from scipy.stats import shapiro\n",
    "from scipy.stats import normaltest\n",
    "from scipy.stats import kstest\n",
    "import statsmodels.api as sm\n",
    "\n",
    "import pickle\n",
    "import json\n",
    "\n",
    "\n",
    "import warnings\n",
    "warnings.filterwarnings(\"ignore\")"
   ]
  },
  {
   "cell_type": "markdown",
   "id": "db8509a8",
   "metadata": {},
   "source": [
    "# Problem Statement"
   ]
  },
  {
   "cell_type": "raw",
   "id": "8d57d6fb",
   "metadata": {},
   "source": [
    "To find the Price of House from Pune Housing Data by using Linear regression from supervised machine learning"
   ]
  },
  {
   "cell_type": "markdown",
   "id": "9b12fb5c",
   "metadata": {},
   "source": [
    "# Data Gathering"
   ]
  },
  {
   "cell_type": "code",
   "execution_count": 2,
   "id": "2ca8c393",
   "metadata": {},
   "outputs": [
    {
     "data": {
      "text/html": [
       "<div>\n",
       "<style scoped>\n",
       "    .dataframe tbody tr th:only-of-type {\n",
       "        vertical-align: middle;\n",
       "    }\n",
       "\n",
       "    .dataframe tbody tr th {\n",
       "        vertical-align: top;\n",
       "    }\n",
       "\n",
       "    .dataframe thead th {\n",
       "        text-align: right;\n",
       "    }\n",
       "</style>\n",
       "<table border=\"1\" class=\"dataframe\">\n",
       "  <thead>\n",
       "    <tr style=\"text-align: right;\">\n",
       "      <th></th>\n",
       "      <th>area_type</th>\n",
       "      <th>availability</th>\n",
       "      <th>size</th>\n",
       "      <th>society</th>\n",
       "      <th>total_sqft</th>\n",
       "      <th>bath</th>\n",
       "      <th>balcony</th>\n",
       "      <th>price</th>\n",
       "      <th>site_location</th>\n",
       "    </tr>\n",
       "  </thead>\n",
       "  <tbody>\n",
       "    <tr>\n",
       "      <th>0</th>\n",
       "      <td>Super built-up  Area</td>\n",
       "      <td>19-Dec</td>\n",
       "      <td>2 BHK</td>\n",
       "      <td>Coomee</td>\n",
       "      <td>1056</td>\n",
       "      <td>2.0</td>\n",
       "      <td>1.0</td>\n",
       "      <td>39.07</td>\n",
       "      <td>Alandi Road</td>\n",
       "    </tr>\n",
       "    <tr>\n",
       "      <th>1</th>\n",
       "      <td>Plot  Area</td>\n",
       "      <td>Ready To Move</td>\n",
       "      <td>4 Bedroom</td>\n",
       "      <td>Theanmp</td>\n",
       "      <td>2600</td>\n",
       "      <td>5.0</td>\n",
       "      <td>3.0</td>\n",
       "      <td>120.00</td>\n",
       "      <td>Ambegaon Budruk</td>\n",
       "    </tr>\n",
       "    <tr>\n",
       "      <th>2</th>\n",
       "      <td>Built-up  Area</td>\n",
       "      <td>Ready To Move</td>\n",
       "      <td>3 BHK</td>\n",
       "      <td>NaN</td>\n",
       "      <td>1440</td>\n",
       "      <td>2.0</td>\n",
       "      <td>3.0</td>\n",
       "      <td>62.00</td>\n",
       "      <td>Anandnagar</td>\n",
       "    </tr>\n",
       "    <tr>\n",
       "      <th>3</th>\n",
       "      <td>Super built-up  Area</td>\n",
       "      <td>Ready To Move</td>\n",
       "      <td>3 BHK</td>\n",
       "      <td>Soiewre</td>\n",
       "      <td>1521</td>\n",
       "      <td>3.0</td>\n",
       "      <td>1.0</td>\n",
       "      <td>95.00</td>\n",
       "      <td>Aundh</td>\n",
       "    </tr>\n",
       "    <tr>\n",
       "      <th>4</th>\n",
       "      <td>Super built-up  Area</td>\n",
       "      <td>Ready To Move</td>\n",
       "      <td>2 BHK</td>\n",
       "      <td>NaN</td>\n",
       "      <td>1200</td>\n",
       "      <td>2.0</td>\n",
       "      <td>1.0</td>\n",
       "      <td>51.00</td>\n",
       "      <td>Aundh Road</td>\n",
       "    </tr>\n",
       "    <tr>\n",
       "      <th>...</th>\n",
       "      <td>...</td>\n",
       "      <td>...</td>\n",
       "      <td>...</td>\n",
       "      <td>...</td>\n",
       "      <td>...</td>\n",
       "      <td>...</td>\n",
       "      <td>...</td>\n",
       "      <td>...</td>\n",
       "      <td>...</td>\n",
       "    </tr>\n",
       "    <tr>\n",
       "      <th>13315</th>\n",
       "      <td>Built-up  Area</td>\n",
       "      <td>Ready To Move</td>\n",
       "      <td>5 Bedroom</td>\n",
       "      <td>ArsiaEx</td>\n",
       "      <td>3453</td>\n",
       "      <td>4.0</td>\n",
       "      <td>0.0</td>\n",
       "      <td>231.00</td>\n",
       "      <td>Pashan</td>\n",
       "    </tr>\n",
       "    <tr>\n",
       "      <th>13316</th>\n",
       "      <td>Super built-up  Area</td>\n",
       "      <td>Ready To Move</td>\n",
       "      <td>4 BHK</td>\n",
       "      <td>NaN</td>\n",
       "      <td>3600</td>\n",
       "      <td>5.0</td>\n",
       "      <td>NaN</td>\n",
       "      <td>400.00</td>\n",
       "      <td>Paud Road</td>\n",
       "    </tr>\n",
       "    <tr>\n",
       "      <th>13317</th>\n",
       "      <td>Built-up  Area</td>\n",
       "      <td>Ready To Move</td>\n",
       "      <td>2 BHK</td>\n",
       "      <td>Mahla T</td>\n",
       "      <td>1141</td>\n",
       "      <td>2.0</td>\n",
       "      <td>1.0</td>\n",
       "      <td>60.00</td>\n",
       "      <td>Pirangut</td>\n",
       "    </tr>\n",
       "    <tr>\n",
       "      <th>13318</th>\n",
       "      <td>Super built-up  Area</td>\n",
       "      <td>18-Jun</td>\n",
       "      <td>4 BHK</td>\n",
       "      <td>SollyCl</td>\n",
       "      <td>4689</td>\n",
       "      <td>4.0</td>\n",
       "      <td>1.0</td>\n",
       "      <td>488.00</td>\n",
       "      <td>Prabhat Road</td>\n",
       "    </tr>\n",
       "    <tr>\n",
       "      <th>13319</th>\n",
       "      <td>Super built-up  Area</td>\n",
       "      <td>Ready To Move</td>\n",
       "      <td>1 BHK</td>\n",
       "      <td>NaN</td>\n",
       "      <td>550</td>\n",
       "      <td>1.0</td>\n",
       "      <td>1.0</td>\n",
       "      <td>17.00</td>\n",
       "      <td>Pune Railway Station</td>\n",
       "    </tr>\n",
       "  </tbody>\n",
       "</table>\n",
       "<p>13320 rows × 9 columns</p>\n",
       "</div>"
      ],
      "text/plain": [
       "                  area_type   availability       size  society total_sqft  \\\n",
       "0      Super built-up  Area         19-Dec      2 BHK  Coomee        1056   \n",
       "1                Plot  Area  Ready To Move  4 Bedroom  Theanmp       2600   \n",
       "2            Built-up  Area  Ready To Move      3 BHK      NaN       1440   \n",
       "3      Super built-up  Area  Ready To Move      3 BHK  Soiewre       1521   \n",
       "4      Super built-up  Area  Ready To Move      2 BHK      NaN       1200   \n",
       "...                     ...            ...        ...      ...        ...   \n",
       "13315        Built-up  Area  Ready To Move  5 Bedroom  ArsiaEx       3453   \n",
       "13316  Super built-up  Area  Ready To Move      4 BHK      NaN       3600   \n",
       "13317        Built-up  Area  Ready To Move      2 BHK  Mahla T       1141   \n",
       "13318  Super built-up  Area         18-Jun      4 BHK  SollyCl       4689   \n",
       "13319  Super built-up  Area  Ready To Move      1 BHK      NaN        550   \n",
       "\n",
       "       bath  balcony   price         site_location  \n",
       "0       2.0      1.0   39.07           Alandi Road  \n",
       "1       5.0      3.0  120.00       Ambegaon Budruk  \n",
       "2       2.0      3.0   62.00            Anandnagar  \n",
       "3       3.0      1.0   95.00                 Aundh  \n",
       "4       2.0      1.0   51.00            Aundh Road  \n",
       "...     ...      ...     ...                   ...  \n",
       "13315   4.0      0.0  231.00                Pashan  \n",
       "13316   5.0      NaN  400.00             Paud Road  \n",
       "13317   2.0      1.0   60.00              Pirangut  \n",
       "13318   4.0      1.0  488.00          Prabhat Road  \n",
       "13319   1.0      1.0   17.00  Pune Railway Station  \n",
       "\n",
       "[13320 rows x 9 columns]"
      ]
     },
     "execution_count": 2,
     "metadata": {},
     "output_type": "execute_result"
    }
   ],
   "source": [
    "df = pd.read_csv(r\"D:\\Python practice\\Datasets\\linear regression Datasets\\Pune_House_Data.csv\")\n",
    "df"
   ]
  },
  {
   "cell_type": "code",
   "execution_count": 3,
   "id": "db91535e",
   "metadata": {},
   "outputs": [
    {
     "data": {
      "text/plain": [
       "(13320, 9)"
      ]
     },
     "execution_count": 3,
     "metadata": {},
     "output_type": "execute_result"
    }
   ],
   "source": [
    "df.shape"
   ]
  },
  {
   "cell_type": "code",
   "execution_count": 4,
   "id": "26bacb53",
   "metadata": {},
   "outputs": [
    {
     "name": "stdout",
     "output_type": "stream",
     "text": [
      "<class 'pandas.core.frame.DataFrame'>\n",
      "RangeIndex: 13320 entries, 0 to 13319\n",
      "Data columns (total 9 columns):\n",
      " #   Column         Non-Null Count  Dtype  \n",
      "---  ------         --------------  -----  \n",
      " 0   area_type      13320 non-null  object \n",
      " 1   availability   13320 non-null  object \n",
      " 2   size           13304 non-null  object \n",
      " 3   society        7818 non-null   object \n",
      " 4   total_sqft     13320 non-null  object \n",
      " 5   bath           13247 non-null  float64\n",
      " 6   balcony        12711 non-null  float64\n",
      " 7   price          13320 non-null  float64\n",
      " 8   site_location  13319 non-null  object \n",
      "dtypes: float64(3), object(6)\n",
      "memory usage: 936.7+ KB\n"
     ]
    }
   ],
   "source": [
    "df.info()"
   ]
  },
  {
   "cell_type": "code",
   "execution_count": 5,
   "id": "ec1f5f1d",
   "metadata": {},
   "outputs": [
    {
     "data": {
      "text/html": [
       "<div>\n",
       "<style scoped>\n",
       "    .dataframe tbody tr th:only-of-type {\n",
       "        vertical-align: middle;\n",
       "    }\n",
       "\n",
       "    .dataframe tbody tr th {\n",
       "        vertical-align: top;\n",
       "    }\n",
       "\n",
       "    .dataframe thead th {\n",
       "        text-align: right;\n",
       "    }\n",
       "</style>\n",
       "<table border=\"1\" class=\"dataframe\">\n",
       "  <thead>\n",
       "    <tr style=\"text-align: right;\">\n",
       "      <th></th>\n",
       "      <th>bath</th>\n",
       "      <th>balcony</th>\n",
       "      <th>price</th>\n",
       "    </tr>\n",
       "  </thead>\n",
       "  <tbody>\n",
       "    <tr>\n",
       "      <th>count</th>\n",
       "      <td>13247.000000</td>\n",
       "      <td>12711.000000</td>\n",
       "      <td>13320.000000</td>\n",
       "    </tr>\n",
       "    <tr>\n",
       "      <th>mean</th>\n",
       "      <td>2.692610</td>\n",
       "      <td>1.584376</td>\n",
       "      <td>112.565627</td>\n",
       "    </tr>\n",
       "    <tr>\n",
       "      <th>std</th>\n",
       "      <td>1.341458</td>\n",
       "      <td>0.817263</td>\n",
       "      <td>148.971674</td>\n",
       "    </tr>\n",
       "    <tr>\n",
       "      <th>min</th>\n",
       "      <td>1.000000</td>\n",
       "      <td>0.000000</td>\n",
       "      <td>8.000000</td>\n",
       "    </tr>\n",
       "    <tr>\n",
       "      <th>25%</th>\n",
       "      <td>2.000000</td>\n",
       "      <td>1.000000</td>\n",
       "      <td>50.000000</td>\n",
       "    </tr>\n",
       "    <tr>\n",
       "      <th>50%</th>\n",
       "      <td>2.000000</td>\n",
       "      <td>2.000000</td>\n",
       "      <td>72.000000</td>\n",
       "    </tr>\n",
       "    <tr>\n",
       "      <th>75%</th>\n",
       "      <td>3.000000</td>\n",
       "      <td>2.000000</td>\n",
       "      <td>120.000000</td>\n",
       "    </tr>\n",
       "    <tr>\n",
       "      <th>max</th>\n",
       "      <td>40.000000</td>\n",
       "      <td>3.000000</td>\n",
       "      <td>3600.000000</td>\n",
       "    </tr>\n",
       "  </tbody>\n",
       "</table>\n",
       "</div>"
      ],
      "text/plain": [
       "               bath       balcony         price\n",
       "count  13247.000000  12711.000000  13320.000000\n",
       "mean       2.692610      1.584376    112.565627\n",
       "std        1.341458      0.817263    148.971674\n",
       "min        1.000000      0.000000      8.000000\n",
       "25%        2.000000      1.000000     50.000000\n",
       "50%        2.000000      2.000000     72.000000\n",
       "75%        3.000000      2.000000    120.000000\n",
       "max       40.000000      3.000000   3600.000000"
      ]
     },
     "execution_count": 5,
     "metadata": {},
     "output_type": "execute_result"
    }
   ],
   "source": [
    "df.describe()"
   ]
  },
  {
   "cell_type": "code",
   "execution_count": 6,
   "id": "0bdce25e",
   "metadata": {},
   "outputs": [
    {
     "data": {
      "text/plain": [
       "area_type           0\n",
       "availability        0\n",
       "size               16\n",
       "society          5502\n",
       "total_sqft          0\n",
       "bath               73\n",
       "balcony           609\n",
       "price               0\n",
       "site_location       1\n",
       "dtype: int64"
      ]
     },
     "execution_count": 6,
     "metadata": {},
     "output_type": "execute_result"
    }
   ],
   "source": [
    "df.isna().sum()"
   ]
  },
  {
   "cell_type": "code",
   "execution_count": 7,
   "id": "e2f776ab",
   "metadata": {},
   "outputs": [
    {
     "data": {
      "text/html": [
       "<div>\n",
       "<style scoped>\n",
       "    .dataframe tbody tr th:only-of-type {\n",
       "        vertical-align: middle;\n",
       "    }\n",
       "\n",
       "    .dataframe tbody tr th {\n",
       "        vertical-align: top;\n",
       "    }\n",
       "\n",
       "    .dataframe thead th {\n",
       "        text-align: right;\n",
       "    }\n",
       "</style>\n",
       "<table border=\"1\" class=\"dataframe\">\n",
       "  <thead>\n",
       "    <tr style=\"text-align: right;\">\n",
       "      <th></th>\n",
       "      <th>area_type</th>\n",
       "      <th>availability</th>\n",
       "      <th>size</th>\n",
       "      <th>society</th>\n",
       "      <th>total_sqft</th>\n",
       "      <th>bath</th>\n",
       "      <th>balcony</th>\n",
       "      <th>price</th>\n",
       "      <th>site_location</th>\n",
       "    </tr>\n",
       "  </thead>\n",
       "  <tbody>\n",
       "    <tr>\n",
       "      <th>0</th>\n",
       "      <td>Super built-up  Area</td>\n",
       "      <td>19-Dec</td>\n",
       "      <td>2 BHK</td>\n",
       "      <td>Coomee</td>\n",
       "      <td>1056</td>\n",
       "      <td>2.0</td>\n",
       "      <td>1.0</td>\n",
       "      <td>39.07</td>\n",
       "      <td>Alandi Road</td>\n",
       "    </tr>\n",
       "    <tr>\n",
       "      <th>1</th>\n",
       "      <td>Plot  Area</td>\n",
       "      <td>Ready To Move</td>\n",
       "      <td>4 Bedroom</td>\n",
       "      <td>Theanmp</td>\n",
       "      <td>2600</td>\n",
       "      <td>5.0</td>\n",
       "      <td>3.0</td>\n",
       "      <td>120.00</td>\n",
       "      <td>Ambegaon Budruk</td>\n",
       "    </tr>\n",
       "    <tr>\n",
       "      <th>2</th>\n",
       "      <td>Built-up  Area</td>\n",
       "      <td>Ready To Move</td>\n",
       "      <td>3 BHK</td>\n",
       "      <td>NaN</td>\n",
       "      <td>1440</td>\n",
       "      <td>2.0</td>\n",
       "      <td>3.0</td>\n",
       "      <td>62.00</td>\n",
       "      <td>Anandnagar</td>\n",
       "    </tr>\n",
       "    <tr>\n",
       "      <th>3</th>\n",
       "      <td>Super built-up  Area</td>\n",
       "      <td>Ready To Move</td>\n",
       "      <td>3 BHK</td>\n",
       "      <td>Soiewre</td>\n",
       "      <td>1521</td>\n",
       "      <td>3.0</td>\n",
       "      <td>1.0</td>\n",
       "      <td>95.00</td>\n",
       "      <td>Aundh</td>\n",
       "    </tr>\n",
       "    <tr>\n",
       "      <th>4</th>\n",
       "      <td>Super built-up  Area</td>\n",
       "      <td>Ready To Move</td>\n",
       "      <td>2 BHK</td>\n",
       "      <td>NaN</td>\n",
       "      <td>1200</td>\n",
       "      <td>2.0</td>\n",
       "      <td>1.0</td>\n",
       "      <td>51.00</td>\n",
       "      <td>Aundh Road</td>\n",
       "    </tr>\n",
       "    <tr>\n",
       "      <th>...</th>\n",
       "      <td>...</td>\n",
       "      <td>...</td>\n",
       "      <td>...</td>\n",
       "      <td>...</td>\n",
       "      <td>...</td>\n",
       "      <td>...</td>\n",
       "      <td>...</td>\n",
       "      <td>...</td>\n",
       "      <td>...</td>\n",
       "    </tr>\n",
       "    <tr>\n",
       "      <th>13315</th>\n",
       "      <td>Built-up  Area</td>\n",
       "      <td>Ready To Move</td>\n",
       "      <td>5 Bedroom</td>\n",
       "      <td>ArsiaEx</td>\n",
       "      <td>3453</td>\n",
       "      <td>4.0</td>\n",
       "      <td>0.0</td>\n",
       "      <td>231.00</td>\n",
       "      <td>Pashan</td>\n",
       "    </tr>\n",
       "    <tr>\n",
       "      <th>13316</th>\n",
       "      <td>Super built-up  Area</td>\n",
       "      <td>Ready To Move</td>\n",
       "      <td>4 BHK</td>\n",
       "      <td>NaN</td>\n",
       "      <td>3600</td>\n",
       "      <td>5.0</td>\n",
       "      <td>NaN</td>\n",
       "      <td>400.00</td>\n",
       "      <td>Paud Road</td>\n",
       "    </tr>\n",
       "    <tr>\n",
       "      <th>13317</th>\n",
       "      <td>Built-up  Area</td>\n",
       "      <td>Ready To Move</td>\n",
       "      <td>2 BHK</td>\n",
       "      <td>Mahla T</td>\n",
       "      <td>1141</td>\n",
       "      <td>2.0</td>\n",
       "      <td>1.0</td>\n",
       "      <td>60.00</td>\n",
       "      <td>Pirangut</td>\n",
       "    </tr>\n",
       "    <tr>\n",
       "      <th>13318</th>\n",
       "      <td>Super built-up  Area</td>\n",
       "      <td>18-Jun</td>\n",
       "      <td>4 BHK</td>\n",
       "      <td>SollyCl</td>\n",
       "      <td>4689</td>\n",
       "      <td>4.0</td>\n",
       "      <td>1.0</td>\n",
       "      <td>488.00</td>\n",
       "      <td>Prabhat Road</td>\n",
       "    </tr>\n",
       "    <tr>\n",
       "      <th>13319</th>\n",
       "      <td>Super built-up  Area</td>\n",
       "      <td>Ready To Move</td>\n",
       "      <td>1 BHK</td>\n",
       "      <td>NaN</td>\n",
       "      <td>550</td>\n",
       "      <td>1.0</td>\n",
       "      <td>1.0</td>\n",
       "      <td>17.00</td>\n",
       "      <td>Pune Railway Station</td>\n",
       "    </tr>\n",
       "  </tbody>\n",
       "</table>\n",
       "<p>13320 rows × 9 columns</p>\n",
       "</div>"
      ],
      "text/plain": [
       "                  area_type   availability       size  society total_sqft  \\\n",
       "0      Super built-up  Area         19-Dec      2 BHK  Coomee        1056   \n",
       "1                Plot  Area  Ready To Move  4 Bedroom  Theanmp       2600   \n",
       "2            Built-up  Area  Ready To Move      3 BHK      NaN       1440   \n",
       "3      Super built-up  Area  Ready To Move      3 BHK  Soiewre       1521   \n",
       "4      Super built-up  Area  Ready To Move      2 BHK      NaN       1200   \n",
       "...                     ...            ...        ...      ...        ...   \n",
       "13315        Built-up  Area  Ready To Move  5 Bedroom  ArsiaEx       3453   \n",
       "13316  Super built-up  Area  Ready To Move      4 BHK      NaN       3600   \n",
       "13317        Built-up  Area  Ready To Move      2 BHK  Mahla T       1141   \n",
       "13318  Super built-up  Area         18-Jun      4 BHK  SollyCl       4689   \n",
       "13319  Super built-up  Area  Ready To Move      1 BHK      NaN        550   \n",
       "\n",
       "       bath  balcony   price         site_location  \n",
       "0       2.0      1.0   39.07           Alandi Road  \n",
       "1       5.0      3.0  120.00       Ambegaon Budruk  \n",
       "2       2.0      3.0   62.00            Anandnagar  \n",
       "3       3.0      1.0   95.00                 Aundh  \n",
       "4       2.0      1.0   51.00            Aundh Road  \n",
       "...     ...      ...     ...                   ...  \n",
       "13315   4.0      0.0  231.00                Pashan  \n",
       "13316   5.0      NaN  400.00             Paud Road  \n",
       "13317   2.0      1.0   60.00              Pirangut  \n",
       "13318   4.0      1.0  488.00          Prabhat Road  \n",
       "13319   1.0      1.0   17.00  Pune Railway Station  \n",
       "\n",
       "[13320 rows x 9 columns]"
      ]
     },
     "execution_count": 7,
     "metadata": {},
     "output_type": "execute_result"
    }
   ],
   "source": [
    "df"
   ]
  },
  {
   "cell_type": "markdown",
   "id": "7c2dccbe",
   "metadata": {},
   "source": [
    "# Exploratory Data Analysis"
   ]
  },
  {
   "cell_type": "markdown",
   "id": "3f3a354b",
   "metadata": {},
   "source": [
    "### 1. Area_type"
   ]
  },
  {
   "cell_type": "code",
   "execution_count": 8,
   "id": "cc2e0a73",
   "metadata": {},
   "outputs": [
    {
     "data": {
      "text/plain": [
       "array(['Super built-up  Area', 'Plot  Area', 'Built-up  Area',\n",
       "       'Carpet  Area'], dtype=object)"
      ]
     },
     "execution_count": 8,
     "metadata": {},
     "output_type": "execute_result"
    }
   ],
   "source": [
    "df[\"area_type\"].unique()"
   ]
  },
  {
   "cell_type": "code",
   "execution_count": 9,
   "id": "419eabac",
   "metadata": {},
   "outputs": [
    {
     "data": {
      "text/html": [
       "<div>\n",
       "<style scoped>\n",
       "    .dataframe tbody tr th:only-of-type {\n",
       "        vertical-align: middle;\n",
       "    }\n",
       "\n",
       "    .dataframe tbody tr th {\n",
       "        vertical-align: top;\n",
       "    }\n",
       "\n",
       "    .dataframe thead th {\n",
       "        text-align: right;\n",
       "    }\n",
       "</style>\n",
       "<table border=\"1\" class=\"dataframe\">\n",
       "  <thead>\n",
       "    <tr style=\"text-align: right;\">\n",
       "      <th></th>\n",
       "      <th>availability</th>\n",
       "      <th>size</th>\n",
       "      <th>society</th>\n",
       "      <th>total_sqft</th>\n",
       "      <th>bath</th>\n",
       "      <th>balcony</th>\n",
       "      <th>price</th>\n",
       "      <th>site_location</th>\n",
       "      <th>area_type_Built-up  Area</th>\n",
       "      <th>area_type_Carpet  Area</th>\n",
       "      <th>area_type_Plot  Area</th>\n",
       "      <th>area_type_Super built-up  Area</th>\n",
       "    </tr>\n",
       "  </thead>\n",
       "  <tbody>\n",
       "    <tr>\n",
       "      <th>0</th>\n",
       "      <td>19-Dec</td>\n",
       "      <td>2 BHK</td>\n",
       "      <td>Coomee</td>\n",
       "      <td>1056</td>\n",
       "      <td>2.0</td>\n",
       "      <td>1.0</td>\n",
       "      <td>39.07</td>\n",
       "      <td>Alandi Road</td>\n",
       "      <td>0</td>\n",
       "      <td>0</td>\n",
       "      <td>0</td>\n",
       "      <td>1</td>\n",
       "    </tr>\n",
       "    <tr>\n",
       "      <th>1</th>\n",
       "      <td>Ready To Move</td>\n",
       "      <td>4 Bedroom</td>\n",
       "      <td>Theanmp</td>\n",
       "      <td>2600</td>\n",
       "      <td>5.0</td>\n",
       "      <td>3.0</td>\n",
       "      <td>120.00</td>\n",
       "      <td>Ambegaon Budruk</td>\n",
       "      <td>0</td>\n",
       "      <td>0</td>\n",
       "      <td>1</td>\n",
       "      <td>0</td>\n",
       "    </tr>\n",
       "    <tr>\n",
       "      <th>2</th>\n",
       "      <td>Ready To Move</td>\n",
       "      <td>3 BHK</td>\n",
       "      <td>NaN</td>\n",
       "      <td>1440</td>\n",
       "      <td>2.0</td>\n",
       "      <td>3.0</td>\n",
       "      <td>62.00</td>\n",
       "      <td>Anandnagar</td>\n",
       "      <td>1</td>\n",
       "      <td>0</td>\n",
       "      <td>0</td>\n",
       "      <td>0</td>\n",
       "    </tr>\n",
       "    <tr>\n",
       "      <th>3</th>\n",
       "      <td>Ready To Move</td>\n",
       "      <td>3 BHK</td>\n",
       "      <td>Soiewre</td>\n",
       "      <td>1521</td>\n",
       "      <td>3.0</td>\n",
       "      <td>1.0</td>\n",
       "      <td>95.00</td>\n",
       "      <td>Aundh</td>\n",
       "      <td>0</td>\n",
       "      <td>0</td>\n",
       "      <td>0</td>\n",
       "      <td>1</td>\n",
       "    </tr>\n",
       "    <tr>\n",
       "      <th>4</th>\n",
       "      <td>Ready To Move</td>\n",
       "      <td>2 BHK</td>\n",
       "      <td>NaN</td>\n",
       "      <td>1200</td>\n",
       "      <td>2.0</td>\n",
       "      <td>1.0</td>\n",
       "      <td>51.00</td>\n",
       "      <td>Aundh Road</td>\n",
       "      <td>0</td>\n",
       "      <td>0</td>\n",
       "      <td>0</td>\n",
       "      <td>1</td>\n",
       "    </tr>\n",
       "  </tbody>\n",
       "</table>\n",
       "</div>"
      ],
      "text/plain": [
       "    availability       size  society total_sqft  bath  balcony   price  \\\n",
       "0         19-Dec      2 BHK  Coomee        1056   2.0      1.0   39.07   \n",
       "1  Ready To Move  4 Bedroom  Theanmp       2600   5.0      3.0  120.00   \n",
       "2  Ready To Move      3 BHK      NaN       1440   2.0      3.0   62.00   \n",
       "3  Ready To Move      3 BHK  Soiewre       1521   3.0      1.0   95.00   \n",
       "4  Ready To Move      2 BHK      NaN       1200   2.0      1.0   51.00   \n",
       "\n",
       "     site_location  area_type_Built-up  Area  area_type_Carpet  Area  \\\n",
       "0      Alandi Road                         0                       0   \n",
       "1  Ambegaon Budruk                         0                       0   \n",
       "2       Anandnagar                         1                       0   \n",
       "3            Aundh                         0                       0   \n",
       "4       Aundh Road                         0                       0   \n",
       "\n",
       "   area_type_Plot  Area  area_type_Super built-up  Area  \n",
       "0                     0                               1  \n",
       "1                     1                               0  \n",
       "2                     0                               0  \n",
       "3                     0                               1  \n",
       "4                     0                               1  "
      ]
     },
     "execution_count": 9,
     "metadata": {},
     "output_type": "execute_result"
    }
   ],
   "source": [
    "df = pd.get_dummies(df,columns=[\"area_type\"])\n",
    "df.head(5)"
   ]
  },
  {
   "cell_type": "code",
   "execution_count": 10,
   "id": "92619a61",
   "metadata": {},
   "outputs": [
    {
     "name": "stdout",
     "output_type": "stream",
     "text": [
      "<class 'pandas.core.frame.DataFrame'>\n",
      "RangeIndex: 13320 entries, 0 to 13319\n",
      "Data columns (total 12 columns):\n",
      " #   Column                          Non-Null Count  Dtype  \n",
      "---  ------                          --------------  -----  \n",
      " 0   availability                    13320 non-null  object \n",
      " 1   size                            13304 non-null  object \n",
      " 2   society                         7818 non-null   object \n",
      " 3   total_sqft                      13320 non-null  object \n",
      " 4   bath                            13247 non-null  float64\n",
      " 5   balcony                         12711 non-null  float64\n",
      " 6   price                           13320 non-null  float64\n",
      " 7   site_location                   13319 non-null  object \n",
      " 8   area_type_Built-up  Area        13320 non-null  uint8  \n",
      " 9   area_type_Carpet  Area          13320 non-null  uint8  \n",
      " 10  area_type_Plot  Area            13320 non-null  uint8  \n",
      " 11  area_type_Super built-up  Area  13320 non-null  uint8  \n",
      "dtypes: float64(3), object(5), uint8(4)\n",
      "memory usage: 884.7+ KB\n"
     ]
    }
   ],
   "source": [
    "df.info()"
   ]
  },
  {
   "cell_type": "markdown",
   "id": "ab2df74d",
   "metadata": {},
   "source": [
    "### 2. Availability"
   ]
  },
  {
   "cell_type": "code",
   "execution_count": 11,
   "id": "94cae4f5",
   "metadata": {},
   "outputs": [
    {
     "data": {
      "text/plain": [
       "array(['19-Dec', 'Ready To Move', '18-May', '18-Feb', '18-Nov', '20-Dec',\n",
       "       '17-Oct', '21-Dec', '19-Sep', '20-Sep', '18-Mar', '20-Feb',\n",
       "       '18-Apr', '20-Aug', '18-Oct', '19-Mar', '17-Sep', '18-Dec',\n",
       "       '17-Aug', '19-Apr', '18-Jun', '22-Dec', '22-Jan', '18-Aug',\n",
       "       '19-Jan', '17-Jul', '18-Jul', '21-Jun', '20-May', '19-Aug',\n",
       "       '18-Sep', '17-May', '17-Jun', '21-May', '18-Jan', '20-Mar',\n",
       "       '17-Dec', '16-Mar', '19-Jun', '22-Jun', '19-Jul', '21-Feb',\n",
       "       'Immediate Possession', '19-May', '17-Nov', '20-Oct', '20-Jun',\n",
       "       '19-Feb', '21-Oct', '21-Jan', '17-Mar', '17-Apr', '22-May',\n",
       "       '19-Oct', '21-Jul', '21-Nov', '21-Mar', '16-Dec', '22-Mar',\n",
       "       '20-Jan', '21-Sep', '21-Aug', '14-Nov', '19-Nov', '15-Nov',\n",
       "       '16-Jul', '15-Jun', '17-Feb', '20-Nov', '20-Jul', '16-Sep',\n",
       "       '15-Oct', '15-Dec', '16-Oct', '22-Nov', '15-Aug', '17-Jan',\n",
       "       '16-Nov', '20-Apr', '16-Jan', '14-Jul'], dtype=object)"
      ]
     },
     "execution_count": 11,
     "metadata": {},
     "output_type": "execute_result"
    }
   ],
   "source": [
    "df[\"availability\"].unique()"
   ]
  },
  {
   "cell_type": "code",
   "execution_count": 12,
   "id": "08bfb07a",
   "metadata": {},
   "outputs": [
    {
     "data": {
      "text/html": [
       "<div>\n",
       "<style scoped>\n",
       "    .dataframe tbody tr th:only-of-type {\n",
       "        vertical-align: middle;\n",
       "    }\n",
       "\n",
       "    .dataframe tbody tr th {\n",
       "        vertical-align: top;\n",
       "    }\n",
       "\n",
       "    .dataframe thead th {\n",
       "        text-align: right;\n",
       "    }\n",
       "</style>\n",
       "<table border=\"1\" class=\"dataframe\">\n",
       "  <thead>\n",
       "    <tr style=\"text-align: right;\">\n",
       "      <th></th>\n",
       "      <th>availability</th>\n",
       "      <th>size</th>\n",
       "      <th>society</th>\n",
       "      <th>total_sqft</th>\n",
       "      <th>bath</th>\n",
       "      <th>balcony</th>\n",
       "      <th>price</th>\n",
       "      <th>site_location</th>\n",
       "      <th>area_type_Built-up  Area</th>\n",
       "      <th>area_type_Carpet  Area</th>\n",
       "      <th>area_type_Plot  Area</th>\n",
       "      <th>area_type_Super built-up  Area</th>\n",
       "    </tr>\n",
       "  </thead>\n",
       "  <tbody>\n",
       "    <tr>\n",
       "      <th>1</th>\n",
       "      <td>Ready To Move</td>\n",
       "      <td>4 Bedroom</td>\n",
       "      <td>Theanmp</td>\n",
       "      <td>2600</td>\n",
       "      <td>5.0</td>\n",
       "      <td>3.0</td>\n",
       "      <td>120.0</td>\n",
       "      <td>Ambegaon Budruk</td>\n",
       "      <td>0</td>\n",
       "      <td>0</td>\n",
       "      <td>1</td>\n",
       "      <td>0</td>\n",
       "    </tr>\n",
       "    <tr>\n",
       "      <th>2</th>\n",
       "      <td>Ready To Move</td>\n",
       "      <td>3 BHK</td>\n",
       "      <td>NaN</td>\n",
       "      <td>1440</td>\n",
       "      <td>2.0</td>\n",
       "      <td>3.0</td>\n",
       "      <td>62.0</td>\n",
       "      <td>Anandnagar</td>\n",
       "      <td>1</td>\n",
       "      <td>0</td>\n",
       "      <td>0</td>\n",
       "      <td>0</td>\n",
       "    </tr>\n",
       "    <tr>\n",
       "      <th>3</th>\n",
       "      <td>Ready To Move</td>\n",
       "      <td>3 BHK</td>\n",
       "      <td>Soiewre</td>\n",
       "      <td>1521</td>\n",
       "      <td>3.0</td>\n",
       "      <td>1.0</td>\n",
       "      <td>95.0</td>\n",
       "      <td>Aundh</td>\n",
       "      <td>0</td>\n",
       "      <td>0</td>\n",
       "      <td>0</td>\n",
       "      <td>1</td>\n",
       "    </tr>\n",
       "    <tr>\n",
       "      <th>4</th>\n",
       "      <td>Ready To Move</td>\n",
       "      <td>2 BHK</td>\n",
       "      <td>NaN</td>\n",
       "      <td>1200</td>\n",
       "      <td>2.0</td>\n",
       "      <td>1.0</td>\n",
       "      <td>51.0</td>\n",
       "      <td>Aundh Road</td>\n",
       "      <td>0</td>\n",
       "      <td>0</td>\n",
       "      <td>0</td>\n",
       "      <td>1</td>\n",
       "    </tr>\n",
       "    <tr>\n",
       "      <th>5</th>\n",
       "      <td>Ready To Move</td>\n",
       "      <td>2 BHK</td>\n",
       "      <td>DuenaTa</td>\n",
       "      <td>1170</td>\n",
       "      <td>2.0</td>\n",
       "      <td>1.0</td>\n",
       "      <td>38.0</td>\n",
       "      <td>Balaji Nagar</td>\n",
       "      <td>0</td>\n",
       "      <td>0</td>\n",
       "      <td>0</td>\n",
       "      <td>1</td>\n",
       "    </tr>\n",
       "    <tr>\n",
       "      <th>...</th>\n",
       "      <td>...</td>\n",
       "      <td>...</td>\n",
       "      <td>...</td>\n",
       "      <td>...</td>\n",
       "      <td>...</td>\n",
       "      <td>...</td>\n",
       "      <td>...</td>\n",
       "      <td>...</td>\n",
       "      <td>...</td>\n",
       "      <td>...</td>\n",
       "      <td>...</td>\n",
       "      <td>...</td>\n",
       "    </tr>\n",
       "    <tr>\n",
       "      <th>13314</th>\n",
       "      <td>Ready To Move</td>\n",
       "      <td>3 BHK</td>\n",
       "      <td>SoosePr</td>\n",
       "      <td>1715</td>\n",
       "      <td>3.0</td>\n",
       "      <td>3.0</td>\n",
       "      <td>112.0</td>\n",
       "      <td>Parvati Darshan</td>\n",
       "      <td>0</td>\n",
       "      <td>0</td>\n",
       "      <td>0</td>\n",
       "      <td>1</td>\n",
       "    </tr>\n",
       "    <tr>\n",
       "      <th>13315</th>\n",
       "      <td>Ready To Move</td>\n",
       "      <td>5 Bedroom</td>\n",
       "      <td>ArsiaEx</td>\n",
       "      <td>3453</td>\n",
       "      <td>4.0</td>\n",
       "      <td>0.0</td>\n",
       "      <td>231.0</td>\n",
       "      <td>Pashan</td>\n",
       "      <td>1</td>\n",
       "      <td>0</td>\n",
       "      <td>0</td>\n",
       "      <td>0</td>\n",
       "    </tr>\n",
       "    <tr>\n",
       "      <th>13316</th>\n",
       "      <td>Ready To Move</td>\n",
       "      <td>4 BHK</td>\n",
       "      <td>NaN</td>\n",
       "      <td>3600</td>\n",
       "      <td>5.0</td>\n",
       "      <td>NaN</td>\n",
       "      <td>400.0</td>\n",
       "      <td>Paud Road</td>\n",
       "      <td>0</td>\n",
       "      <td>0</td>\n",
       "      <td>0</td>\n",
       "      <td>1</td>\n",
       "    </tr>\n",
       "    <tr>\n",
       "      <th>13317</th>\n",
       "      <td>Ready To Move</td>\n",
       "      <td>2 BHK</td>\n",
       "      <td>Mahla T</td>\n",
       "      <td>1141</td>\n",
       "      <td>2.0</td>\n",
       "      <td>1.0</td>\n",
       "      <td>60.0</td>\n",
       "      <td>Pirangut</td>\n",
       "      <td>1</td>\n",
       "      <td>0</td>\n",
       "      <td>0</td>\n",
       "      <td>0</td>\n",
       "    </tr>\n",
       "    <tr>\n",
       "      <th>13319</th>\n",
       "      <td>Ready To Move</td>\n",
       "      <td>1 BHK</td>\n",
       "      <td>NaN</td>\n",
       "      <td>550</td>\n",
       "      <td>1.0</td>\n",
       "      <td>1.0</td>\n",
       "      <td>17.0</td>\n",
       "      <td>Pune Railway Station</td>\n",
       "      <td>0</td>\n",
       "      <td>0</td>\n",
       "      <td>0</td>\n",
       "      <td>1</td>\n",
       "    </tr>\n",
       "  </tbody>\n",
       "</table>\n",
       "<p>10581 rows × 12 columns</p>\n",
       "</div>"
      ],
      "text/plain": [
       "        availability       size  society total_sqft  bath  balcony  price  \\\n",
       "1      Ready To Move  4 Bedroom  Theanmp       2600   5.0      3.0  120.0   \n",
       "2      Ready To Move      3 BHK      NaN       1440   2.0      3.0   62.0   \n",
       "3      Ready To Move      3 BHK  Soiewre       1521   3.0      1.0   95.0   \n",
       "4      Ready To Move      2 BHK      NaN       1200   2.0      1.0   51.0   \n",
       "5      Ready To Move      2 BHK  DuenaTa       1170   2.0      1.0   38.0   \n",
       "...              ...        ...      ...        ...   ...      ...    ...   \n",
       "13314  Ready To Move      3 BHK  SoosePr       1715   3.0      3.0  112.0   \n",
       "13315  Ready To Move  5 Bedroom  ArsiaEx       3453   4.0      0.0  231.0   \n",
       "13316  Ready To Move      4 BHK      NaN       3600   5.0      NaN  400.0   \n",
       "13317  Ready To Move      2 BHK  Mahla T       1141   2.0      1.0   60.0   \n",
       "13319  Ready To Move      1 BHK      NaN        550   1.0      1.0   17.0   \n",
       "\n",
       "              site_location  area_type_Built-up  Area  area_type_Carpet  Area  \\\n",
       "1           Ambegaon Budruk                         0                       0   \n",
       "2                Anandnagar                         1                       0   \n",
       "3                     Aundh                         0                       0   \n",
       "4                Aundh Road                         0                       0   \n",
       "5              Balaji Nagar                         0                       0   \n",
       "...                     ...                       ...                     ...   \n",
       "13314       Parvati Darshan                         0                       0   \n",
       "13315                Pashan                         1                       0   \n",
       "13316             Paud Road                         0                       0   \n",
       "13317              Pirangut                         1                       0   \n",
       "13319  Pune Railway Station                         0                       0   \n",
       "\n",
       "       area_type_Plot  Area  area_type_Super built-up  Area  \n",
       "1                         1                               0  \n",
       "2                         0                               0  \n",
       "3                         0                               1  \n",
       "4                         0                               1  \n",
       "5                         0                               1  \n",
       "...                     ...                             ...  \n",
       "13314                     0                               1  \n",
       "13315                     0                               0  \n",
       "13316                     0                               1  \n",
       "13317                     0                               0  \n",
       "13319                     0                               1  \n",
       "\n",
       "[10581 rows x 12 columns]"
      ]
     },
     "execution_count": 12,
     "metadata": {},
     "output_type": "execute_result"
    }
   ],
   "source": [
    "df.groupby([\"availability\"]).get_group(\"Ready To Move\")"
   ]
  },
  {
   "cell_type": "code",
   "execution_count": 13,
   "id": "be5ccc7a",
   "metadata": {
    "scrolled": true
   },
   "outputs": [
    {
     "data": {
      "text/html": [
       "<div>\n",
       "<style scoped>\n",
       "    .dataframe tbody tr th:only-of-type {\n",
       "        vertical-align: middle;\n",
       "    }\n",
       "\n",
       "    .dataframe tbody tr th {\n",
       "        vertical-align: top;\n",
       "    }\n",
       "\n",
       "    .dataframe thead th {\n",
       "        text-align: right;\n",
       "    }\n",
       "</style>\n",
       "<table border=\"1\" class=\"dataframe\">\n",
       "  <thead>\n",
       "    <tr style=\"text-align: right;\">\n",
       "      <th></th>\n",
       "      <th>availability</th>\n",
       "      <th>size</th>\n",
       "      <th>society</th>\n",
       "      <th>total_sqft</th>\n",
       "      <th>bath</th>\n",
       "      <th>balcony</th>\n",
       "      <th>price</th>\n",
       "      <th>site_location</th>\n",
       "      <th>area_type_Built-up  Area</th>\n",
       "      <th>area_type_Carpet  Area</th>\n",
       "      <th>area_type_Plot  Area</th>\n",
       "      <th>area_type_Super built-up  Area</th>\n",
       "    </tr>\n",
       "  </thead>\n",
       "  <tbody>\n",
       "    <tr>\n",
       "      <th>579</th>\n",
       "      <td>Immediate Possession</td>\n",
       "      <td>NaN</td>\n",
       "      <td>Asiss B</td>\n",
       "      <td>1200 - 2400</td>\n",
       "      <td>NaN</td>\n",
       "      <td>NaN</td>\n",
       "      <td>34.185</td>\n",
       "      <td>Aundh</td>\n",
       "      <td>0</td>\n",
       "      <td>0</td>\n",
       "      <td>1</td>\n",
       "      <td>0</td>\n",
       "    </tr>\n",
       "    <tr>\n",
       "      <th>1775</th>\n",
       "      <td>Immediate Possession</td>\n",
       "      <td>NaN</td>\n",
       "      <td>Orana N</td>\n",
       "      <td>2000 - 5634</td>\n",
       "      <td>NaN</td>\n",
       "      <td>NaN</td>\n",
       "      <td>124.000</td>\n",
       "      <td>Kondhwa Khurd</td>\n",
       "      <td>0</td>\n",
       "      <td>0</td>\n",
       "      <td>1</td>\n",
       "      <td>0</td>\n",
       "    </tr>\n",
       "    <tr>\n",
       "      <th>2264</th>\n",
       "      <td>Immediate Possession</td>\n",
       "      <td>NaN</td>\n",
       "      <td>NaN</td>\n",
       "      <td>2400</td>\n",
       "      <td>NaN</td>\n",
       "      <td>NaN</td>\n",
       "      <td>460.000</td>\n",
       "      <td>Market yard</td>\n",
       "      <td>0</td>\n",
       "      <td>0</td>\n",
       "      <td>1</td>\n",
       "      <td>0</td>\n",
       "    </tr>\n",
       "    <tr>\n",
       "      <th>2809</th>\n",
       "      <td>Immediate Possession</td>\n",
       "      <td>NaN</td>\n",
       "      <td>AsdiaAr</td>\n",
       "      <td>1200 - 2400</td>\n",
       "      <td>NaN</td>\n",
       "      <td>NaN</td>\n",
       "      <td>28.785</td>\n",
       "      <td>Fergusson College Road</td>\n",
       "      <td>0</td>\n",
       "      <td>0</td>\n",
       "      <td>1</td>\n",
       "      <td>0</td>\n",
       "    </tr>\n",
       "    <tr>\n",
       "      <th>2862</th>\n",
       "      <td>Immediate Possession</td>\n",
       "      <td>NaN</td>\n",
       "      <td>Ajleyor</td>\n",
       "      <td>1500 - 2400</td>\n",
       "      <td>NaN</td>\n",
       "      <td>NaN</td>\n",
       "      <td>46.800</td>\n",
       "      <td>Satara Road</td>\n",
       "      <td>0</td>\n",
       "      <td>0</td>\n",
       "      <td>1</td>\n",
       "      <td>0</td>\n",
       "    </tr>\n",
       "    <tr>\n",
       "      <th>5333</th>\n",
       "      <td>Immediate Possession</td>\n",
       "      <td>NaN</td>\n",
       "      <td>Emngs S</td>\n",
       "      <td>2100 - 5405</td>\n",
       "      <td>NaN</td>\n",
       "      <td>NaN</td>\n",
       "      <td>177.115</td>\n",
       "      <td>Mahatma Gandhi Road</td>\n",
       "      <td>0</td>\n",
       "      <td>0</td>\n",
       "      <td>1</td>\n",
       "      <td>0</td>\n",
       "    </tr>\n",
       "    <tr>\n",
       "      <th>6423</th>\n",
       "      <td>Immediate Possession</td>\n",
       "      <td>NaN</td>\n",
       "      <td>SRniaGa</td>\n",
       "      <td>2324</td>\n",
       "      <td>NaN</td>\n",
       "      <td>NaN</td>\n",
       "      <td>26.730</td>\n",
       "      <td>Uruli Devachi</td>\n",
       "      <td>0</td>\n",
       "      <td>0</td>\n",
       "      <td>1</td>\n",
       "      <td>0</td>\n",
       "    </tr>\n",
       "    <tr>\n",
       "      <th>6636</th>\n",
       "      <td>Immediate Possession</td>\n",
       "      <td>NaN</td>\n",
       "      <td>S2enste</td>\n",
       "      <td>1500</td>\n",
       "      <td>NaN</td>\n",
       "      <td>NaN</td>\n",
       "      <td>25.490</td>\n",
       "      <td>Bopodi</td>\n",
       "      <td>0</td>\n",
       "      <td>0</td>\n",
       "      <td>1</td>\n",
       "      <td>0</td>\n",
       "    </tr>\n",
       "    <tr>\n",
       "      <th>6719</th>\n",
       "      <td>Immediate Possession</td>\n",
       "      <td>NaN</td>\n",
       "      <td>SJowsn</td>\n",
       "      <td>800 - 2660</td>\n",
       "      <td>NaN</td>\n",
       "      <td>NaN</td>\n",
       "      <td>28.545</td>\n",
       "      <td>Warje</td>\n",
       "      <td>0</td>\n",
       "      <td>0</td>\n",
       "      <td>1</td>\n",
       "      <td>0</td>\n",
       "    </tr>\n",
       "    <tr>\n",
       "      <th>7680</th>\n",
       "      <td>Immediate Possession</td>\n",
       "      <td>NaN</td>\n",
       "      <td>NaN</td>\n",
       "      <td>5000</td>\n",
       "      <td>NaN</td>\n",
       "      <td>NaN</td>\n",
       "      <td>400.000</td>\n",
       "      <td>Yerawada</td>\n",
       "      <td>0</td>\n",
       "      <td>0</td>\n",
       "      <td>1</td>\n",
       "      <td>0</td>\n",
       "    </tr>\n",
       "    <tr>\n",
       "      <th>8306</th>\n",
       "      <td>Immediate Possession</td>\n",
       "      <td>NaN</td>\n",
       "      <td>Vaensnd</td>\n",
       "      <td>1453</td>\n",
       "      <td>NaN</td>\n",
       "      <td>NaN</td>\n",
       "      <td>16.500</td>\n",
       "      <td>Law College Road</td>\n",
       "      <td>0</td>\n",
       "      <td>0</td>\n",
       "      <td>1</td>\n",
       "      <td>0</td>\n",
       "    </tr>\n",
       "    <tr>\n",
       "      <th>8565</th>\n",
       "      <td>Immediate Possession</td>\n",
       "      <td>NaN</td>\n",
       "      <td>Ocezes</td>\n",
       "      <td>2000</td>\n",
       "      <td>NaN</td>\n",
       "      <td>NaN</td>\n",
       "      <td>120.000</td>\n",
       "      <td>Dhayari Phata</td>\n",
       "      <td>0</td>\n",
       "      <td>0</td>\n",
       "      <td>1</td>\n",
       "      <td>0</td>\n",
       "    </tr>\n",
       "    <tr>\n",
       "      <th>8703</th>\n",
       "      <td>Immediate Possession</td>\n",
       "      <td>NaN</td>\n",
       "      <td>Naoden</td>\n",
       "      <td>1200 - 2400</td>\n",
       "      <td>NaN</td>\n",
       "      <td>NaN</td>\n",
       "      <td>42.300</td>\n",
       "      <td>Narayangaon</td>\n",
       "      <td>0</td>\n",
       "      <td>0</td>\n",
       "      <td>1</td>\n",
       "      <td>0</td>\n",
       "    </tr>\n",
       "    <tr>\n",
       "      <th>10634</th>\n",
       "      <td>Immediate Possession</td>\n",
       "      <td>NaN</td>\n",
       "      <td>NaN</td>\n",
       "      <td>1575</td>\n",
       "      <td>NaN</td>\n",
       "      <td>NaN</td>\n",
       "      <td>31.110</td>\n",
       "      <td>Sadashiv Peth</td>\n",
       "      <td>0</td>\n",
       "      <td>0</td>\n",
       "      <td>1</td>\n",
       "      <td>0</td>\n",
       "    </tr>\n",
       "    <tr>\n",
       "      <th>11019</th>\n",
       "      <td>Immediate Possession</td>\n",
       "      <td>NaN</td>\n",
       "      <td>Saaveha</td>\n",
       "      <td>1200 - 1800</td>\n",
       "      <td>NaN</td>\n",
       "      <td>NaN</td>\n",
       "      <td>12.750</td>\n",
       "      <td>Sahakar Nagar</td>\n",
       "      <td>0</td>\n",
       "      <td>0</td>\n",
       "      <td>1</td>\n",
       "      <td>0</td>\n",
       "    </tr>\n",
       "    <tr>\n",
       "      <th>11569</th>\n",
       "      <td>Immediate Possession</td>\n",
       "      <td>NaN</td>\n",
       "      <td>AVeldun</td>\n",
       "      <td>1350</td>\n",
       "      <td>NaN</td>\n",
       "      <td>NaN</td>\n",
       "      <td>8.440</td>\n",
       "      <td>Kothrud</td>\n",
       "      <td>0</td>\n",
       "      <td>0</td>\n",
       "      <td>1</td>\n",
       "      <td>0</td>\n",
       "    </tr>\n",
       "  </tbody>\n",
       "</table>\n",
       "</div>"
      ],
      "text/plain": [
       "               availability size  society   total_sqft  bath  balcony  \\\n",
       "579    Immediate Possession  NaN  Asiss B  1200 - 2400   NaN      NaN   \n",
       "1775   Immediate Possession  NaN  Orana N  2000 - 5634   NaN      NaN   \n",
       "2264   Immediate Possession  NaN      NaN         2400   NaN      NaN   \n",
       "2809   Immediate Possession  NaN  AsdiaAr  1200 - 2400   NaN      NaN   \n",
       "2862   Immediate Possession  NaN  Ajleyor  1500 - 2400   NaN      NaN   \n",
       "5333   Immediate Possession  NaN  Emngs S  2100 - 5405   NaN      NaN   \n",
       "6423   Immediate Possession  NaN  SRniaGa         2324   NaN      NaN   \n",
       "6636   Immediate Possession  NaN  S2enste         1500   NaN      NaN   \n",
       "6719   Immediate Possession  NaN  SJowsn    800 - 2660   NaN      NaN   \n",
       "7680   Immediate Possession  NaN      NaN         5000   NaN      NaN   \n",
       "8306   Immediate Possession  NaN  Vaensnd         1453   NaN      NaN   \n",
       "8565   Immediate Possession  NaN  Ocezes          2000   NaN      NaN   \n",
       "8703   Immediate Possession  NaN  Naoden   1200 - 2400   NaN      NaN   \n",
       "10634  Immediate Possession  NaN      NaN         1575   NaN      NaN   \n",
       "11019  Immediate Possession  NaN  Saaveha  1200 - 1800   NaN      NaN   \n",
       "11569  Immediate Possession  NaN  AVeldun         1350   NaN      NaN   \n",
       "\n",
       "         price           site_location  area_type_Built-up  Area  \\\n",
       "579     34.185                   Aundh                         0   \n",
       "1775   124.000           Kondhwa Khurd                         0   \n",
       "2264   460.000             Market yard                         0   \n",
       "2809    28.785  Fergusson College Road                         0   \n",
       "2862    46.800             Satara Road                         0   \n",
       "5333   177.115     Mahatma Gandhi Road                         0   \n",
       "6423    26.730           Uruli Devachi                         0   \n",
       "6636    25.490                  Bopodi                         0   \n",
       "6719    28.545                   Warje                         0   \n",
       "7680   400.000                Yerawada                         0   \n",
       "8306    16.500        Law College Road                         0   \n",
       "8565   120.000           Dhayari Phata                         0   \n",
       "8703    42.300             Narayangaon                         0   \n",
       "10634   31.110           Sadashiv Peth                         0   \n",
       "11019   12.750           Sahakar Nagar                         0   \n",
       "11569    8.440                 Kothrud                         0   \n",
       "\n",
       "       area_type_Carpet  Area  area_type_Plot  Area  \\\n",
       "579                         0                     1   \n",
       "1775                        0                     1   \n",
       "2264                        0                     1   \n",
       "2809                        0                     1   \n",
       "2862                        0                     1   \n",
       "5333                        0                     1   \n",
       "6423                        0                     1   \n",
       "6636                        0                     1   \n",
       "6719                        0                     1   \n",
       "7680                        0                     1   \n",
       "8306                        0                     1   \n",
       "8565                        0                     1   \n",
       "8703                        0                     1   \n",
       "10634                       0                     1   \n",
       "11019                       0                     1   \n",
       "11569                       0                     1   \n",
       "\n",
       "       area_type_Super built-up  Area  \n",
       "579                                 0  \n",
       "1775                                0  \n",
       "2264                                0  \n",
       "2809                                0  \n",
       "2862                                0  \n",
       "5333                                0  \n",
       "6423                                0  \n",
       "6636                                0  \n",
       "6719                                0  \n",
       "7680                                0  \n",
       "8306                                0  \n",
       "8565                                0  \n",
       "8703                                0  \n",
       "10634                               0  \n",
       "11019                               0  \n",
       "11569                               0  "
      ]
     },
     "execution_count": 13,
     "metadata": {},
     "output_type": "execute_result"
    }
   ],
   "source": [
    "df.groupby([\"availability\"]).get_group(\"Immediate Possession\")"
   ]
  },
  {
   "cell_type": "code",
   "execution_count": 14,
   "id": "a1612d9c",
   "metadata": {},
   "outputs": [],
   "source": [
    "import regex as re\n",
    "def pattern(value):\n",
    "    pat = re.findall(r\"^\\d{2}-[A-Za-z]{3}$\",value)\n",
    "    if pat:\n",
    "        return value\n",
    "    else:\n",
    "        return 0\n",
    "\n"
   ]
  },
  {
   "cell_type": "code",
   "execution_count": 15,
   "id": "211b3d20",
   "metadata": {},
   "outputs": [],
   "source": [
    "df[\"availability_date\\month\"] = df[\"availability\"].apply(pattern)"
   ]
  },
  {
   "cell_type": "code",
   "execution_count": 16,
   "id": "53c006d6",
   "metadata": {},
   "outputs": [
    {
     "data": {
      "text/plain": [
       "1"
      ]
     },
     "execution_count": 16,
     "metadata": {},
     "output_type": "execute_result"
    }
   ],
   "source": [
    "def Immediate_Possession(value):\n",
    "    if value == \"Immediate Possession\":\n",
    "        return 1 \n",
    "    else:\n",
    "        return 0\n",
    "    \n",
    "Immediate_Possession(\"Immediate Possession\")"
   ]
  },
  {
   "cell_type": "code",
   "execution_count": 17,
   "id": "4c8ff43a",
   "metadata": {},
   "outputs": [],
   "source": [
    "def Ready_To_Move(value):\n",
    "    if value == \"Ready To Move\":\n",
    "        return 1\n",
    "    else:\n",
    "        return 0\n",
    "    \n"
   ]
  },
  {
   "cell_type": "code",
   "execution_count": 18,
   "id": "f9b3b2ac",
   "metadata": {},
   "outputs": [],
   "source": [
    "df[\"Availability_Ready_To_Move\"] = df[\"availability\"].apply(Ready_To_Move)\n",
    "df[\"Availability_Immediate_Possession\"] = df[\"availability\"].apply(Immediate_Possession)"
   ]
  },
  {
   "cell_type": "code",
   "execution_count": 19,
   "id": "c8b58db8",
   "metadata": {},
   "outputs": [
    {
     "data": {
      "text/plain": [
       "{'month': 10, 'day': 17}"
      ]
     },
     "execution_count": 19,
     "metadata": {},
     "output_type": "execute_result"
    }
   ],
   "source": [
    "def date_convert(value):\n",
    "    try:\n",
    "        data = pd.to_datetime(value,format=\"%d-%b\")\n",
    "        month =  data.month\n",
    "        day = data.day\n",
    "        return {\"month\":month,\"day\":day}\n",
    "    except:\n",
    "        return {\"month\":0,\"day\":0}\n",
    "date_convert('17-Oct')   "
   ]
  },
  {
   "cell_type": "code",
   "execution_count": 20,
   "id": "24d56a26",
   "metadata": {},
   "outputs": [],
   "source": [
    "df[\"Availability_day\"] = df[\"availability_date\\month\"].apply(date_convert)\n",
    "df[[\"Availability_Month\",\"Availability_Day\"]] = df[\"Availability_day\"].apply(pd.Series)"
   ]
  },
  {
   "cell_type": "code",
   "execution_count": 21,
   "id": "76e14bcc",
   "metadata": {},
   "outputs": [
    {
     "data": {
      "text/html": [
       "<div>\n",
       "<style scoped>\n",
       "    .dataframe tbody tr th:only-of-type {\n",
       "        vertical-align: middle;\n",
       "    }\n",
       "\n",
       "    .dataframe tbody tr th {\n",
       "        vertical-align: top;\n",
       "    }\n",
       "\n",
       "    .dataframe thead th {\n",
       "        text-align: right;\n",
       "    }\n",
       "</style>\n",
       "<table border=\"1\" class=\"dataframe\">\n",
       "  <thead>\n",
       "    <tr style=\"text-align: right;\">\n",
       "      <th></th>\n",
       "      <th>availability</th>\n",
       "      <th>size</th>\n",
       "      <th>society</th>\n",
       "      <th>total_sqft</th>\n",
       "      <th>bath</th>\n",
       "      <th>balcony</th>\n",
       "      <th>price</th>\n",
       "      <th>site_location</th>\n",
       "      <th>area_type_Built-up  Area</th>\n",
       "      <th>area_type_Carpet  Area</th>\n",
       "      <th>area_type_Plot  Area</th>\n",
       "      <th>area_type_Super built-up  Area</th>\n",
       "      <th>availability_date\\month</th>\n",
       "      <th>Availability_Ready_To_Move</th>\n",
       "      <th>Availability_Immediate_Possession</th>\n",
       "      <th>Availability_day</th>\n",
       "      <th>Availability_Month</th>\n",
       "      <th>Availability_Day</th>\n",
       "    </tr>\n",
       "  </thead>\n",
       "  <tbody>\n",
       "    <tr>\n",
       "      <th>0</th>\n",
       "      <td>19-Dec</td>\n",
       "      <td>2 BHK</td>\n",
       "      <td>Coomee</td>\n",
       "      <td>1056</td>\n",
       "      <td>2.0</td>\n",
       "      <td>1.0</td>\n",
       "      <td>39.07</td>\n",
       "      <td>Alandi Road</td>\n",
       "      <td>0</td>\n",
       "      <td>0</td>\n",
       "      <td>0</td>\n",
       "      <td>1</td>\n",
       "      <td>19-Dec</td>\n",
       "      <td>0</td>\n",
       "      <td>0</td>\n",
       "      <td>{'month': 12, 'day': 19}</td>\n",
       "      <td>12</td>\n",
       "      <td>19</td>\n",
       "    </tr>\n",
       "    <tr>\n",
       "      <th>1</th>\n",
       "      <td>Ready To Move</td>\n",
       "      <td>4 Bedroom</td>\n",
       "      <td>Theanmp</td>\n",
       "      <td>2600</td>\n",
       "      <td>5.0</td>\n",
       "      <td>3.0</td>\n",
       "      <td>120.00</td>\n",
       "      <td>Ambegaon Budruk</td>\n",
       "      <td>0</td>\n",
       "      <td>0</td>\n",
       "      <td>1</td>\n",
       "      <td>0</td>\n",
       "      <td>0</td>\n",
       "      <td>1</td>\n",
       "      <td>0</td>\n",
       "      <td>{'month': 0, 'day': 0}</td>\n",
       "      <td>0</td>\n",
       "      <td>0</td>\n",
       "    </tr>\n",
       "    <tr>\n",
       "      <th>2</th>\n",
       "      <td>Ready To Move</td>\n",
       "      <td>3 BHK</td>\n",
       "      <td>NaN</td>\n",
       "      <td>1440</td>\n",
       "      <td>2.0</td>\n",
       "      <td>3.0</td>\n",
       "      <td>62.00</td>\n",
       "      <td>Anandnagar</td>\n",
       "      <td>1</td>\n",
       "      <td>0</td>\n",
       "      <td>0</td>\n",
       "      <td>0</td>\n",
       "      <td>0</td>\n",
       "      <td>1</td>\n",
       "      <td>0</td>\n",
       "      <td>{'month': 0, 'day': 0}</td>\n",
       "      <td>0</td>\n",
       "      <td>0</td>\n",
       "    </tr>\n",
       "    <tr>\n",
       "      <th>3</th>\n",
       "      <td>Ready To Move</td>\n",
       "      <td>3 BHK</td>\n",
       "      <td>Soiewre</td>\n",
       "      <td>1521</td>\n",
       "      <td>3.0</td>\n",
       "      <td>1.0</td>\n",
       "      <td>95.00</td>\n",
       "      <td>Aundh</td>\n",
       "      <td>0</td>\n",
       "      <td>0</td>\n",
       "      <td>0</td>\n",
       "      <td>1</td>\n",
       "      <td>0</td>\n",
       "      <td>1</td>\n",
       "      <td>0</td>\n",
       "      <td>{'month': 0, 'day': 0}</td>\n",
       "      <td>0</td>\n",
       "      <td>0</td>\n",
       "    </tr>\n",
       "    <tr>\n",
       "      <th>4</th>\n",
       "      <td>Ready To Move</td>\n",
       "      <td>2 BHK</td>\n",
       "      <td>NaN</td>\n",
       "      <td>1200</td>\n",
       "      <td>2.0</td>\n",
       "      <td>1.0</td>\n",
       "      <td>51.00</td>\n",
       "      <td>Aundh Road</td>\n",
       "      <td>0</td>\n",
       "      <td>0</td>\n",
       "      <td>0</td>\n",
       "      <td>1</td>\n",
       "      <td>0</td>\n",
       "      <td>1</td>\n",
       "      <td>0</td>\n",
       "      <td>{'month': 0, 'day': 0}</td>\n",
       "      <td>0</td>\n",
       "      <td>0</td>\n",
       "    </tr>\n",
       "  </tbody>\n",
       "</table>\n",
       "</div>"
      ],
      "text/plain": [
       "    availability       size  society total_sqft  bath  balcony   price  \\\n",
       "0         19-Dec      2 BHK  Coomee        1056   2.0      1.0   39.07   \n",
       "1  Ready To Move  4 Bedroom  Theanmp       2600   5.0      3.0  120.00   \n",
       "2  Ready To Move      3 BHK      NaN       1440   2.0      3.0   62.00   \n",
       "3  Ready To Move      3 BHK  Soiewre       1521   3.0      1.0   95.00   \n",
       "4  Ready To Move      2 BHK      NaN       1200   2.0      1.0   51.00   \n",
       "\n",
       "     site_location  area_type_Built-up  Area  area_type_Carpet  Area  \\\n",
       "0      Alandi Road                         0                       0   \n",
       "1  Ambegaon Budruk                         0                       0   \n",
       "2       Anandnagar                         1                       0   \n",
       "3            Aundh                         0                       0   \n",
       "4       Aundh Road                         0                       0   \n",
       "\n",
       "   area_type_Plot  Area  area_type_Super built-up  Area  \\\n",
       "0                     0                               1   \n",
       "1                     1                               0   \n",
       "2                     0                               0   \n",
       "3                     0                               1   \n",
       "4                     0                               1   \n",
       "\n",
       "  availability_date\\month  Availability_Ready_To_Move  \\\n",
       "0                  19-Dec                           0   \n",
       "1                       0                           1   \n",
       "2                       0                           1   \n",
       "3                       0                           1   \n",
       "4                       0                           1   \n",
       "\n",
       "   Availability_Immediate_Possession          Availability_day  \\\n",
       "0                                  0  {'month': 12, 'day': 19}   \n",
       "1                                  0    {'month': 0, 'day': 0}   \n",
       "2                                  0    {'month': 0, 'day': 0}   \n",
       "3                                  0    {'month': 0, 'day': 0}   \n",
       "4                                  0    {'month': 0, 'day': 0}   \n",
       "\n",
       "   Availability_Month  Availability_Day  \n",
       "0                  12                19  \n",
       "1                   0                 0  \n",
       "2                   0                 0  \n",
       "3                   0                 0  \n",
       "4                   0                 0  "
      ]
     },
     "execution_count": 21,
     "metadata": {},
     "output_type": "execute_result"
    }
   ],
   "source": [
    "df.head(5)"
   ]
  },
  {
   "cell_type": "code",
   "execution_count": 22,
   "id": "51e78579",
   "metadata": {},
   "outputs": [],
   "source": [
    "df.drop([\"availability\",\"availability_date\\month\",\"Availability_day\"],axis=1,inplace=True)"
   ]
  },
  {
   "cell_type": "code",
   "execution_count": 23,
   "id": "fdad509d",
   "metadata": {},
   "outputs": [
    {
     "data": {
      "text/plain": [
       "0    13304\n",
       "1       16\n",
       "Name: Availability_Immediate_Possession, dtype: int64"
      ]
     },
     "execution_count": 23,
     "metadata": {},
     "output_type": "execute_result"
    }
   ],
   "source": [
    "df[\"Availability_Immediate_Possession\"].value_counts()"
   ]
  },
  {
   "cell_type": "code",
   "execution_count": 24,
   "id": "8bb84c2b",
   "metadata": {},
   "outputs": [
    {
     "data": {
      "text/plain": [
       "0"
      ]
     },
     "execution_count": 24,
     "metadata": {},
     "output_type": "execute_result"
    }
   ],
   "source": [
    "df[\"Availability_Immediate_Possession\"].isna().sum()"
   ]
  },
  {
   "cell_type": "code",
   "execution_count": 25,
   "id": "8a046ba9",
   "metadata": {},
   "outputs": [
    {
     "name": "stdout",
     "output_type": "stream",
     "text": [
      "<class 'pandas.core.frame.DataFrame'>\n",
      "RangeIndex: 13320 entries, 0 to 13319\n",
      "Data columns (total 15 columns):\n",
      " #   Column                             Non-Null Count  Dtype  \n",
      "---  ------                             --------------  -----  \n",
      " 0   size                               13304 non-null  object \n",
      " 1   society                            7818 non-null   object \n",
      " 2   total_sqft                         13320 non-null  object \n",
      " 3   bath                               13247 non-null  float64\n",
      " 4   balcony                            12711 non-null  float64\n",
      " 5   price                              13320 non-null  float64\n",
      " 6   site_location                      13319 non-null  object \n",
      " 7   area_type_Built-up  Area           13320 non-null  uint8  \n",
      " 8   area_type_Carpet  Area             13320 non-null  uint8  \n",
      " 9   area_type_Plot  Area               13320 non-null  uint8  \n",
      " 10  area_type_Super built-up  Area     13320 non-null  uint8  \n",
      " 11  Availability_Ready_To_Move         13320 non-null  int64  \n",
      " 12  Availability_Immediate_Possession  13320 non-null  int64  \n",
      " 13  Availability_Month                 13320 non-null  int64  \n",
      " 14  Availability_Day                   13320 non-null  int64  \n",
      "dtypes: float64(3), int64(4), object(4), uint8(4)\n",
      "memory usage: 1.2+ MB\n"
     ]
    }
   ],
   "source": [
    "df.info()"
   ]
  },
  {
   "cell_type": "markdown",
   "id": "03a99ee7",
   "metadata": {},
   "source": [
    "### 3. Size"
   ]
  },
  {
   "cell_type": "code",
   "execution_count": 26,
   "id": "8d7cda88",
   "metadata": {
    "scrolled": true
   },
   "outputs": [
    {
     "data": {
      "text/plain": [
       "array(['2 BHK', '4 Bedroom', '3 BHK', '4 BHK', '6 Bedroom', '3 Bedroom',\n",
       "       '1 BHK', '1 RK', '1 Bedroom', '8 Bedroom', '2 Bedroom',\n",
       "       '7 Bedroom', '5 BHK', '7 BHK', '6 BHK', '5 Bedroom', '11 BHK',\n",
       "       '9 BHK', nan, '9 Bedroom', '27 BHK', '10 Bedroom', '11 Bedroom',\n",
       "       '10 BHK', '19 BHK', '16 BHK', '43 Bedroom', '14 BHK', '8 BHK',\n",
       "       '12 Bedroom', '13 BHK', '18 Bedroom'], dtype=object)"
      ]
     },
     "execution_count": 26,
     "metadata": {},
     "output_type": "execute_result"
    }
   ],
   "source": [
    "df[\"size\"].unique()"
   ]
  },
  {
   "cell_type": "code",
   "execution_count": 27,
   "id": "2bf8be89",
   "metadata": {},
   "outputs": [
    {
     "data": {
      "text/plain": [
       "2 BHK         5199\n",
       "3 BHK         4310\n",
       "4 Bedroom      826\n",
       "4 BHK          591\n",
       "3 Bedroom      547\n",
       "1 BHK          538\n",
       "2 Bedroom      329\n",
       "5 Bedroom      297\n",
       "6 Bedroom      191\n",
       "1 Bedroom      105\n",
       "8 Bedroom       84\n",
       "7 Bedroom       83\n",
       "5 BHK           59\n",
       "9 Bedroom       46\n",
       "6 BHK           30\n",
       "7 BHK           17\n",
       "1 RK            13\n",
       "10 Bedroom      12\n",
       "9 BHK            8\n",
       "8 BHK            5\n",
       "11 BHK           2\n",
       "11 Bedroom       2\n",
       "10 BHK           2\n",
       "14 BHK           1\n",
       "13 BHK           1\n",
       "12 Bedroom       1\n",
       "27 BHK           1\n",
       "43 Bedroom       1\n",
       "16 BHK           1\n",
       "19 BHK           1\n",
       "18 Bedroom       1\n",
       "Name: size, dtype: int64"
      ]
     },
     "execution_count": 27,
     "metadata": {},
     "output_type": "execute_result"
    }
   ],
   "source": [
    "df[\"size\"].value_counts()"
   ]
  },
  {
   "cell_type": "code",
   "execution_count": 28,
   "id": "422268cd",
   "metadata": {},
   "outputs": [
    {
     "name": "stdout",
     "output_type": "stream",
     "text": [
      "<class 'pandas.core.frame.DataFrame'>\n",
      "RangeIndex: 13320 entries, 0 to 13319\n",
      "Data columns (total 15 columns):\n",
      " #   Column                             Non-Null Count  Dtype  \n",
      "---  ------                             --------------  -----  \n",
      " 0   size                               13304 non-null  object \n",
      " 1   society                            7818 non-null   object \n",
      " 2   total_sqft                         13320 non-null  object \n",
      " 3   bath                               13247 non-null  float64\n",
      " 4   balcony                            12711 non-null  float64\n",
      " 5   price                              13320 non-null  float64\n",
      " 6   site_location                      13319 non-null  object \n",
      " 7   area_type_Built-up  Area           13320 non-null  uint8  \n",
      " 8   area_type_Carpet  Area             13320 non-null  uint8  \n",
      " 9   area_type_Plot  Area               13320 non-null  uint8  \n",
      " 10  area_type_Super built-up  Area     13320 non-null  uint8  \n",
      " 11  Availability_Ready_To_Move         13320 non-null  int64  \n",
      " 12  Availability_Immediate_Possession  13320 non-null  int64  \n",
      " 13  Availability_Month                 13320 non-null  int64  \n",
      " 14  Availability_Day                   13320 non-null  int64  \n",
      "dtypes: float64(3), int64(4), object(4), uint8(4)\n",
      "memory usage: 1.2+ MB\n"
     ]
    }
   ],
   "source": [
    "df.info()"
   ]
  },
  {
   "cell_type": "code",
   "execution_count": 29,
   "id": "d9028eba",
   "metadata": {},
   "outputs": [
    {
     "data": {
      "text/plain": [
       "size                                   16\n",
       "society                              5502\n",
       "total_sqft                              0\n",
       "bath                                   73\n",
       "balcony                               609\n",
       "price                                   0\n",
       "site_location                           1\n",
       "area_type_Built-up  Area                0\n",
       "area_type_Carpet  Area                  0\n",
       "area_type_Plot  Area                    0\n",
       "area_type_Super built-up  Area          0\n",
       "Availability_Ready_To_Move              0\n",
       "Availability_Immediate_Possession       0\n",
       "Availability_Month                      0\n",
       "Availability_Day                        0\n",
       "dtype: int64"
      ]
     },
     "execution_count": 29,
     "metadata": {},
     "output_type": "execute_result"
    }
   ],
   "source": [
    "df.isna().sum()"
   ]
  },
  {
   "cell_type": "code",
   "execution_count": 30,
   "id": "f2bb96bd",
   "metadata": {},
   "outputs": [],
   "source": [
    "#  Dropping the NaN values\n",
    "\n",
    "df.dropna(subset=[\"size\"],inplace=True)"
   ]
  },
  {
   "cell_type": "code",
   "execution_count": 31,
   "id": "2c70ef46",
   "metadata": {},
   "outputs": [],
   "source": [
    "#   Splitting the Numbers and BHK seperate \n",
    "\n",
    "df['BHK'] = df['size'].apply(lambda x: int(x.split(' ')[0]))"
   ]
  },
  {
   "cell_type": "code",
   "execution_count": 32,
   "id": "d70a7b7a",
   "metadata": {},
   "outputs": [],
   "source": [
    "df.drop(\"size\",axis=1,inplace=True)"
   ]
  },
  {
   "cell_type": "code",
   "execution_count": 33,
   "id": "7b3c80c4",
   "metadata": {
    "scrolled": false
   },
   "outputs": [
    {
     "data": {
      "text/html": [
       "<div>\n",
       "<style scoped>\n",
       "    .dataframe tbody tr th:only-of-type {\n",
       "        vertical-align: middle;\n",
       "    }\n",
       "\n",
       "    .dataframe tbody tr th {\n",
       "        vertical-align: top;\n",
       "    }\n",
       "\n",
       "    .dataframe thead th {\n",
       "        text-align: right;\n",
       "    }\n",
       "</style>\n",
       "<table border=\"1\" class=\"dataframe\">\n",
       "  <thead>\n",
       "    <tr style=\"text-align: right;\">\n",
       "      <th></th>\n",
       "      <th>society</th>\n",
       "      <th>total_sqft</th>\n",
       "      <th>bath</th>\n",
       "      <th>balcony</th>\n",
       "      <th>price</th>\n",
       "      <th>site_location</th>\n",
       "      <th>area_type_Built-up  Area</th>\n",
       "      <th>area_type_Carpet  Area</th>\n",
       "      <th>area_type_Plot  Area</th>\n",
       "      <th>area_type_Super built-up  Area</th>\n",
       "      <th>Availability_Ready_To_Move</th>\n",
       "      <th>Availability_Immediate_Possession</th>\n",
       "      <th>Availability_Month</th>\n",
       "      <th>Availability_Day</th>\n",
       "      <th>BHK</th>\n",
       "    </tr>\n",
       "  </thead>\n",
       "  <tbody>\n",
       "    <tr>\n",
       "      <th>0</th>\n",
       "      <td>Coomee</td>\n",
       "      <td>1056</td>\n",
       "      <td>2.0</td>\n",
       "      <td>1.0</td>\n",
       "      <td>39.07</td>\n",
       "      <td>Alandi Road</td>\n",
       "      <td>0</td>\n",
       "      <td>0</td>\n",
       "      <td>0</td>\n",
       "      <td>1</td>\n",
       "      <td>0</td>\n",
       "      <td>0</td>\n",
       "      <td>12</td>\n",
       "      <td>19</td>\n",
       "      <td>2</td>\n",
       "    </tr>\n",
       "    <tr>\n",
       "      <th>1</th>\n",
       "      <td>Theanmp</td>\n",
       "      <td>2600</td>\n",
       "      <td>5.0</td>\n",
       "      <td>3.0</td>\n",
       "      <td>120.00</td>\n",
       "      <td>Ambegaon Budruk</td>\n",
       "      <td>0</td>\n",
       "      <td>0</td>\n",
       "      <td>1</td>\n",
       "      <td>0</td>\n",
       "      <td>1</td>\n",
       "      <td>0</td>\n",
       "      <td>0</td>\n",
       "      <td>0</td>\n",
       "      <td>4</td>\n",
       "    </tr>\n",
       "    <tr>\n",
       "      <th>2</th>\n",
       "      <td>NaN</td>\n",
       "      <td>1440</td>\n",
       "      <td>2.0</td>\n",
       "      <td>3.0</td>\n",
       "      <td>62.00</td>\n",
       "      <td>Anandnagar</td>\n",
       "      <td>1</td>\n",
       "      <td>0</td>\n",
       "      <td>0</td>\n",
       "      <td>0</td>\n",
       "      <td>1</td>\n",
       "      <td>0</td>\n",
       "      <td>0</td>\n",
       "      <td>0</td>\n",
       "      <td>3</td>\n",
       "    </tr>\n",
       "    <tr>\n",
       "      <th>3</th>\n",
       "      <td>Soiewre</td>\n",
       "      <td>1521</td>\n",
       "      <td>3.0</td>\n",
       "      <td>1.0</td>\n",
       "      <td>95.00</td>\n",
       "      <td>Aundh</td>\n",
       "      <td>0</td>\n",
       "      <td>0</td>\n",
       "      <td>0</td>\n",
       "      <td>1</td>\n",
       "      <td>1</td>\n",
       "      <td>0</td>\n",
       "      <td>0</td>\n",
       "      <td>0</td>\n",
       "      <td>3</td>\n",
       "    </tr>\n",
       "    <tr>\n",
       "      <th>4</th>\n",
       "      <td>NaN</td>\n",
       "      <td>1200</td>\n",
       "      <td>2.0</td>\n",
       "      <td>1.0</td>\n",
       "      <td>51.00</td>\n",
       "      <td>Aundh Road</td>\n",
       "      <td>0</td>\n",
       "      <td>0</td>\n",
       "      <td>0</td>\n",
       "      <td>1</td>\n",
       "      <td>1</td>\n",
       "      <td>0</td>\n",
       "      <td>0</td>\n",
       "      <td>0</td>\n",
       "      <td>2</td>\n",
       "    </tr>\n",
       "  </tbody>\n",
       "</table>\n",
       "</div>"
      ],
      "text/plain": [
       "   society total_sqft  bath  balcony   price    site_location  \\\n",
       "0  Coomee        1056   2.0      1.0   39.07      Alandi Road   \n",
       "1  Theanmp       2600   5.0      3.0  120.00  Ambegaon Budruk   \n",
       "2      NaN       1440   2.0      3.0   62.00       Anandnagar   \n",
       "3  Soiewre       1521   3.0      1.0   95.00            Aundh   \n",
       "4      NaN       1200   2.0      1.0   51.00       Aundh Road   \n",
       "\n",
       "   area_type_Built-up  Area  area_type_Carpet  Area  area_type_Plot  Area  \\\n",
       "0                         0                       0                     0   \n",
       "1                         0                       0                     1   \n",
       "2                         1                       0                     0   \n",
       "3                         0                       0                     0   \n",
       "4                         0                       0                     0   \n",
       "\n",
       "   area_type_Super built-up  Area  Availability_Ready_To_Move  \\\n",
       "0                               1                           0   \n",
       "1                               0                           1   \n",
       "2                               0                           1   \n",
       "3                               1                           1   \n",
       "4                               1                           1   \n",
       "\n",
       "   Availability_Immediate_Possession  Availability_Month  Availability_Day  \\\n",
       "0                                  0                  12                19   \n",
       "1                                  0                   0                 0   \n",
       "2                                  0                   0                 0   \n",
       "3                                  0                   0                 0   \n",
       "4                                  0                   0                 0   \n",
       "\n",
       "   BHK  \n",
       "0    2  \n",
       "1    4  \n",
       "2    3  \n",
       "3    3  \n",
       "4    2  "
      ]
     },
     "execution_count": 33,
     "metadata": {},
     "output_type": "execute_result"
    }
   ],
   "source": [
    "df.head(5)"
   ]
  },
  {
   "cell_type": "markdown",
   "id": "64cce16d",
   "metadata": {},
   "source": [
    "### 4. Society"
   ]
  },
  {
   "cell_type": "code",
   "execution_count": 34,
   "id": "7ac69390",
   "metadata": {},
   "outputs": [
    {
     "data": {
      "text/plain": [
       "array(['Coomee ', 'Theanmp', nan, ..., 'SJovest', 'ThhtsV ', 'RSntsAp'],\n",
       "      dtype=object)"
      ]
     },
     "execution_count": 34,
     "metadata": {},
     "output_type": "execute_result"
    }
   ],
   "source": [
    "df[\"society\"].unique()"
   ]
  },
  {
   "cell_type": "code",
   "execution_count": 35,
   "id": "181fb2c9",
   "metadata": {
    "scrolled": true
   },
   "outputs": [
    {
     "data": {
      "text/plain": [
       "2676"
      ]
     },
     "execution_count": 35,
     "metadata": {},
     "output_type": "execute_result"
    }
   ],
   "source": [
    "df[\"society\"].nunique()"
   ]
  },
  {
   "cell_type": "code",
   "execution_count": 36,
   "id": "03df6f20",
   "metadata": {
    "scrolled": true
   },
   "outputs": [
    {
     "name": "stdout",
     "output_type": "stream",
     "text": [
      "<class 'pandas.core.frame.DataFrame'>\n",
      "Int64Index: 13304 entries, 0 to 13319\n",
      "Data columns (total 15 columns):\n",
      " #   Column                             Non-Null Count  Dtype  \n",
      "---  ------                             --------------  -----  \n",
      " 0   society                            7805 non-null   object \n",
      " 1   total_sqft                         13304 non-null  object \n",
      " 2   bath                               13247 non-null  float64\n",
      " 3   balcony                            12711 non-null  float64\n",
      " 4   price                              13304 non-null  float64\n",
      " 5   site_location                      13303 non-null  object \n",
      " 6   area_type_Built-up  Area           13304 non-null  uint8  \n",
      " 7   area_type_Carpet  Area             13304 non-null  uint8  \n",
      " 8   area_type_Plot  Area               13304 non-null  uint8  \n",
      " 9   area_type_Super built-up  Area     13304 non-null  uint8  \n",
      " 10  Availability_Ready_To_Move         13304 non-null  int64  \n",
      " 11  Availability_Immediate_Possession  13304 non-null  int64  \n",
      " 12  Availability_Month                 13304 non-null  int64  \n",
      " 13  Availability_Day                   13304 non-null  int64  \n",
      " 14  BHK                                13304 non-null  int64  \n",
      "dtypes: float64(3), int64(5), object(3), uint8(4)\n",
      "memory usage: 1.3+ MB\n"
     ]
    }
   ],
   "source": [
    "df.info()"
   ]
  },
  {
   "cell_type": "code",
   "execution_count": 37,
   "id": "fbd238c1",
   "metadata": {},
   "outputs": [],
   "source": [
    "#   Dropping this feature bcuz of lots of unique values\n",
    "\n",
    "df.drop(\"society\",axis=1,inplace=True)"
   ]
  },
  {
   "cell_type": "markdown",
   "id": "ee334d0e",
   "metadata": {},
   "source": [
    "### 5. Total_sqft"
   ]
  },
  {
   "cell_type": "code",
   "execution_count": 38,
   "id": "58d379cb",
   "metadata": {
    "scrolled": true
   },
   "outputs": [
    {
     "data": {
      "text/html": [
       "<div>\n",
       "<style scoped>\n",
       "    .dataframe tbody tr th:only-of-type {\n",
       "        vertical-align: middle;\n",
       "    }\n",
       "\n",
       "    .dataframe tbody tr th {\n",
       "        vertical-align: top;\n",
       "    }\n",
       "\n",
       "    .dataframe thead th {\n",
       "        text-align: right;\n",
       "    }\n",
       "</style>\n",
       "<table border=\"1\" class=\"dataframe\">\n",
       "  <thead>\n",
       "    <tr style=\"text-align: right;\">\n",
       "      <th></th>\n",
       "      <th>total_sqft</th>\n",
       "      <th>bath</th>\n",
       "      <th>balcony</th>\n",
       "      <th>price</th>\n",
       "      <th>site_location</th>\n",
       "      <th>area_type_Built-up  Area</th>\n",
       "      <th>area_type_Carpet  Area</th>\n",
       "      <th>area_type_Plot  Area</th>\n",
       "      <th>area_type_Super built-up  Area</th>\n",
       "      <th>Availability_Ready_To_Move</th>\n",
       "      <th>Availability_Immediate_Possession</th>\n",
       "      <th>Availability_Month</th>\n",
       "      <th>Availability_Day</th>\n",
       "      <th>BHK</th>\n",
       "    </tr>\n",
       "  </thead>\n",
       "  <tbody>\n",
       "    <tr>\n",
       "      <th>0</th>\n",
       "      <td>1056</td>\n",
       "      <td>2.0</td>\n",
       "      <td>1.0</td>\n",
       "      <td>39.07</td>\n",
       "      <td>Alandi Road</td>\n",
       "      <td>0</td>\n",
       "      <td>0</td>\n",
       "      <td>0</td>\n",
       "      <td>1</td>\n",
       "      <td>0</td>\n",
       "      <td>0</td>\n",
       "      <td>12</td>\n",
       "      <td>19</td>\n",
       "      <td>2</td>\n",
       "    </tr>\n",
       "    <tr>\n",
       "      <th>1</th>\n",
       "      <td>2600</td>\n",
       "      <td>5.0</td>\n",
       "      <td>3.0</td>\n",
       "      <td>120.00</td>\n",
       "      <td>Ambegaon Budruk</td>\n",
       "      <td>0</td>\n",
       "      <td>0</td>\n",
       "      <td>1</td>\n",
       "      <td>0</td>\n",
       "      <td>1</td>\n",
       "      <td>0</td>\n",
       "      <td>0</td>\n",
       "      <td>0</td>\n",
       "      <td>4</td>\n",
       "    </tr>\n",
       "    <tr>\n",
       "      <th>2</th>\n",
       "      <td>1440</td>\n",
       "      <td>2.0</td>\n",
       "      <td>3.0</td>\n",
       "      <td>62.00</td>\n",
       "      <td>Anandnagar</td>\n",
       "      <td>1</td>\n",
       "      <td>0</td>\n",
       "      <td>0</td>\n",
       "      <td>0</td>\n",
       "      <td>1</td>\n",
       "      <td>0</td>\n",
       "      <td>0</td>\n",
       "      <td>0</td>\n",
       "      <td>3</td>\n",
       "    </tr>\n",
       "    <tr>\n",
       "      <th>3</th>\n",
       "      <td>1521</td>\n",
       "      <td>3.0</td>\n",
       "      <td>1.0</td>\n",
       "      <td>95.00</td>\n",
       "      <td>Aundh</td>\n",
       "      <td>0</td>\n",
       "      <td>0</td>\n",
       "      <td>0</td>\n",
       "      <td>1</td>\n",
       "      <td>1</td>\n",
       "      <td>0</td>\n",
       "      <td>0</td>\n",
       "      <td>0</td>\n",
       "      <td>3</td>\n",
       "    </tr>\n",
       "    <tr>\n",
       "      <th>4</th>\n",
       "      <td>1200</td>\n",
       "      <td>2.0</td>\n",
       "      <td>1.0</td>\n",
       "      <td>51.00</td>\n",
       "      <td>Aundh Road</td>\n",
       "      <td>0</td>\n",
       "      <td>0</td>\n",
       "      <td>0</td>\n",
       "      <td>1</td>\n",
       "      <td>1</td>\n",
       "      <td>0</td>\n",
       "      <td>0</td>\n",
       "      <td>0</td>\n",
       "      <td>2</td>\n",
       "    </tr>\n",
       "    <tr>\n",
       "      <th>...</th>\n",
       "      <td>...</td>\n",
       "      <td>...</td>\n",
       "      <td>...</td>\n",
       "      <td>...</td>\n",
       "      <td>...</td>\n",
       "      <td>...</td>\n",
       "      <td>...</td>\n",
       "      <td>...</td>\n",
       "      <td>...</td>\n",
       "      <td>...</td>\n",
       "      <td>...</td>\n",
       "      <td>...</td>\n",
       "      <td>...</td>\n",
       "      <td>...</td>\n",
       "    </tr>\n",
       "    <tr>\n",
       "      <th>13315</th>\n",
       "      <td>3453</td>\n",
       "      <td>4.0</td>\n",
       "      <td>0.0</td>\n",
       "      <td>231.00</td>\n",
       "      <td>Pashan</td>\n",
       "      <td>1</td>\n",
       "      <td>0</td>\n",
       "      <td>0</td>\n",
       "      <td>0</td>\n",
       "      <td>1</td>\n",
       "      <td>0</td>\n",
       "      <td>0</td>\n",
       "      <td>0</td>\n",
       "      <td>5</td>\n",
       "    </tr>\n",
       "    <tr>\n",
       "      <th>13316</th>\n",
       "      <td>3600</td>\n",
       "      <td>5.0</td>\n",
       "      <td>NaN</td>\n",
       "      <td>400.00</td>\n",
       "      <td>Paud Road</td>\n",
       "      <td>0</td>\n",
       "      <td>0</td>\n",
       "      <td>0</td>\n",
       "      <td>1</td>\n",
       "      <td>1</td>\n",
       "      <td>0</td>\n",
       "      <td>0</td>\n",
       "      <td>0</td>\n",
       "      <td>4</td>\n",
       "    </tr>\n",
       "    <tr>\n",
       "      <th>13317</th>\n",
       "      <td>1141</td>\n",
       "      <td>2.0</td>\n",
       "      <td>1.0</td>\n",
       "      <td>60.00</td>\n",
       "      <td>Pirangut</td>\n",
       "      <td>1</td>\n",
       "      <td>0</td>\n",
       "      <td>0</td>\n",
       "      <td>0</td>\n",
       "      <td>1</td>\n",
       "      <td>0</td>\n",
       "      <td>0</td>\n",
       "      <td>0</td>\n",
       "      <td>2</td>\n",
       "    </tr>\n",
       "    <tr>\n",
       "      <th>13318</th>\n",
       "      <td>4689</td>\n",
       "      <td>4.0</td>\n",
       "      <td>1.0</td>\n",
       "      <td>488.00</td>\n",
       "      <td>Prabhat Road</td>\n",
       "      <td>0</td>\n",
       "      <td>0</td>\n",
       "      <td>0</td>\n",
       "      <td>1</td>\n",
       "      <td>0</td>\n",
       "      <td>0</td>\n",
       "      <td>6</td>\n",
       "      <td>18</td>\n",
       "      <td>4</td>\n",
       "    </tr>\n",
       "    <tr>\n",
       "      <th>13319</th>\n",
       "      <td>550</td>\n",
       "      <td>1.0</td>\n",
       "      <td>1.0</td>\n",
       "      <td>17.00</td>\n",
       "      <td>Pune Railway Station</td>\n",
       "      <td>0</td>\n",
       "      <td>0</td>\n",
       "      <td>0</td>\n",
       "      <td>1</td>\n",
       "      <td>1</td>\n",
       "      <td>0</td>\n",
       "      <td>0</td>\n",
       "      <td>0</td>\n",
       "      <td>1</td>\n",
       "    </tr>\n",
       "  </tbody>\n",
       "</table>\n",
       "<p>13304 rows × 14 columns</p>\n",
       "</div>"
      ],
      "text/plain": [
       "      total_sqft  bath  balcony   price         site_location  \\\n",
       "0           1056   2.0      1.0   39.07           Alandi Road   \n",
       "1           2600   5.0      3.0  120.00       Ambegaon Budruk   \n",
       "2           1440   2.0      3.0   62.00            Anandnagar   \n",
       "3           1521   3.0      1.0   95.00                 Aundh   \n",
       "4           1200   2.0      1.0   51.00            Aundh Road   \n",
       "...          ...   ...      ...     ...                   ...   \n",
       "13315       3453   4.0      0.0  231.00                Pashan   \n",
       "13316       3600   5.0      NaN  400.00             Paud Road   \n",
       "13317       1141   2.0      1.0   60.00              Pirangut   \n",
       "13318       4689   4.0      1.0  488.00          Prabhat Road   \n",
       "13319        550   1.0      1.0   17.00  Pune Railway Station   \n",
       "\n",
       "       area_type_Built-up  Area  area_type_Carpet  Area  area_type_Plot  Area  \\\n",
       "0                             0                       0                     0   \n",
       "1                             0                       0                     1   \n",
       "2                             1                       0                     0   \n",
       "3                             0                       0                     0   \n",
       "4                             0                       0                     0   \n",
       "...                         ...                     ...                   ...   \n",
       "13315                         1                       0                     0   \n",
       "13316                         0                       0                     0   \n",
       "13317                         1                       0                     0   \n",
       "13318                         0                       0                     0   \n",
       "13319                         0                       0                     0   \n",
       "\n",
       "       area_type_Super built-up  Area  Availability_Ready_To_Move  \\\n",
       "0                                   1                           0   \n",
       "1                                   0                           1   \n",
       "2                                   0                           1   \n",
       "3                                   1                           1   \n",
       "4                                   1                           1   \n",
       "...                               ...                         ...   \n",
       "13315                               0                           1   \n",
       "13316                               1                           1   \n",
       "13317                               0                           1   \n",
       "13318                               1                           0   \n",
       "13319                               1                           1   \n",
       "\n",
       "       Availability_Immediate_Possession  Availability_Month  \\\n",
       "0                                      0                  12   \n",
       "1                                      0                   0   \n",
       "2                                      0                   0   \n",
       "3                                      0                   0   \n",
       "4                                      0                   0   \n",
       "...                                  ...                 ...   \n",
       "13315                                  0                   0   \n",
       "13316                                  0                   0   \n",
       "13317                                  0                   0   \n",
       "13318                                  0                   6   \n",
       "13319                                  0                   0   \n",
       "\n",
       "       Availability_Day  BHK  \n",
       "0                    19    2  \n",
       "1                     0    4  \n",
       "2                     0    3  \n",
       "3                     0    3  \n",
       "4                     0    2  \n",
       "...                 ...  ...  \n",
       "13315                 0    5  \n",
       "13316                 0    4  \n",
       "13317                 0    2  \n",
       "13318                18    4  \n",
       "13319                 0    1  \n",
       "\n",
       "[13304 rows x 14 columns]"
      ]
     },
     "execution_count": 38,
     "metadata": {},
     "output_type": "execute_result"
    }
   ],
   "source": [
    "df"
   ]
  },
  {
   "cell_type": "code",
   "execution_count": 39,
   "id": "a00092d5",
   "metadata": {},
   "outputs": [
    {
     "data": {
      "text/plain": [
       "array(['1056', '2600', '1440', ..., '1133 - 1384', '774', '4689'],\n",
       "      dtype=object)"
      ]
     },
     "execution_count": 39,
     "metadata": {},
     "output_type": "execute_result"
    }
   ],
   "source": [
    "\n",
    "pd.set_option('display.max_rows', None)\n",
    "df[\"total_sqft\"].unique()"
   ]
  },
  {
   "cell_type": "code",
   "execution_count": 40,
   "id": "2166ad2d",
   "metadata": {},
   "outputs": [
    {
     "data": {
      "text/plain": [
       "2110"
      ]
     },
     "execution_count": 40,
     "metadata": {},
     "output_type": "execute_result"
    }
   ],
   "source": [
    "df[\"total_sqft\"].nunique()"
   ]
  },
  {
   "cell_type": "code",
   "execution_count": 41,
   "id": "91f9d05c",
   "metadata": {},
   "outputs": [
    {
     "data": {
      "text/plain": [
       "1200    843\n",
       "1100    221\n",
       "1500    204\n",
       "2400    195\n",
       "600     180\n",
       "1000    172\n",
       "1350    132\n",
       "1050    123\n",
       "1300    117\n",
       "1250    114\n",
       "900     112\n",
       "1400    108\n",
       "1800    104\n",
       "1150    101\n",
       "1600    101\n",
       "1140     91\n",
       "2000     82\n",
       "1450     70\n",
       "1650     69\n",
       "800      67\n",
       "Name: total_sqft, dtype: int64"
      ]
     },
     "execution_count": 41,
     "metadata": {},
     "output_type": "execute_result"
    }
   ],
   "source": [
    "df[\"total_sqft\"].value_counts().head(20)"
   ]
  },
  {
   "cell_type": "code",
   "execution_count": 42,
   "id": "c81fb5a0",
   "metadata": {},
   "outputs": [
    {
     "data": {
      "text/plain": [
       "0"
      ]
     },
     "execution_count": 42,
     "metadata": {},
     "output_type": "execute_result"
    }
   ],
   "source": [
    "df[\"total_sqft\"].isna().sum()"
   ]
  },
  {
   "cell_type": "code",
   "execution_count": 43,
   "id": "36887316",
   "metadata": {},
   "outputs": [
    {
     "data": {
      "text/html": [
       "<div>\n",
       "<style scoped>\n",
       "    .dataframe tbody tr th:only-of-type {\n",
       "        vertical-align: middle;\n",
       "    }\n",
       "\n",
       "    .dataframe tbody tr th {\n",
       "        vertical-align: top;\n",
       "    }\n",
       "\n",
       "    .dataframe thead th {\n",
       "        text-align: right;\n",
       "    }\n",
       "</style>\n",
       "<table border=\"1\" class=\"dataframe\">\n",
       "  <thead>\n",
       "    <tr style=\"text-align: right;\">\n",
       "      <th></th>\n",
       "      <th>total_sqft</th>\n",
       "      <th>bath</th>\n",
       "      <th>balcony</th>\n",
       "      <th>price</th>\n",
       "      <th>site_location</th>\n",
       "      <th>area_type_Built-up  Area</th>\n",
       "      <th>area_type_Carpet  Area</th>\n",
       "      <th>area_type_Plot  Area</th>\n",
       "      <th>area_type_Super built-up  Area</th>\n",
       "      <th>Availability_Ready_To_Move</th>\n",
       "      <th>Availability_Immediate_Possession</th>\n",
       "      <th>Availability_Month</th>\n",
       "      <th>Availability_Day</th>\n",
       "      <th>BHK</th>\n",
       "    </tr>\n",
       "  </thead>\n",
       "  <tbody>\n",
       "    <tr>\n",
       "      <th>0</th>\n",
       "      <td>1056</td>\n",
       "      <td>2.0</td>\n",
       "      <td>1.0</td>\n",
       "      <td>39.07</td>\n",
       "      <td>Alandi Road</td>\n",
       "      <td>0</td>\n",
       "      <td>0</td>\n",
       "      <td>0</td>\n",
       "      <td>1</td>\n",
       "      <td>0</td>\n",
       "      <td>0</td>\n",
       "      <td>12</td>\n",
       "      <td>19</td>\n",
       "      <td>2</td>\n",
       "    </tr>\n",
       "    <tr>\n",
       "      <th>1</th>\n",
       "      <td>2600</td>\n",
       "      <td>5.0</td>\n",
       "      <td>3.0</td>\n",
       "      <td>120.00</td>\n",
       "      <td>Ambegaon Budruk</td>\n",
       "      <td>0</td>\n",
       "      <td>0</td>\n",
       "      <td>1</td>\n",
       "      <td>0</td>\n",
       "      <td>1</td>\n",
       "      <td>0</td>\n",
       "      <td>0</td>\n",
       "      <td>0</td>\n",
       "      <td>4</td>\n",
       "    </tr>\n",
       "    <tr>\n",
       "      <th>2</th>\n",
       "      <td>1440</td>\n",
       "      <td>2.0</td>\n",
       "      <td>3.0</td>\n",
       "      <td>62.00</td>\n",
       "      <td>Anandnagar</td>\n",
       "      <td>1</td>\n",
       "      <td>0</td>\n",
       "      <td>0</td>\n",
       "      <td>0</td>\n",
       "      <td>1</td>\n",
       "      <td>0</td>\n",
       "      <td>0</td>\n",
       "      <td>0</td>\n",
       "      <td>3</td>\n",
       "    </tr>\n",
       "    <tr>\n",
       "      <th>3</th>\n",
       "      <td>1521</td>\n",
       "      <td>3.0</td>\n",
       "      <td>1.0</td>\n",
       "      <td>95.00</td>\n",
       "      <td>Aundh</td>\n",
       "      <td>0</td>\n",
       "      <td>0</td>\n",
       "      <td>0</td>\n",
       "      <td>1</td>\n",
       "      <td>1</td>\n",
       "      <td>0</td>\n",
       "      <td>0</td>\n",
       "      <td>0</td>\n",
       "      <td>3</td>\n",
       "    </tr>\n",
       "    <tr>\n",
       "      <th>4</th>\n",
       "      <td>1200</td>\n",
       "      <td>2.0</td>\n",
       "      <td>1.0</td>\n",
       "      <td>51.00</td>\n",
       "      <td>Aundh Road</td>\n",
       "      <td>0</td>\n",
       "      <td>0</td>\n",
       "      <td>0</td>\n",
       "      <td>1</td>\n",
       "      <td>1</td>\n",
       "      <td>0</td>\n",
       "      <td>0</td>\n",
       "      <td>0</td>\n",
       "      <td>2</td>\n",
       "    </tr>\n",
       "    <tr>\n",
       "      <th>...</th>\n",
       "      <td>...</td>\n",
       "      <td>...</td>\n",
       "      <td>...</td>\n",
       "      <td>...</td>\n",
       "      <td>...</td>\n",
       "      <td>...</td>\n",
       "      <td>...</td>\n",
       "      <td>...</td>\n",
       "      <td>...</td>\n",
       "      <td>...</td>\n",
       "      <td>...</td>\n",
       "      <td>...</td>\n",
       "      <td>...</td>\n",
       "      <td>...</td>\n",
       "    </tr>\n",
       "    <tr>\n",
       "      <th>13315</th>\n",
       "      <td>3453</td>\n",
       "      <td>4.0</td>\n",
       "      <td>0.0</td>\n",
       "      <td>231.00</td>\n",
       "      <td>Pashan</td>\n",
       "      <td>1</td>\n",
       "      <td>0</td>\n",
       "      <td>0</td>\n",
       "      <td>0</td>\n",
       "      <td>1</td>\n",
       "      <td>0</td>\n",
       "      <td>0</td>\n",
       "      <td>0</td>\n",
       "      <td>5</td>\n",
       "    </tr>\n",
       "    <tr>\n",
       "      <th>13316</th>\n",
       "      <td>3600</td>\n",
       "      <td>5.0</td>\n",
       "      <td>NaN</td>\n",
       "      <td>400.00</td>\n",
       "      <td>Paud Road</td>\n",
       "      <td>0</td>\n",
       "      <td>0</td>\n",
       "      <td>0</td>\n",
       "      <td>1</td>\n",
       "      <td>1</td>\n",
       "      <td>0</td>\n",
       "      <td>0</td>\n",
       "      <td>0</td>\n",
       "      <td>4</td>\n",
       "    </tr>\n",
       "    <tr>\n",
       "      <th>13317</th>\n",
       "      <td>1141</td>\n",
       "      <td>2.0</td>\n",
       "      <td>1.0</td>\n",
       "      <td>60.00</td>\n",
       "      <td>Pirangut</td>\n",
       "      <td>1</td>\n",
       "      <td>0</td>\n",
       "      <td>0</td>\n",
       "      <td>0</td>\n",
       "      <td>1</td>\n",
       "      <td>0</td>\n",
       "      <td>0</td>\n",
       "      <td>0</td>\n",
       "      <td>2</td>\n",
       "    </tr>\n",
       "    <tr>\n",
       "      <th>13318</th>\n",
       "      <td>4689</td>\n",
       "      <td>4.0</td>\n",
       "      <td>1.0</td>\n",
       "      <td>488.00</td>\n",
       "      <td>Prabhat Road</td>\n",
       "      <td>0</td>\n",
       "      <td>0</td>\n",
       "      <td>0</td>\n",
       "      <td>1</td>\n",
       "      <td>0</td>\n",
       "      <td>0</td>\n",
       "      <td>6</td>\n",
       "      <td>18</td>\n",
       "      <td>4</td>\n",
       "    </tr>\n",
       "    <tr>\n",
       "      <th>13319</th>\n",
       "      <td>550</td>\n",
       "      <td>1.0</td>\n",
       "      <td>1.0</td>\n",
       "      <td>17.00</td>\n",
       "      <td>Pune Railway Station</td>\n",
       "      <td>0</td>\n",
       "      <td>0</td>\n",
       "      <td>0</td>\n",
       "      <td>1</td>\n",
       "      <td>1</td>\n",
       "      <td>0</td>\n",
       "      <td>0</td>\n",
       "      <td>0</td>\n",
       "      <td>1</td>\n",
       "    </tr>\n",
       "  </tbody>\n",
       "</table>\n",
       "<p>13304 rows × 14 columns</p>\n",
       "</div>"
      ],
      "text/plain": [
       "      total_sqft  bath  balcony   price         site_location  \\\n",
       "0           1056   2.0      1.0   39.07           Alandi Road   \n",
       "1           2600   5.0      3.0  120.00       Ambegaon Budruk   \n",
       "2           1440   2.0      3.0   62.00            Anandnagar   \n",
       "3           1521   3.0      1.0   95.00                 Aundh   \n",
       "4           1200   2.0      1.0   51.00            Aundh Road   \n",
       "...          ...   ...      ...     ...                   ...   \n",
       "13315       3453   4.0      0.0  231.00                Pashan   \n",
       "13316       3600   5.0      NaN  400.00             Paud Road   \n",
       "13317       1141   2.0      1.0   60.00              Pirangut   \n",
       "13318       4689   4.0      1.0  488.00          Prabhat Road   \n",
       "13319        550   1.0      1.0   17.00  Pune Railway Station   \n",
       "\n",
       "       area_type_Built-up  Area  area_type_Carpet  Area  area_type_Plot  Area  \\\n",
       "0                             0                       0                     0   \n",
       "1                             0                       0                     1   \n",
       "2                             1                       0                     0   \n",
       "3                             0                       0                     0   \n",
       "4                             0                       0                     0   \n",
       "...                         ...                     ...                   ...   \n",
       "13315                         1                       0                     0   \n",
       "13316                         0                       0                     0   \n",
       "13317                         1                       0                     0   \n",
       "13318                         0                       0                     0   \n",
       "13319                         0                       0                     0   \n",
       "\n",
       "       area_type_Super built-up  Area  Availability_Ready_To_Move  \\\n",
       "0                                   1                           0   \n",
       "1                                   0                           1   \n",
       "2                                   0                           1   \n",
       "3                                   1                           1   \n",
       "4                                   1                           1   \n",
       "...                               ...                         ...   \n",
       "13315                               0                           1   \n",
       "13316                               1                           1   \n",
       "13317                               0                           1   \n",
       "13318                               1                           0   \n",
       "13319                               1                           1   \n",
       "\n",
       "       Availability_Immediate_Possession  Availability_Month  \\\n",
       "0                                      0                  12   \n",
       "1                                      0                   0   \n",
       "2                                      0                   0   \n",
       "3                                      0                   0   \n",
       "4                                      0                   0   \n",
       "...                                  ...                 ...   \n",
       "13315                                  0                   0   \n",
       "13316                                  0                   0   \n",
       "13317                                  0                   0   \n",
       "13318                                  0                   6   \n",
       "13319                                  0                   0   \n",
       "\n",
       "       Availability_Day  BHK  \n",
       "0                    19    2  \n",
       "1                     0    4  \n",
       "2                     0    3  \n",
       "3                     0    3  \n",
       "4                     0    2  \n",
       "...                 ...  ...  \n",
       "13315                 0    5  \n",
       "13316                 0    4  \n",
       "13317                 0    2  \n",
       "13318                18    4  \n",
       "13319                 0    1  \n",
       "\n",
       "[13304 rows x 14 columns]"
      ]
     },
     "execution_count": 43,
     "metadata": {},
     "output_type": "execute_result"
    }
   ],
   "source": [
    "pd.set_option('display.max_rows', 10)  # pd.reset_option(\"display\") for resetting\n",
    "df"
   ]
  },
  {
   "cell_type": "code",
   "execution_count": 44,
   "id": "71fe2d86",
   "metadata": {},
   "outputs": [
    {
     "data": {
      "text/plain": [
       "0"
      ]
     },
     "execution_count": 44,
     "metadata": {},
     "output_type": "execute_result"
    }
   ],
   "source": [
    "df[\"total_sqft\"].isna().sum()"
   ]
  },
  {
   "cell_type": "code",
   "execution_count": 45,
   "id": "227a7ca4",
   "metadata": {},
   "outputs": [],
   "source": [
    "#  Found that \"total_sqft\" this column contains varius pattern to find that using a pattern\n",
    "\n",
    "pattern = r'(\\d+\\.?\\d*)'"
   ]
  },
  {
   "cell_type": "code",
   "execution_count": 46,
   "id": "cce4f839",
   "metadata": {},
   "outputs": [
    {
     "data": {
      "text/plain": [
       "0         \n",
       "1         \n",
       "2         \n",
       "3         \n",
       "4         \n",
       "        ..\n",
       "13315     \n",
       "13316     \n",
       "13317     \n",
       "13318     \n",
       "13319     \n",
       "Name: total_sqft_str, Length: 13304, dtype: object"
      ]
     },
     "execution_count": 46,
     "metadata": {},
     "output_type": "execute_result"
    }
   ],
   "source": [
    "#  Seperated all digits from the values and found out all the pattern availabe in it.\n",
    "\n",
    "df[\"total_sqft_str\"]=df[\"total_sqft\"].str.replace(pattern,\"\").str.strip()\n",
    "df[\"total_sqft_str\"]"
   ]
  },
  {
   "cell_type": "code",
   "execution_count": 47,
   "id": "dfbe459c",
   "metadata": {},
   "outputs": [
    {
     "data": {
      "text/plain": [
       "             13065\n",
       "-              193\n",
       "Sq. Meter       17\n",
       "Sq. Yards       15\n",
       "Acres            8\n",
       "Cents            2\n",
       "Guntha           2\n",
       "Perch            1\n",
       "Grounds          1\n",
       "Name: total_sqft_str, dtype: int64"
      ]
     },
     "execution_count": 47,
     "metadata": {},
     "output_type": "execute_result"
    }
   ],
   "source": [
    "# This are the categories present in the total_sqft column\n",
    "\n",
    "df[\"total_sqft_str\"].value_counts()"
   ]
  },
  {
   "cell_type": "raw",
   "id": "350e213c",
   "metadata": {},
   "source": [
    "1 Sq. Meter = 10.764 Square Feet\n",
    "1 Sq. Yards = 9 Square Feet\n",
    "1 Acres = 43,560 Square Feet\n",
    "1 Cents = 435.6 Square Feet\n",
    "1 Guntha = 1,089 Square Feet\n",
    "1 Perch = 272.25 Square Feet\n",
    "1 Grounds = 2,400 Square Feet"
   ]
  },
  {
   "cell_type": "code",
   "execution_count": 48,
   "id": "4b131765",
   "metadata": {},
   "outputs": [],
   "source": [
    "#   Creating a Function to find all the pattern replacing it with none value.\n",
    "\n",
    "import re\n",
    "\n",
    "def conversion(value):\n",
    "\n",
    "    try:\n",
    "        match = re.match(r\"([\\d\\.]+)\\s*([\\w\\s\\.]*)\",value)\n",
    "        num = float(match.group(1))\n",
    "        unit = match.group(2)\n",
    "        \n",
    "        if \"-\" in value:\n",
    "            df[\"total_sqft\"].drop(value,axis=0,inplace=True)\n",
    "            return None\n",
    "        \n",
    "        elif unit == \"Sq. Meter\":\n",
    "            df[\"total_sqft\"].drop(value,axis=0,inplace=True)\n",
    "            return None\n",
    "        \n",
    "        \n",
    "        elif unit == \"Sq. Yards\":\n",
    "            df[\"total_sqft\"].drop(value,axis=0,inplace=True)\n",
    "            return None\n",
    "        \n",
    "        elif unit == \"Acres\":\n",
    "            df[\"total_sqft\"].drop(value,axis=0,inplace=True)\n",
    "            return None\n",
    "        \n",
    "        elif unit == \"Cents\":\n",
    "            df[\"total_sqft\"].drop(value,axis=0,inplace=True)\n",
    "            return None\n",
    "        \n",
    "        elif unit == \"Guntha\":\n",
    "            df[\"total_sqft\"].drop(value,axis=0,inplace=True)\n",
    "            return None\n",
    "        \n",
    "        elif unit == \"Perch\":\n",
    "            df[\"total_sqft\"].drop(value,axis=0,inplace=True)\n",
    "            return None\n",
    "        \n",
    "        elif unit == \"Grounds\":\n",
    "            df[\"total_sqft\"].drop(value,axis=0,inplace=True)\n",
    "            return None\n",
    "        \n",
    "        else:\n",
    "            return float(num)\n",
    "    \n",
    "    except:\n",
    "        return None\n",
    "    \n",
    "    \n"
   ]
  },
  {
   "cell_type": "code",
   "execution_count": 49,
   "id": "37a678f5",
   "metadata": {},
   "outputs": [
    {
     "data": {
      "text/plain": [
       "0        1056.0\n",
       "1        2600.0\n",
       "2        1440.0\n",
       "3        1521.0\n",
       "4        1200.0\n",
       "          ...  \n",
       "13315    3453.0\n",
       "13316    3600.0\n",
       "13317    1141.0\n",
       "13318    4689.0\n",
       "13319     550.0\n",
       "Name: total_sqft, Length: 13304, dtype: float64"
      ]
     },
     "execution_count": 49,
     "metadata": {},
     "output_type": "execute_result"
    }
   ],
   "source": [
    "#  Applying the above function\n",
    "\n",
    "df[\"total_sqft\"] = df[\"total_sqft\"].apply(conversion)\n",
    "df[\"total_sqft\"]"
   ]
  },
  {
   "cell_type": "code",
   "execution_count": 50,
   "id": "53b37b62",
   "metadata": {},
   "outputs": [
    {
     "data": {
      "text/plain": [
       "239"
      ]
     },
     "execution_count": 50,
     "metadata": {},
     "output_type": "execute_result"
    }
   ],
   "source": [
    "df[\"total_sqft\"].isna().sum()"
   ]
  },
  {
   "cell_type": "code",
   "execution_count": 51,
   "id": "56ae15a2",
   "metadata": {},
   "outputs": [],
   "source": [
    "df.drop(\"total_sqft_str\",axis=1,inplace=True)"
   ]
  },
  {
   "cell_type": "code",
   "execution_count": 52,
   "id": "ab062350",
   "metadata": {
    "scrolled": true
   },
   "outputs": [
    {
     "name": "stdout",
     "output_type": "stream",
     "text": [
      "<class 'pandas.core.frame.DataFrame'>\n",
      "Int64Index: 13304 entries, 0 to 13319\n",
      "Data columns (total 14 columns):\n",
      " #   Column                             Non-Null Count  Dtype  \n",
      "---  ------                             --------------  -----  \n",
      " 0   total_sqft                         13065 non-null  float64\n",
      " 1   bath                               13247 non-null  float64\n",
      " 2   balcony                            12711 non-null  float64\n",
      " 3   price                              13304 non-null  float64\n",
      " 4   site_location                      13303 non-null  object \n",
      " 5   area_type_Built-up  Area           13304 non-null  uint8  \n",
      " 6   area_type_Carpet  Area             13304 non-null  uint8  \n",
      " 7   area_type_Plot  Area               13304 non-null  uint8  \n",
      " 8   area_type_Super built-up  Area     13304 non-null  uint8  \n",
      " 9   Availability_Ready_To_Move         13304 non-null  int64  \n",
      " 10  Availability_Immediate_Possession  13304 non-null  int64  \n",
      " 11  Availability_Month                 13304 non-null  int64  \n",
      " 12  Availability_Day                   13304 non-null  int64  \n",
      " 13  BHK                                13304 non-null  int64  \n",
      "dtypes: float64(4), int64(5), object(1), uint8(4)\n",
      "memory usage: 1.7+ MB\n"
     ]
    }
   ],
   "source": [
    "df.info()"
   ]
  },
  {
   "cell_type": "markdown",
   "id": "619dc602",
   "metadata": {},
   "source": [
    "### 6.Site_location"
   ]
  },
  {
   "cell_type": "code",
   "execution_count": 53,
   "id": "f7d3dd6c",
   "metadata": {},
   "outputs": [
    {
     "data": {
      "text/plain": [
       "array(['Alandi Road', 'Ambegaon Budruk', 'Anandnagar', 'Aundh',\n",
       "       'Aundh Road', 'Balaji Nagar', 'Baner', 'Baner road',\n",
       "       'Bhandarkar Road', 'Bhavani Peth', 'Bibvewadi', 'Bopodi',\n",
       "       'Budhwar Peth', 'Bund Garden Road', 'Camp', 'Chandan Nagar',\n",
       "       'Dapodi', 'Deccan Gymkhana', 'Dehu Road', 'Dhankawadi',\n",
       "       'Dhayari Phata', 'Dhole Patil Road', 'Erandwane', 'Fatima Nagar',\n",
       "       'Fergusson College Road', 'Ganesh Peth', 'Ganeshkhind',\n",
       "       'Ghorpade Peth', 'other', 'Gokhale Nagar', 'Gultekdi',\n",
       "       'Guruwar peth', 'Hadapsar', 'Hadapsar Industrial Estate',\n",
       "       'Hingne Khurd', 'Jangali Maharaj Road', 'Kalyani Nagar',\n",
       "       'Karve Nagar', 'Karve Road', 'Kasba Peth', 'Katraj', 'Khadaki',\n",
       "       'Khadki', 'Kharadi', 'Kondhwa', 'Kondhwa Budruk', 'Kondhwa Khurd',\n",
       "       'Koregaon Park', 'Kothrud', 'Law College Road', 'Laxmi Road',\n",
       "       'Lulla Nagar', 'Mahatma Gandhi Road', 'Mangalwar peth',\n",
       "       'Manik Bagh', 'Market yard', 'Model colony', 'Mukund Nagar',\n",
       "       'Mundhawa', 'Nagar Road', 'Nana Peth', 'Narayan Peth',\n",
       "       'Narayangaon', 'Navi Peth', 'Padmavati', 'Parvati Darshan',\n",
       "       'Pashan', 'Paud Road', 'Pirangut', 'Prabhat Road',\n",
       "       'Pune Railway Station', 'Rasta Peth', 'Raviwar Peth',\n",
       "       'Sadashiv Peth', 'Sahakar Nagar', 'Salunke Vihar', 'Sasson Road',\n",
       "       'Satara Road', 'Senapati Bapat Road', 'Shaniwar Peth',\n",
       "       'Shivaji Nagar', 'Shukrawar Peth', 'Sinhagad Road', 'Somwar Peth',\n",
       "       'Swargate', 'Tilak Road', 'Uruli Devachi', 'Vadgaon Budruk',\n",
       "       'Wadgaon Sheri', 'Viman Nagar', 'Vishrant Wadi', 'Wagholi',\n",
       "       'Wakadewadi', 'Wanowrie', 'Warje', 'Yerawada', 'Ghorpadi', nan],\n",
       "      dtype=object)"
      ]
     },
     "execution_count": 53,
     "metadata": {},
     "output_type": "execute_result"
    }
   ],
   "source": [
    "df[\"site_location\"].unique()"
   ]
  },
  {
   "cell_type": "code",
   "execution_count": 54,
   "id": "19c07f8e",
   "metadata": {},
   "outputs": [
    {
     "data": {
      "text/plain": [
       "Alandi Road             139\n",
       "Mangalwar peth          139\n",
       "Jangali Maharaj Road    139\n",
       "Kalyani Nagar           139\n",
       "Karve Nagar             139\n",
       "                       ... \n",
       "Sahakar Nagar           137\n",
       "Warje                   137\n",
       "Yerawada                137\n",
       "Satara Road             137\n",
       "other                     1\n",
       "Name: site_location, Length: 97, dtype: int64"
      ]
     },
     "execution_count": 54,
     "metadata": {},
     "output_type": "execute_result"
    }
   ],
   "source": [
    "df[\"site_location\"].value_counts()"
   ]
  },
  {
   "cell_type": "code",
   "execution_count": 55,
   "id": "41116cfd",
   "metadata": {},
   "outputs": [],
   "source": [
    "# Normally square ft per bedroom is 300 (i.e 2bhk apartment is minimum 600 sqft. \n",
    "\n",
    "# For example 400 sqft apartment with 2 bhk than that seems suspicious and can be removed as an outlier.\n",
    "\n",
    "# We will remove such outliers by keeping our minimum threshold per bhk to be 300 sqft"
   ]
  },
  {
   "cell_type": "code",
   "execution_count": 56,
   "id": "03678b2e",
   "metadata": {},
   "outputs": [],
   "source": [
    "df['price_per_sqft'] = df['price']*100000/df['total_sqft']"
   ]
  },
  {
   "cell_type": "code",
   "execution_count": 57,
   "id": "c7a59d8d",
   "metadata": {},
   "outputs": [
    {
     "data": {
      "text/html": [
       "<div>\n",
       "<style scoped>\n",
       "    .dataframe tbody tr th:only-of-type {\n",
       "        vertical-align: middle;\n",
       "    }\n",
       "\n",
       "    .dataframe tbody tr th {\n",
       "        vertical-align: top;\n",
       "    }\n",
       "\n",
       "    .dataframe thead th {\n",
       "        text-align: right;\n",
       "    }\n",
       "</style>\n",
       "<table border=\"1\" class=\"dataframe\">\n",
       "  <thead>\n",
       "    <tr style=\"text-align: right;\">\n",
       "      <th></th>\n",
       "      <th>total_sqft</th>\n",
       "      <th>bath</th>\n",
       "      <th>balcony</th>\n",
       "      <th>price</th>\n",
       "      <th>site_location</th>\n",
       "      <th>area_type_Built-up  Area</th>\n",
       "      <th>area_type_Carpet  Area</th>\n",
       "      <th>area_type_Plot  Area</th>\n",
       "      <th>area_type_Super built-up  Area</th>\n",
       "      <th>Availability_Ready_To_Move</th>\n",
       "      <th>Availability_Immediate_Possession</th>\n",
       "      <th>Availability_Month</th>\n",
       "      <th>Availability_Day</th>\n",
       "      <th>BHK</th>\n",
       "      <th>price_per_sqft</th>\n",
       "    </tr>\n",
       "  </thead>\n",
       "  <tbody>\n",
       "    <tr>\n",
       "      <th>9</th>\n",
       "      <td>1020.0</td>\n",
       "      <td>6.0</td>\n",
       "      <td>NaN</td>\n",
       "      <td>370.0</td>\n",
       "      <td>Bhavani Peth</td>\n",
       "      <td>0</td>\n",
       "      <td>0</td>\n",
       "      <td>1</td>\n",
       "      <td>0</td>\n",
       "      <td>1</td>\n",
       "      <td>0</td>\n",
       "      <td>0</td>\n",
       "      <td>0</td>\n",
       "      <td>6</td>\n",
       "      <td>36274.509804</td>\n",
       "    </tr>\n",
       "    <tr>\n",
       "      <th>45</th>\n",
       "      <td>600.0</td>\n",
       "      <td>9.0</td>\n",
       "      <td>NaN</td>\n",
       "      <td>200.0</td>\n",
       "      <td>Kondhwa Budruk</td>\n",
       "      <td>0</td>\n",
       "      <td>0</td>\n",
       "      <td>1</td>\n",
       "      <td>0</td>\n",
       "      <td>1</td>\n",
       "      <td>0</td>\n",
       "      <td>0</td>\n",
       "      <td>0</td>\n",
       "      <td>8</td>\n",
       "      <td>33333.333333</td>\n",
       "    </tr>\n",
       "    <tr>\n",
       "      <th>58</th>\n",
       "      <td>1407.0</td>\n",
       "      <td>4.0</td>\n",
       "      <td>1.0</td>\n",
       "      <td>150.0</td>\n",
       "      <td>Mundhawa</td>\n",
       "      <td>0</td>\n",
       "      <td>0</td>\n",
       "      <td>1</td>\n",
       "      <td>0</td>\n",
       "      <td>1</td>\n",
       "      <td>0</td>\n",
       "      <td>0</td>\n",
       "      <td>0</td>\n",
       "      <td>6</td>\n",
       "      <td>10660.980810</td>\n",
       "    </tr>\n",
       "    <tr>\n",
       "      <th>68</th>\n",
       "      <td>1350.0</td>\n",
       "      <td>7.0</td>\n",
       "      <td>0.0</td>\n",
       "      <td>85.0</td>\n",
       "      <td>Pirangut</td>\n",
       "      <td>0</td>\n",
       "      <td>0</td>\n",
       "      <td>1</td>\n",
       "      <td>0</td>\n",
       "      <td>1</td>\n",
       "      <td>0</td>\n",
       "      <td>0</td>\n",
       "      <td>0</td>\n",
       "      <td>8</td>\n",
       "      <td>6296.296296</td>\n",
       "    </tr>\n",
       "    <tr>\n",
       "      <th>70</th>\n",
       "      <td>500.0</td>\n",
       "      <td>3.0</td>\n",
       "      <td>2.0</td>\n",
       "      <td>100.0</td>\n",
       "      <td>Pune Railway Station</td>\n",
       "      <td>0</td>\n",
       "      <td>0</td>\n",
       "      <td>1</td>\n",
       "      <td>0</td>\n",
       "      <td>1</td>\n",
       "      <td>0</td>\n",
       "      <td>0</td>\n",
       "      <td>0</td>\n",
       "      <td>3</td>\n",
       "      <td>20000.000000</td>\n",
       "    </tr>\n",
       "    <tr>\n",
       "      <th>78</th>\n",
       "      <td>460.0</td>\n",
       "      <td>1.0</td>\n",
       "      <td>0.0</td>\n",
       "      <td>22.0</td>\n",
       "      <td>Senapati Bapat Road</td>\n",
       "      <td>1</td>\n",
       "      <td>0</td>\n",
       "      <td>0</td>\n",
       "      <td>0</td>\n",
       "      <td>1</td>\n",
       "      <td>0</td>\n",
       "      <td>0</td>\n",
       "      <td>0</td>\n",
       "      <td>2</td>\n",
       "      <td>4782.608696</td>\n",
       "    </tr>\n",
       "    <tr>\n",
       "      <th>89</th>\n",
       "      <td>710.0</td>\n",
       "      <td>6.0</td>\n",
       "      <td>3.0</td>\n",
       "      <td>160.0</td>\n",
       "      <td>Viman Nagar</td>\n",
       "      <td>0</td>\n",
       "      <td>0</td>\n",
       "      <td>1</td>\n",
       "      <td>0</td>\n",
       "      <td>1</td>\n",
       "      <td>0</td>\n",
       "      <td>0</td>\n",
       "      <td>0</td>\n",
       "      <td>6</td>\n",
       "      <td>22535.211268</td>\n",
       "    </tr>\n",
       "    <tr>\n",
       "      <th>119</th>\n",
       "      <td>276.0</td>\n",
       "      <td>3.0</td>\n",
       "      <td>3.0</td>\n",
       "      <td>23.0</td>\n",
       "      <td>Fatima Nagar</td>\n",
       "      <td>0</td>\n",
       "      <td>0</td>\n",
       "      <td>1</td>\n",
       "      <td>0</td>\n",
       "      <td>1</td>\n",
       "      <td>0</td>\n",
       "      <td>0</td>\n",
       "      <td>0</td>\n",
       "      <td>2</td>\n",
       "      <td>8333.333333</td>\n",
       "    </tr>\n",
       "    <tr>\n",
       "      <th>129</th>\n",
       "      <td>950.0</td>\n",
       "      <td>7.0</td>\n",
       "      <td>0.0</td>\n",
       "      <td>115.0</td>\n",
       "      <td>Hadapsar Industrial Estate</td>\n",
       "      <td>0</td>\n",
       "      <td>0</td>\n",
       "      <td>1</td>\n",
       "      <td>0</td>\n",
       "      <td>1</td>\n",
       "      <td>0</td>\n",
       "      <td>0</td>\n",
       "      <td>0</td>\n",
       "      <td>7</td>\n",
       "      <td>12105.263158</td>\n",
       "    </tr>\n",
       "    <tr>\n",
       "      <th>149</th>\n",
       "      <td>1034.0</td>\n",
       "      <td>5.0</td>\n",
       "      <td>NaN</td>\n",
       "      <td>185.0</td>\n",
       "      <td>Mangalwar peth</td>\n",
       "      <td>0</td>\n",
       "      <td>0</td>\n",
       "      <td>1</td>\n",
       "      <td>0</td>\n",
       "      <td>1</td>\n",
       "      <td>0</td>\n",
       "      <td>0</td>\n",
       "      <td>0</td>\n",
       "      <td>6</td>\n",
       "      <td>17891.682785</td>\n",
       "    </tr>\n",
       "  </tbody>\n",
       "</table>\n",
       "</div>"
      ],
      "text/plain": [
       "     total_sqft  bath  balcony  price               site_location  \\\n",
       "9        1020.0   6.0      NaN  370.0                Bhavani Peth   \n",
       "45        600.0   9.0      NaN  200.0              Kondhwa Budruk   \n",
       "58       1407.0   4.0      1.0  150.0                    Mundhawa   \n",
       "68       1350.0   7.0      0.0   85.0                    Pirangut   \n",
       "70        500.0   3.0      2.0  100.0        Pune Railway Station   \n",
       "78        460.0   1.0      0.0   22.0         Senapati Bapat Road   \n",
       "89        710.0   6.0      3.0  160.0                 Viman Nagar   \n",
       "119       276.0   3.0      3.0   23.0                Fatima Nagar   \n",
       "129       950.0   7.0      0.0  115.0  Hadapsar Industrial Estate   \n",
       "149      1034.0   5.0      NaN  185.0              Mangalwar peth   \n",
       "\n",
       "     area_type_Built-up  Area  area_type_Carpet  Area  area_type_Plot  Area  \\\n",
       "9                           0                       0                     1   \n",
       "45                          0                       0                     1   \n",
       "58                          0                       0                     1   \n",
       "68                          0                       0                     1   \n",
       "70                          0                       0                     1   \n",
       "78                          1                       0                     0   \n",
       "89                          0                       0                     1   \n",
       "119                         0                       0                     1   \n",
       "129                         0                       0                     1   \n",
       "149                         0                       0                     1   \n",
       "\n",
       "     area_type_Super built-up  Area  Availability_Ready_To_Move  \\\n",
       "9                                 0                           1   \n",
       "45                                0                           1   \n",
       "58                                0                           1   \n",
       "68                                0                           1   \n",
       "70                                0                           1   \n",
       "78                                0                           1   \n",
       "89                                0                           1   \n",
       "119                               0                           1   \n",
       "129                               0                           1   \n",
       "149                               0                           1   \n",
       "\n",
       "     Availability_Immediate_Possession  Availability_Month  Availability_Day  \\\n",
       "9                                    0                   0                 0   \n",
       "45                                   0                   0                 0   \n",
       "58                                   0                   0                 0   \n",
       "68                                   0                   0                 0   \n",
       "70                                   0                   0                 0   \n",
       "78                                   0                   0                 0   \n",
       "89                                   0                   0                 0   \n",
       "119                                  0                   0                 0   \n",
       "129                                  0                   0                 0   \n",
       "149                                  0                   0                 0   \n",
       "\n",
       "     BHK  price_per_sqft  \n",
       "9      6    36274.509804  \n",
       "45     8    33333.333333  \n",
       "58     6    10660.980810  \n",
       "68     8     6296.296296  \n",
       "70     3    20000.000000  \n",
       "78     2     4782.608696  \n",
       "89     6    22535.211268  \n",
       "119    2     8333.333333  \n",
       "129    7    12105.263158  \n",
       "149    6    17891.682785  "
      ]
     },
     "execution_count": 57,
     "metadata": {},
     "output_type": "execute_result"
    }
   ],
   "source": [
    "# df.loc[((df[\"total_sqft\"]/df[\"BHK\"]) < 300)].head(10)        instead of below u can also use this\n",
    "\n",
    "df[df.total_sqft/df.BHK<300].head(10) "
   ]
  },
  {
   "cell_type": "code",
   "execution_count": 58,
   "id": "c9253626",
   "metadata": {},
   "outputs": [
    {
     "data": {
      "text/plain": [
       "(13304, 15)"
      ]
     },
     "execution_count": 58,
     "metadata": {},
     "output_type": "execute_result"
    }
   ],
   "source": [
    "df.shape"
   ]
  },
  {
   "cell_type": "code",
   "execution_count": 59,
   "id": "4f843994",
   "metadata": {},
   "outputs": [
    {
     "data": {
      "text/html": [
       "<div>\n",
       "<style scoped>\n",
       "    .dataframe tbody tr th:only-of-type {\n",
       "        vertical-align: middle;\n",
       "    }\n",
       "\n",
       "    .dataframe tbody tr th {\n",
       "        vertical-align: top;\n",
       "    }\n",
       "\n",
       "    .dataframe thead th {\n",
       "        text-align: right;\n",
       "    }\n",
       "</style>\n",
       "<table border=\"1\" class=\"dataframe\">\n",
       "  <thead>\n",
       "    <tr style=\"text-align: right;\">\n",
       "      <th></th>\n",
       "      <th>total_sqft</th>\n",
       "      <th>bath</th>\n",
       "      <th>balcony</th>\n",
       "      <th>price</th>\n",
       "      <th>site_location</th>\n",
       "      <th>area_type_Built-up  Area</th>\n",
       "      <th>area_type_Carpet  Area</th>\n",
       "      <th>area_type_Plot  Area</th>\n",
       "      <th>area_type_Super built-up  Area</th>\n",
       "      <th>Availability_Ready_To_Move</th>\n",
       "      <th>Availability_Immediate_Possession</th>\n",
       "      <th>Availability_Month</th>\n",
       "      <th>Availability_Day</th>\n",
       "      <th>BHK</th>\n",
       "      <th>price_per_sqft</th>\n",
       "    </tr>\n",
       "  </thead>\n",
       "  <tbody>\n",
       "    <tr>\n",
       "      <th>0</th>\n",
       "      <td>1056.0</td>\n",
       "      <td>2.0</td>\n",
       "      <td>1.0</td>\n",
       "      <td>39.07</td>\n",
       "      <td>Alandi Road</td>\n",
       "      <td>0</td>\n",
       "      <td>0</td>\n",
       "      <td>0</td>\n",
       "      <td>1</td>\n",
       "      <td>0</td>\n",
       "      <td>0</td>\n",
       "      <td>12</td>\n",
       "      <td>19</td>\n",
       "      <td>2</td>\n",
       "      <td>3699.810606</td>\n",
       "    </tr>\n",
       "    <tr>\n",
       "      <th>1</th>\n",
       "      <td>2600.0</td>\n",
       "      <td>5.0</td>\n",
       "      <td>3.0</td>\n",
       "      <td>120.00</td>\n",
       "      <td>Ambegaon Budruk</td>\n",
       "      <td>0</td>\n",
       "      <td>0</td>\n",
       "      <td>1</td>\n",
       "      <td>0</td>\n",
       "      <td>1</td>\n",
       "      <td>0</td>\n",
       "      <td>0</td>\n",
       "      <td>0</td>\n",
       "      <td>4</td>\n",
       "      <td>4615.384615</td>\n",
       "    </tr>\n",
       "    <tr>\n",
       "      <th>2</th>\n",
       "      <td>1440.0</td>\n",
       "      <td>2.0</td>\n",
       "      <td>3.0</td>\n",
       "      <td>62.00</td>\n",
       "      <td>Anandnagar</td>\n",
       "      <td>1</td>\n",
       "      <td>0</td>\n",
       "      <td>0</td>\n",
       "      <td>0</td>\n",
       "      <td>1</td>\n",
       "      <td>0</td>\n",
       "      <td>0</td>\n",
       "      <td>0</td>\n",
       "      <td>3</td>\n",
       "      <td>4305.555556</td>\n",
       "    </tr>\n",
       "    <tr>\n",
       "      <th>3</th>\n",
       "      <td>1521.0</td>\n",
       "      <td>3.0</td>\n",
       "      <td>1.0</td>\n",
       "      <td>95.00</td>\n",
       "      <td>Aundh</td>\n",
       "      <td>0</td>\n",
       "      <td>0</td>\n",
       "      <td>0</td>\n",
       "      <td>1</td>\n",
       "      <td>1</td>\n",
       "      <td>0</td>\n",
       "      <td>0</td>\n",
       "      <td>0</td>\n",
       "      <td>3</td>\n",
       "      <td>6245.890861</td>\n",
       "    </tr>\n",
       "    <tr>\n",
       "      <th>4</th>\n",
       "      <td>1200.0</td>\n",
       "      <td>2.0</td>\n",
       "      <td>1.0</td>\n",
       "      <td>51.00</td>\n",
       "      <td>Aundh Road</td>\n",
       "      <td>0</td>\n",
       "      <td>0</td>\n",
       "      <td>0</td>\n",
       "      <td>1</td>\n",
       "      <td>1</td>\n",
       "      <td>0</td>\n",
       "      <td>0</td>\n",
       "      <td>0</td>\n",
       "      <td>2</td>\n",
       "      <td>4250.000000</td>\n",
       "    </tr>\n",
       "  </tbody>\n",
       "</table>\n",
       "</div>"
      ],
      "text/plain": [
       "   total_sqft  bath  balcony   price    site_location  \\\n",
       "0      1056.0   2.0      1.0   39.07      Alandi Road   \n",
       "1      2600.0   5.0      3.0  120.00  Ambegaon Budruk   \n",
       "2      1440.0   2.0      3.0   62.00       Anandnagar   \n",
       "3      1521.0   3.0      1.0   95.00            Aundh   \n",
       "4      1200.0   2.0      1.0   51.00       Aundh Road   \n",
       "\n",
       "   area_type_Built-up  Area  area_type_Carpet  Area  area_type_Plot  Area  \\\n",
       "0                         0                       0                     0   \n",
       "1                         0                       0                     1   \n",
       "2                         1                       0                     0   \n",
       "3                         0                       0                     0   \n",
       "4                         0                       0                     0   \n",
       "\n",
       "   area_type_Super built-up  Area  Availability_Ready_To_Move  \\\n",
       "0                               1                           0   \n",
       "1                               0                           1   \n",
       "2                               0                           1   \n",
       "3                               1                           1   \n",
       "4                               1                           1   \n",
       "\n",
       "   Availability_Immediate_Possession  Availability_Month  Availability_Day  \\\n",
       "0                                  0                  12                19   \n",
       "1                                  0                   0                 0   \n",
       "2                                  0                   0                 0   \n",
       "3                                  0                   0                 0   \n",
       "4                                  0                   0                 0   \n",
       "\n",
       "   BHK  price_per_sqft  \n",
       "0    2     3699.810606  \n",
       "1    4     4615.384615  \n",
       "2    3     4305.555556  \n",
       "3    3     6245.890861  \n",
       "4    2     4250.000000  "
      ]
     },
     "execution_count": 59,
     "metadata": {},
     "output_type": "execute_result"
    }
   ],
   "source": [
    "#  Removing the above dataframe\n",
    "\n",
    "df = df[~(df.total_sqft/df.BHK<300)]\n",
    "df.head(5)"
   ]
  },
  {
   "cell_type": "code",
   "execution_count": 60,
   "id": "39240799",
   "metadata": {},
   "outputs": [
    {
     "data": {
      "text/plain": [
       "(12560, 15)"
      ]
     },
     "execution_count": 60,
     "metadata": {},
     "output_type": "execute_result"
    }
   ],
   "source": [
    "df.shape"
   ]
  },
  {
   "cell_type": "code",
   "execution_count": 61,
   "id": "26eb2586",
   "metadata": {},
   "outputs": [],
   "source": [
    "#here we find that min price per sqft is 267 rs/sqft whereas max is 176470\n",
    "\n",
    "#this shows a wide variation in property prices.We should remove outliers per location\n",
    "\n",
    "#using mean and one standard deviation"
   ]
  },
  {
   "cell_type": "code",
   "execution_count": 62,
   "id": "e9216f12",
   "metadata": {
    "scrolled": true
   },
   "outputs": [
    {
     "data": {
      "text/plain": [
       "count     12321.000000\n",
       "mean       6323.355553\n",
       "std        4185.986202\n",
       "min         267.829813\n",
       "25%        4209.541628\n",
       "50%        5300.000000\n",
       "75%        6938.483548\n",
       "max      176470.588235\n",
       "Name: price_per_sqft, dtype: float64"
      ]
     },
     "execution_count": 62,
     "metadata": {},
     "output_type": "execute_result"
    }
   ],
   "source": [
    "df.price_per_sqft.describe()"
   ]
  },
  {
   "cell_type": "code",
   "execution_count": 63,
   "id": "8593aa3c",
   "metadata": {
    "scrolled": true
   },
   "outputs": [],
   "source": [
    "# for key, subdf in df.groupby('site_location'):\n",
    "    \n",
    "# #         Finding mean & std for each group\n",
    "#         m = np.mean(subdf.price_per_sqft)\n",
    "#         st = np.std(subdf.price_per_sqft)\n",
    "#         print(key)\n",
    "#         print(subdf)\n",
    "#         print(\"=\"*50)\n",
    "#         print(\"mean value: \",m)\n",
    "#         print(\"std value: \",st)\n",
    "#         print(\"=\"*50)\n",
    "#         reduced_df = subdf[(subdf.price_per_sqft>(m-st)) & (subdf.price_per_sqft<=(m+st))]"
   ]
  },
  {
   "cell_type": "code",
   "execution_count": 64,
   "id": "1f00e38e",
   "metadata": {},
   "outputs": [],
   "source": [
    "def remove_pps_outliers(df):\n",
    "    df_out = pd.DataFrame()\n",
    "    for key, subdf in df.groupby('site_location'):\n",
    "        \n",
    "        #     Finding mean & std for each group\n",
    "        m = np.mean(subdf.price_per_sqft)\n",
    "        st = np.std(subdf.price_per_sqft)\n",
    "        \n",
    "        # A new DataFrame called reduced_df is created for each group that only contains rows where the\n",
    "        # price_per_sqft value is within one standard deviation of the mean for that group\n",
    "\n",
    "        # The reason for using one standard deviation as the threshold\n",
    "        # is that it is a common statistical technique for detecting outliers in a dataset.\n",
    "        reduced_df = subdf[(subdf.price_per_sqft>(m-st)) & (subdf.price_per_sqft<=(m+st))]\n",
    "    \n",
    "        df_out = pd.concat([df_out,reduced_df],ignore_index=True)\n",
    "    return df_out"
   ]
  },
  {
   "cell_type": "code",
   "execution_count": 65,
   "id": "5c603be0",
   "metadata": {},
   "outputs": [],
   "source": [
    "#  Applying the above function and assigning a new variable\n",
    "\n",
    "df = remove_pps_outliers(df)"
   ]
  },
  {
   "cell_type": "code",
   "execution_count": 66,
   "id": "d855388d",
   "metadata": {},
   "outputs": [
    {
     "data": {
      "text/plain": [
       "(10761, 15)"
      ]
     },
     "execution_count": 66,
     "metadata": {},
     "output_type": "execute_result"
    }
   ],
   "source": [
    "df.shape"
   ]
  },
  {
   "cell_type": "code",
   "execution_count": 67,
   "id": "59f25886",
   "metadata": {},
   "outputs": [],
   "source": [
    "Location = df[\"site_location\"]\n"
   ]
  },
  {
   "cell_type": "code",
   "execution_count": 68,
   "id": "ab5ed629",
   "metadata": {},
   "outputs": [],
   "source": [
    "#  Encoding the \"site_location\" column.\n",
    "\n",
    "from sklearn.preprocessing import OrdinalEncoder\n",
    "\n",
    "\n",
    "oe = OrdinalEncoder(dtype=int)\n",
    "df['site_location'] = oe.fit_transform(df[['site_location']])"
   ]
  },
  {
   "cell_type": "code",
   "execution_count": 69,
   "id": "25e19510",
   "metadata": {},
   "outputs": [],
   "source": [
    "categories = oe.categories_"
   ]
  },
  {
   "cell_type": "code",
   "execution_count": 70,
   "id": "6ad18d7b",
   "metadata": {},
   "outputs": [],
   "source": [
    "encoder_dict = {category: i for i, category in enumerate(categories[0])}"
   ]
  },
  {
   "cell_type": "code",
   "execution_count": null,
   "id": "56014eb3",
   "metadata": {},
   "outputs": [],
   "source": []
  },
  {
   "cell_type": "code",
   "execution_count": null,
   "id": "cc36f020",
   "metadata": {},
   "outputs": [],
   "source": []
  },
  {
   "cell_type": "code",
   "execution_count": null,
   "id": "764dd5ea",
   "metadata": {},
   "outputs": [],
   "source": []
  },
  {
   "cell_type": "code",
   "execution_count": null,
   "id": "6ca36da0",
   "metadata": {},
   "outputs": [],
   "source": []
  },
  {
   "cell_type": "code",
   "execution_count": null,
   "id": "10141050",
   "metadata": {},
   "outputs": [],
   "source": []
  },
  {
   "cell_type": "code",
   "execution_count": 71,
   "id": "ece449a9",
   "metadata": {
    "scrolled": true
   },
   "outputs": [
    {
     "name": "stdout",
     "output_type": "stream",
     "text": [
      "<class 'pandas.core.frame.DataFrame'>\n",
      "RangeIndex: 10761 entries, 0 to 10760\n",
      "Data columns (total 15 columns):\n",
      " #   Column                             Non-Null Count  Dtype  \n",
      "---  ------                             --------------  -----  \n",
      " 0   total_sqft                         10761 non-null  float64\n",
      " 1   bath                               10753 non-null  float64\n",
      " 2   balcony                            10447 non-null  float64\n",
      " 3   price                              10761 non-null  float64\n",
      " 4   site_location                      10761 non-null  int32  \n",
      " 5   area_type_Built-up  Area           10761 non-null  uint8  \n",
      " 6   area_type_Carpet  Area             10761 non-null  uint8  \n",
      " 7   area_type_Plot  Area               10761 non-null  uint8  \n",
      " 8   area_type_Super built-up  Area     10761 non-null  uint8  \n",
      " 9   Availability_Ready_To_Move         10761 non-null  int64  \n",
      " 10  Availability_Immediate_Possession  10761 non-null  int64  \n",
      " 11  Availability_Month                 10761 non-null  int64  \n",
      " 12  Availability_Day                   10761 non-null  int64  \n",
      " 13  BHK                                10761 non-null  int64  \n",
      " 14  price_per_sqft                     10761 non-null  float64\n",
      "dtypes: float64(5), int32(1), int64(5), uint8(4)\n",
      "memory usage: 924.9 KB\n"
     ]
    }
   ],
   "source": [
    "df.info()"
   ]
  },
  {
   "cell_type": "markdown",
   "id": "ea9efe9c",
   "metadata": {},
   "source": [
    "# Feature Engineering"
   ]
  },
  {
   "cell_type": "markdown",
   "id": "e9eef1c6",
   "metadata": {},
   "source": [
    "## Handling The Missing Values"
   ]
  },
  {
   "cell_type": "markdown",
   "id": "80b7df59",
   "metadata": {},
   "source": [
    "### 1. Total_sqft "
   ]
  },
  {
   "cell_type": "code",
   "execution_count": 72,
   "id": "ca551cf4",
   "metadata": {},
   "outputs": [],
   "source": [
    "df.dropna(subset=[\"total_sqft\"],inplace=True)"
   ]
  },
  {
   "cell_type": "markdown",
   "id": "fafea236",
   "metadata": {},
   "source": [
    "### 2. Bath"
   ]
  },
  {
   "cell_type": "code",
   "execution_count": 73,
   "id": "48c83244",
   "metadata": {},
   "outputs": [
    {
     "data": {
      "text/plain": [
       "8"
      ]
     },
     "execution_count": 73,
     "metadata": {},
     "output_type": "execute_result"
    }
   ],
   "source": [
    "df[\"bath\"].isna().sum()"
   ]
  },
  {
   "cell_type": "code",
   "execution_count": 74,
   "id": "40b9cfb7",
   "metadata": {},
   "outputs": [
    {
     "data": {
      "text/html": [
       "<div>\n",
       "<style scoped>\n",
       "    .dataframe tbody tr th:only-of-type {\n",
       "        vertical-align: middle;\n",
       "    }\n",
       "\n",
       "    .dataframe tbody tr th {\n",
       "        vertical-align: top;\n",
       "    }\n",
       "\n",
       "    .dataframe thead th {\n",
       "        text-align: right;\n",
       "    }\n",
       "</style>\n",
       "<table border=\"1\" class=\"dataframe\">\n",
       "  <thead>\n",
       "    <tr style=\"text-align: right;\">\n",
       "      <th></th>\n",
       "      <th>total_sqft</th>\n",
       "      <th>bath</th>\n",
       "      <th>balcony</th>\n",
       "      <th>price</th>\n",
       "      <th>site_location</th>\n",
       "      <th>area_type_Built-up  Area</th>\n",
       "      <th>area_type_Carpet  Area</th>\n",
       "      <th>area_type_Plot  Area</th>\n",
       "      <th>area_type_Super built-up  Area</th>\n",
       "      <th>Availability_Ready_To_Move</th>\n",
       "      <th>Availability_Immediate_Possession</th>\n",
       "      <th>Availability_Month</th>\n",
       "      <th>Availability_Day</th>\n",
       "      <th>BHK</th>\n",
       "      <th>price_per_sqft</th>\n",
       "    </tr>\n",
       "  </thead>\n",
       "  <tbody>\n",
       "    <tr>\n",
       "      <th>count</th>\n",
       "      <td>10761.000000</td>\n",
       "      <td>10753.000000</td>\n",
       "      <td>10447.000000</td>\n",
       "      <td>10761.000000</td>\n",
       "      <td>10761.000000</td>\n",
       "      <td>10761.000000</td>\n",
       "      <td>10761.000000</td>\n",
       "      <td>10761.000000</td>\n",
       "      <td>10761.000000</td>\n",
       "      <td>10761.000000</td>\n",
       "      <td>10761.0</td>\n",
       "      <td>10761.000000</td>\n",
       "      <td>10761.000000</td>\n",
       "      <td>10761.000000</td>\n",
       "      <td>10761.000000</td>\n",
       "    </tr>\n",
       "    <tr>\n",
       "      <th>mean</th>\n",
       "      <td>1485.752987</td>\n",
       "      <td>2.458012</td>\n",
       "      <td>1.613860</td>\n",
       "      <td>83.633424</td>\n",
       "      <td>47.624663</td>\n",
       "      <td>0.190131</td>\n",
       "      <td>0.006505</td>\n",
       "      <td>0.069231</td>\n",
       "      <td>0.734133</td>\n",
       "      <td>0.789425</td>\n",
       "      <td>0.0</td>\n",
       "      <td>1.531084</td>\n",
       "      <td>3.901496</td>\n",
       "      <td>2.565654</td>\n",
       "      <td>5389.808120</td>\n",
       "    </tr>\n",
       "    <tr>\n",
       "      <th>std</th>\n",
       "      <td>845.835223</td>\n",
       "      <td>0.953499</td>\n",
       "      <td>0.780795</td>\n",
       "      <td>65.483766</td>\n",
       "      <td>27.727466</td>\n",
       "      <td>0.392423</td>\n",
       "      <td>0.080394</td>\n",
       "      <td>0.253859</td>\n",
       "      <td>0.441815</td>\n",
       "      <td>0.407736</td>\n",
       "      <td>0.0</td>\n",
       "      <td>3.392259</td>\n",
       "      <td>7.571491</td>\n",
       "      <td>0.890463</td>\n",
       "      <td>1616.337463</td>\n",
       "    </tr>\n",
       "    <tr>\n",
       "      <th>min</th>\n",
       "      <td>300.000000</td>\n",
       "      <td>1.000000</td>\n",
       "      <td>0.000000</td>\n",
       "      <td>10.000000</td>\n",
       "      <td>0.000000</td>\n",
       "      <td>0.000000</td>\n",
       "      <td>0.000000</td>\n",
       "      <td>0.000000</td>\n",
       "      <td>0.000000</td>\n",
       "      <td>0.000000</td>\n",
       "      <td>0.0</td>\n",
       "      <td>0.000000</td>\n",
       "      <td>0.000000</td>\n",
       "      <td>1.000000</td>\n",
       "      <td>1379.310345</td>\n",
       "    </tr>\n",
       "    <tr>\n",
       "      <th>25%</th>\n",
       "      <td>1105.000000</td>\n",
       "      <td>2.000000</td>\n",
       "      <td>1.000000</td>\n",
       "      <td>48.000000</td>\n",
       "      <td>23.000000</td>\n",
       "      <td>0.000000</td>\n",
       "      <td>0.000000</td>\n",
       "      <td>0.000000</td>\n",
       "      <td>0.000000</td>\n",
       "      <td>1.000000</td>\n",
       "      <td>0.0</td>\n",
       "      <td>0.000000</td>\n",
       "      <td>0.000000</td>\n",
       "      <td>2.000000</td>\n",
       "      <td>4182.509506</td>\n",
       "    </tr>\n",
       "    <tr>\n",
       "      <th>50%</th>\n",
       "      <td>1277.000000</td>\n",
       "      <td>2.000000</td>\n",
       "      <td>2.000000</td>\n",
       "      <td>65.000000</td>\n",
       "      <td>48.000000</td>\n",
       "      <td>0.000000</td>\n",
       "      <td>0.000000</td>\n",
       "      <td>0.000000</td>\n",
       "      <td>1.000000</td>\n",
       "      <td>1.000000</td>\n",
       "      <td>0.0</td>\n",
       "      <td>0.000000</td>\n",
       "      <td>0.000000</td>\n",
       "      <td>2.000000</td>\n",
       "      <td>5116.279070</td>\n",
       "    </tr>\n",
       "    <tr>\n",
       "      <th>75%</th>\n",
       "      <td>1622.000000</td>\n",
       "      <td>3.000000</td>\n",
       "      <td>2.000000</td>\n",
       "      <td>95.050000</td>\n",
       "      <td>72.000000</td>\n",
       "      <td>0.000000</td>\n",
       "      <td>0.000000</td>\n",
       "      <td>0.000000</td>\n",
       "      <td>1.000000</td>\n",
       "      <td>1.000000</td>\n",
       "      <td>0.0</td>\n",
       "      <td>0.000000</td>\n",
       "      <td>0.000000</td>\n",
       "      <td>3.000000</td>\n",
       "      <td>6344.410876</td>\n",
       "    </tr>\n",
       "    <tr>\n",
       "      <th>max</th>\n",
       "      <td>30400.000000</td>\n",
       "      <td>16.000000</td>\n",
       "      <td>3.000000</td>\n",
       "      <td>2100.000000</td>\n",
       "      <td>95.000000</td>\n",
       "      <td>1.000000</td>\n",
       "      <td>1.000000</td>\n",
       "      <td>1.000000</td>\n",
       "      <td>1.000000</td>\n",
       "      <td>1.000000</td>\n",
       "      <td>0.0</td>\n",
       "      <td>12.000000</td>\n",
       "      <td>22.000000</td>\n",
       "      <td>16.000000</td>\n",
       "      <td>17548.524329</td>\n",
       "    </tr>\n",
       "  </tbody>\n",
       "</table>\n",
       "</div>"
      ],
      "text/plain": [
       "         total_sqft          bath       balcony         price  site_location  \\\n",
       "count  10761.000000  10753.000000  10447.000000  10761.000000   10761.000000   \n",
       "mean    1485.752987      2.458012      1.613860     83.633424      47.624663   \n",
       "std      845.835223      0.953499      0.780795     65.483766      27.727466   \n",
       "min      300.000000      1.000000      0.000000     10.000000       0.000000   \n",
       "25%     1105.000000      2.000000      1.000000     48.000000      23.000000   \n",
       "50%     1277.000000      2.000000      2.000000     65.000000      48.000000   \n",
       "75%     1622.000000      3.000000      2.000000     95.050000      72.000000   \n",
       "max    30400.000000     16.000000      3.000000   2100.000000      95.000000   \n",
       "\n",
       "       area_type_Built-up  Area  area_type_Carpet  Area  area_type_Plot  Area  \\\n",
       "count              10761.000000            10761.000000          10761.000000   \n",
       "mean                   0.190131                0.006505              0.069231   \n",
       "std                    0.392423                0.080394              0.253859   \n",
       "min                    0.000000                0.000000              0.000000   \n",
       "25%                    0.000000                0.000000              0.000000   \n",
       "50%                    0.000000                0.000000              0.000000   \n",
       "75%                    0.000000                0.000000              0.000000   \n",
       "max                    1.000000                1.000000              1.000000   \n",
       "\n",
       "       area_type_Super built-up  Area  Availability_Ready_To_Move  \\\n",
       "count                    10761.000000                10761.000000   \n",
       "mean                         0.734133                    0.789425   \n",
       "std                          0.441815                    0.407736   \n",
       "min                          0.000000                    0.000000   \n",
       "25%                          0.000000                    1.000000   \n",
       "50%                          1.000000                    1.000000   \n",
       "75%                          1.000000                    1.000000   \n",
       "max                          1.000000                    1.000000   \n",
       "\n",
       "       Availability_Immediate_Possession  Availability_Month  \\\n",
       "count                            10761.0        10761.000000   \n",
       "mean                                 0.0            1.531084   \n",
       "std                                  0.0            3.392259   \n",
       "min                                  0.0            0.000000   \n",
       "25%                                  0.0            0.000000   \n",
       "50%                                  0.0            0.000000   \n",
       "75%                                  0.0            0.000000   \n",
       "max                                  0.0           12.000000   \n",
       "\n",
       "       Availability_Day           BHK  price_per_sqft  \n",
       "count      10761.000000  10761.000000    10761.000000  \n",
       "mean           3.901496      2.565654     5389.808120  \n",
       "std            7.571491      0.890463     1616.337463  \n",
       "min            0.000000      1.000000     1379.310345  \n",
       "25%            0.000000      2.000000     4182.509506  \n",
       "50%            0.000000      2.000000     5116.279070  \n",
       "75%            0.000000      3.000000     6344.410876  \n",
       "max           22.000000     16.000000    17548.524329  "
      ]
     },
     "execution_count": 74,
     "metadata": {},
     "output_type": "execute_result"
    }
   ],
   "source": [
    "df.describe()"
   ]
  },
  {
   "cell_type": "code",
   "execution_count": 75,
   "id": "caa967ae",
   "metadata": {},
   "outputs": [],
   "source": [
    "median = df[\"bath\"].median()"
   ]
  },
  {
   "cell_type": "code",
   "execution_count": 76,
   "id": "57d77aba",
   "metadata": {},
   "outputs": [],
   "source": [
    "df[\"bath\"].fillna(median,inplace=True)"
   ]
  },
  {
   "cell_type": "code",
   "execution_count": 77,
   "id": "07273478",
   "metadata": {},
   "outputs": [
    {
     "data": {
      "text/plain": [
       "0"
      ]
     },
     "execution_count": 77,
     "metadata": {},
     "output_type": "execute_result"
    }
   ],
   "source": [
    "df[\"bath\"].isna().sum()"
   ]
  },
  {
   "cell_type": "code",
   "execution_count": 78,
   "id": "d4449109",
   "metadata": {},
   "outputs": [],
   "source": [
    "df[\"bath\"] = df[\"bath\"].astype(int)"
   ]
  },
  {
   "cell_type": "markdown",
   "id": "d6d1c424",
   "metadata": {},
   "source": [
    "### 3.Balcony"
   ]
  },
  {
   "cell_type": "code",
   "execution_count": 79,
   "id": "b6919b83",
   "metadata": {},
   "outputs": [
    {
     "data": {
      "text/plain": [
       "314"
      ]
     },
     "execution_count": 79,
     "metadata": {},
     "output_type": "execute_result"
    }
   ],
   "source": [
    "df[\"balcony\"].isna().sum()"
   ]
  },
  {
   "cell_type": "code",
   "execution_count": 80,
   "id": "fb388e4e",
   "metadata": {},
   "outputs": [
    {
     "data": {
      "text/html": [
       "<div>\n",
       "<style scoped>\n",
       "    .dataframe tbody tr th:only-of-type {\n",
       "        vertical-align: middle;\n",
       "    }\n",
       "\n",
       "    .dataframe tbody tr th {\n",
       "        vertical-align: top;\n",
       "    }\n",
       "\n",
       "    .dataframe thead th {\n",
       "        text-align: right;\n",
       "    }\n",
       "</style>\n",
       "<table border=\"1\" class=\"dataframe\">\n",
       "  <thead>\n",
       "    <tr style=\"text-align: right;\">\n",
       "      <th></th>\n",
       "      <th>total_sqft</th>\n",
       "      <th>bath</th>\n",
       "      <th>balcony</th>\n",
       "      <th>price</th>\n",
       "      <th>site_location</th>\n",
       "      <th>area_type_Built-up  Area</th>\n",
       "      <th>area_type_Carpet  Area</th>\n",
       "      <th>area_type_Plot  Area</th>\n",
       "      <th>area_type_Super built-up  Area</th>\n",
       "      <th>Availability_Ready_To_Move</th>\n",
       "      <th>Availability_Immediate_Possession</th>\n",
       "      <th>Availability_Month</th>\n",
       "      <th>Availability_Day</th>\n",
       "      <th>BHK</th>\n",
       "      <th>price_per_sqft</th>\n",
       "    </tr>\n",
       "  </thead>\n",
       "  <tbody>\n",
       "    <tr>\n",
       "      <th>count</th>\n",
       "      <td>10761.000000</td>\n",
       "      <td>10761.000000</td>\n",
       "      <td>10447.000000</td>\n",
       "      <td>10761.000000</td>\n",
       "      <td>10761.000000</td>\n",
       "      <td>10761.000000</td>\n",
       "      <td>10761.000000</td>\n",
       "      <td>10761.000000</td>\n",
       "      <td>10761.000000</td>\n",
       "      <td>10761.000000</td>\n",
       "      <td>10761.0</td>\n",
       "      <td>10761.000000</td>\n",
       "      <td>10761.000000</td>\n",
       "      <td>10761.000000</td>\n",
       "      <td>10761.000000</td>\n",
       "    </tr>\n",
       "    <tr>\n",
       "      <th>mean</th>\n",
       "      <td>1485.752987</td>\n",
       "      <td>2.457671</td>\n",
       "      <td>1.613860</td>\n",
       "      <td>83.633424</td>\n",
       "      <td>47.624663</td>\n",
       "      <td>0.190131</td>\n",
       "      <td>0.006505</td>\n",
       "      <td>0.069231</td>\n",
       "      <td>0.734133</td>\n",
       "      <td>0.789425</td>\n",
       "      <td>0.0</td>\n",
       "      <td>1.531084</td>\n",
       "      <td>3.901496</td>\n",
       "      <td>2.565654</td>\n",
       "      <td>5389.808120</td>\n",
       "    </tr>\n",
       "    <tr>\n",
       "      <th>std</th>\n",
       "      <td>845.835223</td>\n",
       "      <td>0.953226</td>\n",
       "      <td>0.780795</td>\n",
       "      <td>65.483766</td>\n",
       "      <td>27.727466</td>\n",
       "      <td>0.392423</td>\n",
       "      <td>0.080394</td>\n",
       "      <td>0.253859</td>\n",
       "      <td>0.441815</td>\n",
       "      <td>0.407736</td>\n",
       "      <td>0.0</td>\n",
       "      <td>3.392259</td>\n",
       "      <td>7.571491</td>\n",
       "      <td>0.890463</td>\n",
       "      <td>1616.337463</td>\n",
       "    </tr>\n",
       "    <tr>\n",
       "      <th>min</th>\n",
       "      <td>300.000000</td>\n",
       "      <td>1.000000</td>\n",
       "      <td>0.000000</td>\n",
       "      <td>10.000000</td>\n",
       "      <td>0.000000</td>\n",
       "      <td>0.000000</td>\n",
       "      <td>0.000000</td>\n",
       "      <td>0.000000</td>\n",
       "      <td>0.000000</td>\n",
       "      <td>0.000000</td>\n",
       "      <td>0.0</td>\n",
       "      <td>0.000000</td>\n",
       "      <td>0.000000</td>\n",
       "      <td>1.000000</td>\n",
       "      <td>1379.310345</td>\n",
       "    </tr>\n",
       "    <tr>\n",
       "      <th>25%</th>\n",
       "      <td>1105.000000</td>\n",
       "      <td>2.000000</td>\n",
       "      <td>1.000000</td>\n",
       "      <td>48.000000</td>\n",
       "      <td>23.000000</td>\n",
       "      <td>0.000000</td>\n",
       "      <td>0.000000</td>\n",
       "      <td>0.000000</td>\n",
       "      <td>0.000000</td>\n",
       "      <td>1.000000</td>\n",
       "      <td>0.0</td>\n",
       "      <td>0.000000</td>\n",
       "      <td>0.000000</td>\n",
       "      <td>2.000000</td>\n",
       "      <td>4182.509506</td>\n",
       "    </tr>\n",
       "    <tr>\n",
       "      <th>50%</th>\n",
       "      <td>1277.000000</td>\n",
       "      <td>2.000000</td>\n",
       "      <td>2.000000</td>\n",
       "      <td>65.000000</td>\n",
       "      <td>48.000000</td>\n",
       "      <td>0.000000</td>\n",
       "      <td>0.000000</td>\n",
       "      <td>0.000000</td>\n",
       "      <td>1.000000</td>\n",
       "      <td>1.000000</td>\n",
       "      <td>0.0</td>\n",
       "      <td>0.000000</td>\n",
       "      <td>0.000000</td>\n",
       "      <td>2.000000</td>\n",
       "      <td>5116.279070</td>\n",
       "    </tr>\n",
       "    <tr>\n",
       "      <th>75%</th>\n",
       "      <td>1622.000000</td>\n",
       "      <td>3.000000</td>\n",
       "      <td>2.000000</td>\n",
       "      <td>95.050000</td>\n",
       "      <td>72.000000</td>\n",
       "      <td>0.000000</td>\n",
       "      <td>0.000000</td>\n",
       "      <td>0.000000</td>\n",
       "      <td>1.000000</td>\n",
       "      <td>1.000000</td>\n",
       "      <td>0.0</td>\n",
       "      <td>0.000000</td>\n",
       "      <td>0.000000</td>\n",
       "      <td>3.000000</td>\n",
       "      <td>6344.410876</td>\n",
       "    </tr>\n",
       "    <tr>\n",
       "      <th>max</th>\n",
       "      <td>30400.000000</td>\n",
       "      <td>16.000000</td>\n",
       "      <td>3.000000</td>\n",
       "      <td>2100.000000</td>\n",
       "      <td>95.000000</td>\n",
       "      <td>1.000000</td>\n",
       "      <td>1.000000</td>\n",
       "      <td>1.000000</td>\n",
       "      <td>1.000000</td>\n",
       "      <td>1.000000</td>\n",
       "      <td>0.0</td>\n",
       "      <td>12.000000</td>\n",
       "      <td>22.000000</td>\n",
       "      <td>16.000000</td>\n",
       "      <td>17548.524329</td>\n",
       "    </tr>\n",
       "  </tbody>\n",
       "</table>\n",
       "</div>"
      ],
      "text/plain": [
       "         total_sqft          bath       balcony         price  site_location  \\\n",
       "count  10761.000000  10761.000000  10447.000000  10761.000000   10761.000000   \n",
       "mean    1485.752987      2.457671      1.613860     83.633424      47.624663   \n",
       "std      845.835223      0.953226      0.780795     65.483766      27.727466   \n",
       "min      300.000000      1.000000      0.000000     10.000000       0.000000   \n",
       "25%     1105.000000      2.000000      1.000000     48.000000      23.000000   \n",
       "50%     1277.000000      2.000000      2.000000     65.000000      48.000000   \n",
       "75%     1622.000000      3.000000      2.000000     95.050000      72.000000   \n",
       "max    30400.000000     16.000000      3.000000   2100.000000      95.000000   \n",
       "\n",
       "       area_type_Built-up  Area  area_type_Carpet  Area  area_type_Plot  Area  \\\n",
       "count              10761.000000            10761.000000          10761.000000   \n",
       "mean                   0.190131                0.006505              0.069231   \n",
       "std                    0.392423                0.080394              0.253859   \n",
       "min                    0.000000                0.000000              0.000000   \n",
       "25%                    0.000000                0.000000              0.000000   \n",
       "50%                    0.000000                0.000000              0.000000   \n",
       "75%                    0.000000                0.000000              0.000000   \n",
       "max                    1.000000                1.000000              1.000000   \n",
       "\n",
       "       area_type_Super built-up  Area  Availability_Ready_To_Move  \\\n",
       "count                    10761.000000                10761.000000   \n",
       "mean                         0.734133                    0.789425   \n",
       "std                          0.441815                    0.407736   \n",
       "min                          0.000000                    0.000000   \n",
       "25%                          0.000000                    1.000000   \n",
       "50%                          1.000000                    1.000000   \n",
       "75%                          1.000000                    1.000000   \n",
       "max                          1.000000                    1.000000   \n",
       "\n",
       "       Availability_Immediate_Possession  Availability_Month  \\\n",
       "count                            10761.0        10761.000000   \n",
       "mean                                 0.0            1.531084   \n",
       "std                                  0.0            3.392259   \n",
       "min                                  0.0            0.000000   \n",
       "25%                                  0.0            0.000000   \n",
       "50%                                  0.0            0.000000   \n",
       "75%                                  0.0            0.000000   \n",
       "max                                  0.0           12.000000   \n",
       "\n",
       "       Availability_Day           BHK  price_per_sqft  \n",
       "count      10761.000000  10761.000000    10761.000000  \n",
       "mean           3.901496      2.565654     5389.808120  \n",
       "std            7.571491      0.890463     1616.337463  \n",
       "min            0.000000      1.000000     1379.310345  \n",
       "25%            0.000000      2.000000     4182.509506  \n",
       "50%            0.000000      2.000000     5116.279070  \n",
       "75%            0.000000      3.000000     6344.410876  \n",
       "max           22.000000     16.000000    17548.524329  "
      ]
     },
     "execution_count": 80,
     "metadata": {},
     "output_type": "execute_result"
    }
   ],
   "source": [
    "df.describe()"
   ]
  },
  {
   "cell_type": "code",
   "execution_count": 81,
   "id": "32e733bf",
   "metadata": {},
   "outputs": [],
   "source": [
    "df[\"balcony\"].fillna(2,inplace=True)"
   ]
  },
  {
   "cell_type": "code",
   "execution_count": 82,
   "id": "c453f1ae",
   "metadata": {},
   "outputs": [
    {
     "data": {
      "text/plain": [
       "0"
      ]
     },
     "execution_count": 82,
     "metadata": {},
     "output_type": "execute_result"
    }
   ],
   "source": [
    "df[\"balcony\"].isna().sum()"
   ]
  },
  {
   "cell_type": "code",
   "execution_count": 83,
   "id": "2ad4cf52",
   "metadata": {},
   "outputs": [],
   "source": [
    "df[\"balcony\"]=df[\"balcony\"].astype(int)"
   ]
  },
  {
   "cell_type": "code",
   "execution_count": 84,
   "id": "837c6805",
   "metadata": {},
   "outputs": [
    {
     "name": "stdout",
     "output_type": "stream",
     "text": [
      "<class 'pandas.core.frame.DataFrame'>\n",
      "RangeIndex: 10761 entries, 0 to 10760\n",
      "Data columns (total 15 columns):\n",
      " #   Column                             Non-Null Count  Dtype  \n",
      "---  ------                             --------------  -----  \n",
      " 0   total_sqft                         10761 non-null  float64\n",
      " 1   bath                               10761 non-null  int32  \n",
      " 2   balcony                            10761 non-null  int32  \n",
      " 3   price                              10761 non-null  float64\n",
      " 4   site_location                      10761 non-null  int32  \n",
      " 5   area_type_Built-up  Area           10761 non-null  uint8  \n",
      " 6   area_type_Carpet  Area             10761 non-null  uint8  \n",
      " 7   area_type_Plot  Area               10761 non-null  uint8  \n",
      " 8   area_type_Super built-up  Area     10761 non-null  uint8  \n",
      " 9   Availability_Ready_To_Move         10761 non-null  int64  \n",
      " 10  Availability_Immediate_Possession  10761 non-null  int64  \n",
      " 11  Availability_Month                 10761 non-null  int64  \n",
      " 12  Availability_Day                   10761 non-null  int64  \n",
      " 13  BHK                                10761 non-null  int64  \n",
      " 14  price_per_sqft                     10761 non-null  float64\n",
      "dtypes: float64(3), int32(3), int64(5), uint8(4)\n",
      "memory usage: 840.8 KB\n"
     ]
    }
   ],
   "source": [
    "df.info()"
   ]
  },
  {
   "cell_type": "code",
   "execution_count": 85,
   "id": "a0e5cb6a",
   "metadata": {},
   "outputs": [
    {
     "data": {
      "text/plain": [
       "(10761, 15)"
      ]
     },
     "execution_count": 85,
     "metadata": {},
     "output_type": "execute_result"
    }
   ],
   "source": [
    "df.shape"
   ]
  },
  {
   "cell_type": "markdown",
   "id": "29862590",
   "metadata": {},
   "source": [
    "### Removing outlier from BHK"
   ]
  },
  {
   "cell_type": "code",
   "execution_count": 86,
   "id": "c1c84a41",
   "metadata": {},
   "outputs": [
    {
     "data": {
      "text/plain": [
       "(7497, 15)"
      ]
     },
     "execution_count": 86,
     "metadata": {},
     "output_type": "execute_result"
    }
   ],
   "source": [
    "\n",
    "def remove_bhk_outliers(df):\n",
    "    exclude_indices = np.array([])\n",
    "    for location, location_df in df.groupby('site_location'):\n",
    "        global bhk_stats\n",
    "        bhk_stats = {}\n",
    "        for bhk, bhk_df in location_df.groupby('BHK'):\n",
    "            bhk_stats[bhk] = {\n",
    "                'mean': np.mean(bhk_df.price_per_sqft),\n",
    "                'std': np.std(bhk_df.price_per_sqft),\n",
    "                'count': bhk_df.shape[0]\n",
    "            }\n",
    "        for bhk, bhk_df in location_df.groupby('BHK'):\n",
    "            stats = bhk_stats.get(bhk-1)\n",
    "            if stats and stats['count']>5:\n",
    "                exclude_indices = np.append(exclude_indices, bhk_df[bhk_df.price_per_sqft<(stats['mean'])].index.values)\n",
    "    return df.drop(exclude_indices,axis='index')\n",
    "df = remove_bhk_outliers(df)\n",
    "\n",
    "df.shape"
   ]
  },
  {
   "cell_type": "markdown",
   "id": "ce365a6a",
   "metadata": {},
   "source": [
    "# Feature Selection"
   ]
  },
  {
   "cell_type": "code",
   "execution_count": 87,
   "id": "aaa92b14",
   "metadata": {},
   "outputs": [
    {
     "data": {
      "text/html": [
       "<div>\n",
       "<style scoped>\n",
       "    .dataframe tbody tr th:only-of-type {\n",
       "        vertical-align: middle;\n",
       "    }\n",
       "\n",
       "    .dataframe tbody tr th {\n",
       "        vertical-align: top;\n",
       "    }\n",
       "\n",
       "    .dataframe thead th {\n",
       "        text-align: right;\n",
       "    }\n",
       "</style>\n",
       "<table border=\"1\" class=\"dataframe\">\n",
       "  <thead>\n",
       "    <tr style=\"text-align: right;\">\n",
       "      <th></th>\n",
       "      <th>total_sqft</th>\n",
       "      <th>bath</th>\n",
       "      <th>balcony</th>\n",
       "      <th>price</th>\n",
       "      <th>site_location</th>\n",
       "      <th>area_type_Built-up  Area</th>\n",
       "      <th>area_type_Carpet  Area</th>\n",
       "      <th>area_type_Plot  Area</th>\n",
       "      <th>area_type_Super built-up  Area</th>\n",
       "      <th>Availability_Ready_To_Move</th>\n",
       "      <th>Availability_Immediate_Possession</th>\n",
       "      <th>Availability_Month</th>\n",
       "      <th>Availability_Day</th>\n",
       "      <th>BHK</th>\n",
       "      <th>price_per_sqft</th>\n",
       "    </tr>\n",
       "  </thead>\n",
       "  <tbody>\n",
       "    <tr>\n",
       "      <th>0</th>\n",
       "      <td>1056.0</td>\n",
       "      <td>2</td>\n",
       "      <td>1</td>\n",
       "      <td>39.07</td>\n",
       "      <td>0</td>\n",
       "      <td>0</td>\n",
       "      <td>0</td>\n",
       "      <td>0</td>\n",
       "      <td>1</td>\n",
       "      <td>0</td>\n",
       "      <td>0</td>\n",
       "      <td>12</td>\n",
       "      <td>19</td>\n",
       "      <td>2</td>\n",
       "      <td>3699.810606</td>\n",
       "    </tr>\n",
       "    <tr>\n",
       "      <th>1</th>\n",
       "      <td>2894.0</td>\n",
       "      <td>4</td>\n",
       "      <td>1</td>\n",
       "      <td>245.00</td>\n",
       "      <td>0</td>\n",
       "      <td>0</td>\n",
       "      <td>0</td>\n",
       "      <td>1</td>\n",
       "      <td>0</td>\n",
       "      <td>1</td>\n",
       "      <td>0</td>\n",
       "      <td>0</td>\n",
       "      <td>0</td>\n",
       "      <td>4</td>\n",
       "      <td>8465.791292</td>\n",
       "    </tr>\n",
       "    <tr>\n",
       "      <th>2</th>\n",
       "      <td>1084.0</td>\n",
       "      <td>2</td>\n",
       "      <td>2</td>\n",
       "      <td>50.00</td>\n",
       "      <td>0</td>\n",
       "      <td>0</td>\n",
       "      <td>0</td>\n",
       "      <td>0</td>\n",
       "      <td>1</td>\n",
       "      <td>1</td>\n",
       "      <td>0</td>\n",
       "      <td>0</td>\n",
       "      <td>0</td>\n",
       "      <td>2</td>\n",
       "      <td>4612.546125</td>\n",
       "    </tr>\n",
       "    <tr>\n",
       "      <th>3</th>\n",
       "      <td>1230.0</td>\n",
       "      <td>2</td>\n",
       "      <td>2</td>\n",
       "      <td>80.00</td>\n",
       "      <td>0</td>\n",
       "      <td>0</td>\n",
       "      <td>0</td>\n",
       "      <td>0</td>\n",
       "      <td>1</td>\n",
       "      <td>1</td>\n",
       "      <td>0</td>\n",
       "      <td>0</td>\n",
       "      <td>0</td>\n",
       "      <td>2</td>\n",
       "      <td>6504.065041</td>\n",
       "    </tr>\n",
       "    <tr>\n",
       "      <th>4</th>\n",
       "      <td>1750.0</td>\n",
       "      <td>3</td>\n",
       "      <td>2</td>\n",
       "      <td>130.00</td>\n",
       "      <td>0</td>\n",
       "      <td>0</td>\n",
       "      <td>0</td>\n",
       "      <td>0</td>\n",
       "      <td>1</td>\n",
       "      <td>1</td>\n",
       "      <td>0</td>\n",
       "      <td>0</td>\n",
       "      <td>0</td>\n",
       "      <td>3</td>\n",
       "      <td>7428.571429</td>\n",
       "    </tr>\n",
       "  </tbody>\n",
       "</table>\n",
       "</div>"
      ],
      "text/plain": [
       "   total_sqft  bath  balcony   price  site_location  area_type_Built-up  Area  \\\n",
       "0      1056.0     2        1   39.07              0                         0   \n",
       "1      2894.0     4        1  245.00              0                         0   \n",
       "2      1084.0     2        2   50.00              0                         0   \n",
       "3      1230.0     2        2   80.00              0                         0   \n",
       "4      1750.0     3        2  130.00              0                         0   \n",
       "\n",
       "   area_type_Carpet  Area  area_type_Plot  Area  \\\n",
       "0                       0                     0   \n",
       "1                       0                     1   \n",
       "2                       0                     0   \n",
       "3                       0                     0   \n",
       "4                       0                     0   \n",
       "\n",
       "   area_type_Super built-up  Area  Availability_Ready_To_Move  \\\n",
       "0                               1                           0   \n",
       "1                               0                           1   \n",
       "2                               1                           1   \n",
       "3                               1                           1   \n",
       "4                               1                           1   \n",
       "\n",
       "   Availability_Immediate_Possession  Availability_Month  Availability_Day  \\\n",
       "0                                  0                  12                19   \n",
       "1                                  0                   0                 0   \n",
       "2                                  0                   0                 0   \n",
       "3                                  0                   0                 0   \n",
       "4                                  0                   0                 0   \n",
       "\n",
       "   BHK  price_per_sqft  \n",
       "0    2     3699.810606  \n",
       "1    4     8465.791292  \n",
       "2    2     4612.546125  \n",
       "3    2     6504.065041  \n",
       "4    3     7428.571429  "
      ]
     },
     "execution_count": 87,
     "metadata": {},
     "output_type": "execute_result"
    }
   ],
   "source": [
    "df.head(5)"
   ]
  },
  {
   "cell_type": "code",
   "execution_count": 88,
   "id": "c23e4056",
   "metadata": {},
   "outputs": [
    {
     "data": {
      "text/plain": [
       "0"
      ]
     },
     "execution_count": 88,
     "metadata": {},
     "output_type": "execute_result"
    }
   ],
   "source": [
    "df[\"Availability_Immediate_Possession\"].isna().sum()"
   ]
  },
  {
   "cell_type": "code",
   "execution_count": 89,
   "id": "1f9f8744",
   "metadata": {
    "scrolled": true
   },
   "outputs": [
    {
     "data": {
      "text/html": [
       "<div>\n",
       "<style scoped>\n",
       "    .dataframe tbody tr th:only-of-type {\n",
       "        vertical-align: middle;\n",
       "    }\n",
       "\n",
       "    .dataframe tbody tr th {\n",
       "        vertical-align: top;\n",
       "    }\n",
       "\n",
       "    .dataframe thead th {\n",
       "        text-align: right;\n",
       "    }\n",
       "</style>\n",
       "<table border=\"1\" class=\"dataframe\">\n",
       "  <thead>\n",
       "    <tr style=\"text-align: right;\">\n",
       "      <th></th>\n",
       "      <th>total_sqft</th>\n",
       "      <th>bath</th>\n",
       "      <th>balcony</th>\n",
       "      <th>price</th>\n",
       "      <th>site_location</th>\n",
       "      <th>area_type_Built-up  Area</th>\n",
       "      <th>area_type_Carpet  Area</th>\n",
       "      <th>area_type_Plot  Area</th>\n",
       "      <th>area_type_Super built-up  Area</th>\n",
       "      <th>Availability_Ready_To_Move</th>\n",
       "      <th>Availability_Immediate_Possession</th>\n",
       "      <th>Availability_Month</th>\n",
       "      <th>Availability_Day</th>\n",
       "      <th>BHK</th>\n",
       "      <th>price_per_sqft</th>\n",
       "    </tr>\n",
       "  </thead>\n",
       "  <tbody>\n",
       "    <tr>\n",
       "      <th>total_sqft</th>\n",
       "      <td>1.000000</td>\n",
       "      <td>0.671900</td>\n",
       "      <td>0.229946</td>\n",
       "      <td>0.919740</td>\n",
       "      <td>-0.016364</td>\n",
       "      <td>0.038499</td>\n",
       "      <td>-0.020600</td>\n",
       "      <td>0.155158</td>\n",
       "      <td>-0.124902</td>\n",
       "      <td>0.034985</td>\n",
       "      <td>NaN</td>\n",
       "      <td>-0.031780</td>\n",
       "      <td>-0.037621</td>\n",
       "      <td>0.655363</td>\n",
       "      <td>0.300879</td>\n",
       "    </tr>\n",
       "    <tr>\n",
       "      <th>bath</th>\n",
       "      <td>0.671900</td>\n",
       "      <td>1.000000</td>\n",
       "      <td>0.272822</td>\n",
       "      <td>0.637550</td>\n",
       "      <td>-0.007454</td>\n",
       "      <td>0.035556</td>\n",
       "      <td>-0.001231</td>\n",
       "      <td>0.156733</td>\n",
       "      <td>-0.126921</td>\n",
       "      <td>0.034919</td>\n",
       "      <td>NaN</td>\n",
       "      <td>-0.025241</td>\n",
       "      <td>-0.036602</td>\n",
       "      <td>0.895559</td>\n",
       "      <td>0.323679</td>\n",
       "    </tr>\n",
       "    <tr>\n",
       "      <th>balcony</th>\n",
       "      <td>0.229946</td>\n",
       "      <td>0.272822</td>\n",
       "      <td>1.000000</td>\n",
       "      <td>0.219846</td>\n",
       "      <td>0.007554</td>\n",
       "      <td>-0.059947</td>\n",
       "      <td>-0.000072</td>\n",
       "      <td>-0.161292</td>\n",
       "      <td>0.151259</td>\n",
       "      <td>0.101273</td>\n",
       "      <td>NaN</td>\n",
       "      <td>-0.085952</td>\n",
       "      <td>-0.101960</td>\n",
       "      <td>0.260826</td>\n",
       "      <td>0.106057</td>\n",
       "    </tr>\n",
       "    <tr>\n",
       "      <th>price</th>\n",
       "      <td>0.919740</td>\n",
       "      <td>0.637550</td>\n",
       "      <td>0.219846</td>\n",
       "      <td>1.000000</td>\n",
       "      <td>-0.011901</td>\n",
       "      <td>0.019193</td>\n",
       "      <td>-0.007413</td>\n",
       "      <td>0.193291</td>\n",
       "      <td>-0.133892</td>\n",
       "      <td>0.023485</td>\n",
       "      <td>NaN</td>\n",
       "      <td>-0.024117</td>\n",
       "      <td>-0.025315</td>\n",
       "      <td>0.608644</td>\n",
       "      <td>0.594001</td>\n",
       "    </tr>\n",
       "    <tr>\n",
       "      <th>site_location</th>\n",
       "      <td>-0.016364</td>\n",
       "      <td>-0.007454</td>\n",
       "      <td>0.007554</td>\n",
       "      <td>-0.011901</td>\n",
       "      <td>1.000000</td>\n",
       "      <td>0.006306</td>\n",
       "      <td>0.008783</td>\n",
       "      <td>-0.009112</td>\n",
       "      <td>-0.001563</td>\n",
       "      <td>-0.005384</td>\n",
       "      <td>NaN</td>\n",
       "      <td>-0.003261</td>\n",
       "      <td>0.006289</td>\n",
       "      <td>-0.003647</td>\n",
       "      <td>0.003154</td>\n",
       "    </tr>\n",
       "    <tr>\n",
       "      <th>...</th>\n",
       "      <td>...</td>\n",
       "      <td>...</td>\n",
       "      <td>...</td>\n",
       "      <td>...</td>\n",
       "      <td>...</td>\n",
       "      <td>...</td>\n",
       "      <td>...</td>\n",
       "      <td>...</td>\n",
       "      <td>...</td>\n",
       "      <td>...</td>\n",
       "      <td>...</td>\n",
       "      <td>...</td>\n",
       "      <td>...</td>\n",
       "      <td>...</td>\n",
       "      <td>...</td>\n",
       "    </tr>\n",
       "    <tr>\n",
       "      <th>Availability_Immediate_Possession</th>\n",
       "      <td>NaN</td>\n",
       "      <td>NaN</td>\n",
       "      <td>NaN</td>\n",
       "      <td>NaN</td>\n",
       "      <td>NaN</td>\n",
       "      <td>NaN</td>\n",
       "      <td>NaN</td>\n",
       "      <td>NaN</td>\n",
       "      <td>NaN</td>\n",
       "      <td>NaN</td>\n",
       "      <td>NaN</td>\n",
       "      <td>NaN</td>\n",
       "      <td>NaN</td>\n",
       "      <td>NaN</td>\n",
       "      <td>NaN</td>\n",
       "    </tr>\n",
       "    <tr>\n",
       "      <th>Availability_Month</th>\n",
       "      <td>-0.031780</td>\n",
       "      <td>-0.025241</td>\n",
       "      <td>-0.085952</td>\n",
       "      <td>-0.024117</td>\n",
       "      <td>-0.003261</td>\n",
       "      <td>-0.114995</td>\n",
       "      <td>0.036457</td>\n",
       "      <td>-0.044757</td>\n",
       "      <td>0.121040</td>\n",
       "      <td>-0.867587</td>\n",
       "      <td>NaN</td>\n",
       "      <td>1.000000</td>\n",
       "      <td>0.868703</td>\n",
       "      <td>-0.048988</td>\n",
       "      <td>-0.009939</td>\n",
       "    </tr>\n",
       "    <tr>\n",
       "      <th>Availability_Day</th>\n",
       "      <td>-0.037621</td>\n",
       "      <td>-0.036602</td>\n",
       "      <td>-0.101960</td>\n",
       "      <td>-0.025315</td>\n",
       "      <td>0.006289</td>\n",
       "      <td>-0.136410</td>\n",
       "      <td>0.015683</td>\n",
       "      <td>-0.042149</td>\n",
       "      <td>0.142027</td>\n",
       "      <td>-0.997517</td>\n",
       "      <td>NaN</td>\n",
       "      <td>0.868703</td>\n",
       "      <td>1.000000</td>\n",
       "      <td>-0.062025</td>\n",
       "      <td>0.005518</td>\n",
       "    </tr>\n",
       "    <tr>\n",
       "      <th>BHK</th>\n",
       "      <td>0.655363</td>\n",
       "      <td>0.895559</td>\n",
       "      <td>0.260826</td>\n",
       "      <td>0.608644</td>\n",
       "      <td>-0.003647</td>\n",
       "      <td>0.061277</td>\n",
       "      <td>0.008021</td>\n",
       "      <td>0.177589</td>\n",
       "      <td>-0.163900</td>\n",
       "      <td>0.060410</td>\n",
       "      <td>NaN</td>\n",
       "      <td>-0.048988</td>\n",
       "      <td>-0.062025</td>\n",
       "      <td>1.000000</td>\n",
       "      <td>0.322052</td>\n",
       "    </tr>\n",
       "    <tr>\n",
       "      <th>price_per_sqft</th>\n",
       "      <td>0.300879</td>\n",
       "      <td>0.323679</td>\n",
       "      <td>0.106057</td>\n",
       "      <td>0.594001</td>\n",
       "      <td>0.003154</td>\n",
       "      <td>-0.034629</td>\n",
       "      <td>0.034616</td>\n",
       "      <td>0.197188</td>\n",
       "      <td>-0.097145</td>\n",
       "      <td>-0.003943</td>\n",
       "      <td>NaN</td>\n",
       "      <td>-0.009939</td>\n",
       "      <td>0.005518</td>\n",
       "      <td>0.322052</td>\n",
       "      <td>1.000000</td>\n",
       "    </tr>\n",
       "  </tbody>\n",
       "</table>\n",
       "<p>15 rows × 15 columns</p>\n",
       "</div>"
      ],
      "text/plain": [
       "                                   total_sqft      bath   balcony     price  \\\n",
       "total_sqft                           1.000000  0.671900  0.229946  0.919740   \n",
       "bath                                 0.671900  1.000000  0.272822  0.637550   \n",
       "balcony                              0.229946  0.272822  1.000000  0.219846   \n",
       "price                                0.919740  0.637550  0.219846  1.000000   \n",
       "site_location                       -0.016364 -0.007454  0.007554 -0.011901   \n",
       "...                                       ...       ...       ...       ...   \n",
       "Availability_Immediate_Possession         NaN       NaN       NaN       NaN   \n",
       "Availability_Month                  -0.031780 -0.025241 -0.085952 -0.024117   \n",
       "Availability_Day                    -0.037621 -0.036602 -0.101960 -0.025315   \n",
       "BHK                                  0.655363  0.895559  0.260826  0.608644   \n",
       "price_per_sqft                       0.300879  0.323679  0.106057  0.594001   \n",
       "\n",
       "                                   site_location  area_type_Built-up  Area  \\\n",
       "total_sqft                             -0.016364                  0.038499   \n",
       "bath                                   -0.007454                  0.035556   \n",
       "balcony                                 0.007554                 -0.059947   \n",
       "price                                  -0.011901                  0.019193   \n",
       "site_location                           1.000000                  0.006306   \n",
       "...                                          ...                       ...   \n",
       "Availability_Immediate_Possession            NaN                       NaN   \n",
       "Availability_Month                     -0.003261                 -0.114995   \n",
       "Availability_Day                        0.006289                 -0.136410   \n",
       "BHK                                    -0.003647                  0.061277   \n",
       "price_per_sqft                          0.003154                 -0.034629   \n",
       "\n",
       "                                   area_type_Carpet  Area  \\\n",
       "total_sqft                                      -0.020600   \n",
       "bath                                            -0.001231   \n",
       "balcony                                         -0.000072   \n",
       "price                                           -0.007413   \n",
       "site_location                                    0.008783   \n",
       "...                                                   ...   \n",
       "Availability_Immediate_Possession                     NaN   \n",
       "Availability_Month                               0.036457   \n",
       "Availability_Day                                 0.015683   \n",
       "BHK                                              0.008021   \n",
       "price_per_sqft                                   0.034616   \n",
       "\n",
       "                                   area_type_Plot  Area  \\\n",
       "total_sqft                                     0.155158   \n",
       "bath                                           0.156733   \n",
       "balcony                                       -0.161292   \n",
       "price                                          0.193291   \n",
       "site_location                                 -0.009112   \n",
       "...                                                 ...   \n",
       "Availability_Immediate_Possession                   NaN   \n",
       "Availability_Month                            -0.044757   \n",
       "Availability_Day                              -0.042149   \n",
       "BHK                                            0.177589   \n",
       "price_per_sqft                                 0.197188   \n",
       "\n",
       "                                   area_type_Super built-up  Area  \\\n",
       "total_sqft                                              -0.124902   \n",
       "bath                                                    -0.126921   \n",
       "balcony                                                  0.151259   \n",
       "price                                                   -0.133892   \n",
       "site_location                                           -0.001563   \n",
       "...                                                           ...   \n",
       "Availability_Immediate_Possession                             NaN   \n",
       "Availability_Month                                       0.121040   \n",
       "Availability_Day                                         0.142027   \n",
       "BHK                                                     -0.163900   \n",
       "price_per_sqft                                          -0.097145   \n",
       "\n",
       "                                   Availability_Ready_To_Move  \\\n",
       "total_sqft                                           0.034985   \n",
       "bath                                                 0.034919   \n",
       "balcony                                              0.101273   \n",
       "price                                                0.023485   \n",
       "site_location                                       -0.005384   \n",
       "...                                                       ...   \n",
       "Availability_Immediate_Possession                         NaN   \n",
       "Availability_Month                                  -0.867587   \n",
       "Availability_Day                                    -0.997517   \n",
       "BHK                                                  0.060410   \n",
       "price_per_sqft                                      -0.003943   \n",
       "\n",
       "                                   Availability_Immediate_Possession  \\\n",
       "total_sqft                                                       NaN   \n",
       "bath                                                             NaN   \n",
       "balcony                                                          NaN   \n",
       "price                                                            NaN   \n",
       "site_location                                                    NaN   \n",
       "...                                                              ...   \n",
       "Availability_Immediate_Possession                                NaN   \n",
       "Availability_Month                                               NaN   \n",
       "Availability_Day                                                 NaN   \n",
       "BHK                                                              NaN   \n",
       "price_per_sqft                                                   NaN   \n",
       "\n",
       "                                   Availability_Month  Availability_Day  \\\n",
       "total_sqft                                  -0.031780         -0.037621   \n",
       "bath                                        -0.025241         -0.036602   \n",
       "balcony                                     -0.085952         -0.101960   \n",
       "price                                       -0.024117         -0.025315   \n",
       "site_location                               -0.003261          0.006289   \n",
       "...                                               ...               ...   \n",
       "Availability_Immediate_Possession                 NaN               NaN   \n",
       "Availability_Month                           1.000000          0.868703   \n",
       "Availability_Day                             0.868703          1.000000   \n",
       "BHK                                         -0.048988         -0.062025   \n",
       "price_per_sqft                              -0.009939          0.005518   \n",
       "\n",
       "                                        BHK  price_per_sqft  \n",
       "total_sqft                         0.655363        0.300879  \n",
       "bath                               0.895559        0.323679  \n",
       "balcony                            0.260826        0.106057  \n",
       "price                              0.608644        0.594001  \n",
       "site_location                     -0.003647        0.003154  \n",
       "...                                     ...             ...  \n",
       "Availability_Immediate_Possession       NaN             NaN  \n",
       "Availability_Month                -0.048988       -0.009939  \n",
       "Availability_Day                  -0.062025        0.005518  \n",
       "BHK                                1.000000        0.322052  \n",
       "price_per_sqft                     0.322052        1.000000  \n",
       "\n",
       "[15 rows x 15 columns]"
      ]
     },
     "execution_count": 89,
     "metadata": {},
     "output_type": "execute_result"
    }
   ],
   "source": [
    "df.corr()"
   ]
  },
  {
   "cell_type": "code",
   "execution_count": 90,
   "id": "8c646ca1",
   "metadata": {
    "scrolled": true
   },
   "outputs": [
    {
     "data": {
      "text/plain": [
       "<AxesSubplot:>"
      ]
     },
     "execution_count": 90,
     "metadata": {},
     "output_type": "execute_result"
    },
    {
     "data": {
      "image/png": "[encoded data removed]",
      "text/plain": [
       "<Figure size 2000x2000 with 2 Axes>"
      ]
     },
     "metadata": {},
     "output_type": "display_data"
    }
   ],
   "source": [
    "plt.figure(figsize=(20,20))\n",
    "sns.heatmap(df.corr(),annot=True,cmap=\"Blues\")"
   ]
  },
  {
   "cell_type": "code",
   "execution_count": 91,
   "id": "f3d5e97b",
   "metadata": {},
   "outputs": [
    {
     "data": {
      "text/plain": [
       "<AxesSubplot:>"
      ]
     },
     "execution_count": 91,
     "metadata": {},
     "output_type": "execute_result"
    },
    {
     "data": {
      "image/png": "[encoded data removed]",
      "text/plain": [
       "<Figure size 1500x200 with 2 Axes>"
      ]
     },
     "metadata": {},
     "output_type": "display_data"
    }
   ],
   "source": [
    "plt.figure(figsize=(15,1))\n",
    "sns.heatmap(df.corr().head(4).tail(1),annot=True,cmap=\"Blues\")"
   ]
  },
  {
   "cell_type": "code",
   "execution_count": 92,
   "id": "ef45ab5e",
   "metadata": {},
   "outputs": [
    {
     "data": {
      "text/plain": [
       "<AxesSubplot:>"
      ]
     },
     "execution_count": 92,
     "metadata": {},
     "output_type": "execute_result"
    },
    {
     "data": {
      "image/png": "[encoded data removed]",
      "text/plain": [
       "<Figure size 640x480 with 1 Axes>"
      ]
     },
     "metadata": {},
     "output_type": "display_data"
    }
   ],
   "source": [
    "vif_list = []\n",
    "\n",
    "for i in range(df.shape[1]):\n",
    "    vif = variance_inflation_factor(df.to_numpy(),i)\n",
    "    vif_list.append(vif)\n",
    "s1 = pd.Series(vif_list,index=df.columns)\n",
    "s1.sort_values().plot(kind=\"barh\")"
   ]
  },
  {
   "cell_type": "code",
   "execution_count": 93,
   "id": "8f251651",
   "metadata": {},
   "outputs": [],
   "source": [
    "df = df.drop([\"price_per_sqft\",\"Availability_Day\"],axis=1)"
   ]
  },
  {
   "cell_type": "code",
   "execution_count": 94,
   "id": "a3ab8260",
   "metadata": {},
   "outputs": [],
   "source": [
    "model_details = []\n",
    "Testing_accuracy = []\n",
    "Training_accuracy = []\n",
    "best_params_list = []"
   ]
  },
  {
   "cell_type": "markdown",
   "id": "9eef8703",
   "metadata": {},
   "source": [
    "# Train-Test_split"
   ]
  },
  {
   "cell_type": "code",
   "execution_count": 95,
   "id": "e3e9a9e8",
   "metadata": {},
   "outputs": [],
   "source": [
    "x = df.drop(\"price\",axis=1)\n",
    "y = df[\"price\"]"
   ]
  },
  {
   "cell_type": "code",
   "execution_count": 96,
   "id": "78899f37",
   "metadata": {},
   "outputs": [],
   "source": [
    "def train_test_split_fun(x,y,model_name):\n",
    "    \n",
    "    test_size = 0.2\n",
    "    random_state=101\n",
    "    \n",
    "    x_train,x_test,y_train,y_test = train_test_split(x,y,test_size=0.2,random_state=101)\n",
    "    \n",
    "    model_details.append(model_name)\n",
    "    \n",
    "    return x_train,x_test,y_train,y_test\n",
    "\n",
    "\n",
    "model_name = \"Linear Regression Regular Model\"\n",
    "x_train, x_test, y_train, y_test = train_test_split_fun(x, y, model_name)"
   ]
  },
  {
   "cell_type": "code",
   "execution_count": 97,
   "id": "2721599e",
   "metadata": {},
   "outputs": [],
   "source": [
    "def model_training(x_train, y_train):\n",
    "    linear_model = LinearRegression()\n",
    "    linear_model.fit(x_train, y_train)\n",
    "    return linear_model\n",
    "\n",
    "linear_model = model_training(x_train,y_train)"
   ]
  },
  {
   "cell_type": "code",
   "execution_count": 98,
   "id": "2c7037bd",
   "metadata": {
    "scrolled": false
   },
   "outputs": [
    {
     "name": "stdout",
     "output_type": "stream",
     "text": [
      "Mean squared Error:  840.9261415170778\n",
      "Root Mean squared Error:  28.998726549920736\n",
      "Mean Absolute Error:  18.024157608250736\n",
      "r_squared_value for Training:  0.8402281702093863\n"
     ]
    }
   ],
   "source": [
    "def model_evalution_training(linear_model, x_train, y_train):\n",
    "    \n",
    "    y_pred_train = linear_model.predict(x_train)\n",
    "\n",
    "    mse = mean_squared_error(y_train,y_pred_train)\n",
    "    print(\"Mean squared Error: \",mse)\n",
    "\n",
    "    rmse = np.sqrt(mse)\n",
    "    print(\"Root Mean squared Error: \",rmse)\n",
    "\n",
    "    mae = mean_absolute_error(y_train,y_pred_train)\n",
    "    print(\"Mean Absolute Error: \",mae)\n",
    "\n",
    "    r_square = r2_score(y_train,y_pred_train)\n",
    "    print(\"r_squared_value for Training: \",r_square)   \n",
    "    \n",
    "    # We are appending training accuracy in list\n",
    "    Training_accuracy.append(r_square)\n",
    "    \n",
    "    \n",
    "model_evalution_training(linear_model, x_train, y_train)"
   ]
  },
  {
   "cell_type": "code",
   "execution_count": 99,
   "id": "c73dd2b2",
   "metadata": {},
   "outputs": [
    {
     "name": "stdout",
     "output_type": "stream",
     "text": [
      "Mean squared Error:  665.4006552056434\n",
      "Root Mean squared Error:  25.795361117953814\n",
      "Mean Absolute Error:  16.67280755397186\n",
      "r_squared_value for Testing:  0.8818560396143171\n"
     ]
    }
   ],
   "source": [
    "def model_evalution_testing(linear_model, x_test, y_test):\n",
    "    \n",
    "    y_pred = linear_model.predict(x_test)\n",
    "    \n",
    "    mse = mean_squared_error(y_test,y_pred)\n",
    "    print(\"Mean squared Error: \",mse)\n",
    "\n",
    "    rmse = np.sqrt(mse)\n",
    "    print(\"Root Mean squared Error: \",rmse)\n",
    "\n",
    "    mae = mean_absolute_error(y_test,y_pred)\n",
    "    print(\"Mean Absolute Error: \",mae)\n",
    "\n",
    "    r_square = r2_score(y_test,y_pred)\n",
    "    print(\"r_squared_value for Testing: \",r_square)\n",
    "    \n",
    "    # We are appending testing accuracy in list\n",
    "    Testing_accuracy.append(r_square)\n",
    "    \n",
    "    \n",
    "model_evalution_testing(linear_model, x_test, y_test)"
   ]
  },
  {
   "cell_type": "code",
   "execution_count": 100,
   "id": "c1e01c57",
   "metadata": {},
   "outputs": [],
   "source": [
    "x_train,x_test,y_train,y_test = train_test_split(x,y,test_size=0.2,random_state=101)"
   ]
  },
  {
   "cell_type": "markdown",
   "id": "0cccee9e",
   "metadata": {},
   "source": [
    "## Training Model"
   ]
  },
  {
   "cell_type": "code",
   "execution_count": 101,
   "id": "403911ae",
   "metadata": {},
   "outputs": [
    {
     "data": {
      "text/plain": [
       "LinearRegression()"
      ]
     },
     "execution_count": 101,
     "metadata": {},
     "output_type": "execute_result"
    }
   ],
   "source": [
    "model = LinearRegression()\n",
    "model.fit(x_train,y_train)"
   ]
  },
  {
   "cell_type": "code",
   "execution_count": 102,
   "id": "7a9c6efe",
   "metadata": {},
   "outputs": [
    {
     "data": {
      "text/plain": [
       "array([ 55.6889521 , 122.96720741,  73.62581011, ..., 103.6638651 ,\n",
       "        83.31660522, 141.66171395])"
      ]
     },
     "execution_count": 102,
     "metadata": {},
     "output_type": "execute_result"
    }
   ],
   "source": [
    "y_pred = model.predict(x_test)\n",
    "y_pred"
   ]
  },
  {
   "cell_type": "code",
   "execution_count": 103,
   "id": "bc6fcb71",
   "metadata": {},
   "outputs": [
    {
     "data": {
      "text/plain": [
       "9366     50.80\n",
       "6065    129.00\n",
       "5669     66.25\n",
       "5719     54.00\n",
       "6798     89.00\n",
       "         ...  \n",
       "4184     92.00\n",
       "2303     20.00\n",
       "393     110.00\n",
       "5232     88.00\n",
       "4595    145.00\n",
       "Name: price, Length: 1500, dtype: float64"
      ]
     },
     "execution_count": 103,
     "metadata": {},
     "output_type": "execute_result"
    }
   ],
   "source": [
    "y_test"
   ]
  },
  {
   "cell_type": "code",
   "execution_count": 104,
   "id": "9965d8bf",
   "metadata": {},
   "outputs": [
    {
     "data": {
      "text/plain": [
       "9366    -4.888952\n",
       "6065     6.032793\n",
       "5669    -7.375810\n",
       "5719    -7.639751\n",
       "6798   -23.445508\n",
       "          ...    \n",
       "4184   -20.300663\n",
       "2303    -3.206987\n",
       "393      6.336135\n",
       "5232     4.683395\n",
       "4595     3.338286\n",
       "Name: price, Length: 1500, dtype: float64"
      ]
     },
     "execution_count": 104,
     "metadata": {},
     "output_type": "execute_result"
    }
   ],
   "source": [
    "residual = y_test - y_pred\n",
    "residual"
   ]
  },
  {
   "cell_type": "markdown",
   "id": "d73c4390",
   "metadata": {},
   "source": [
    "# Model Evalution"
   ]
  },
  {
   "cell_type": "code",
   "execution_count": 105,
   "id": "c0ade783",
   "metadata": {},
   "outputs": [
    {
     "name": "stdout",
     "output_type": "stream",
     "text": [
      "Mean squared Error:  840.9261415170778\n",
      "Root Mean squared Error:  28.998726549920736\n",
      "Mean Absolute Error:  18.024157608250736\n",
      "r_squared_value for Training:  0.8402281702093863\n"
     ]
    }
   ],
   "source": [
    "# Model evalution on training data\n",
    "\n",
    "y_pred_train = model.predict(x_train)\n",
    "\n",
    "mse = mean_squared_error(y_train,y_pred_train)\n",
    "print(\"Mean squared Error: \",mse)\n",
    "\n",
    "rmse = np.sqrt(mse)\n",
    "print(\"Root Mean squared Error: \",rmse)\n",
    "\n",
    "mae = mean_absolute_error(y_train,y_pred_train)\n",
    "print(\"Mean Absolute Error: \",mae)\n",
    "\n",
    "r_square = r2_score(y_train,y_pred_train)\n",
    "print(\"r_squared_value for Training: \",r_square)"
   ]
  },
  {
   "cell_type": "code",
   "execution_count": 106,
   "id": "7a2cbbef",
   "metadata": {},
   "outputs": [
    {
     "name": "stdout",
     "output_type": "stream",
     "text": [
      "Mean squared Error:  665.4006552056434\n",
      "Root Mean squared Error:  25.795361117953814\n",
      "Mean Absolute Error:  16.67280755397186\n",
      "r_squared_value for Testing:  0.8818560396143171\n"
     ]
    }
   ],
   "source": [
    "# Model Evaluation for Testing Data\n",
    "\n",
    "mse = mean_squared_error(y_test,y_pred)\n",
    "print(\"Mean squared Error: \",mse)\n",
    "\n",
    "rmse = np.sqrt(mse)\n",
    "print(\"Root Mean squared Error: \",rmse)\n",
    "\n",
    "mae = mean_absolute_error(y_test,y_pred)\n",
    "print(\"Mean Absolute Error: \",mae)\n",
    "\n",
    "r_square = r2_score(y_test,y_pred)\n",
    "print(\"r_squared_value for Testing: \",r_square)"
   ]
  },
  {
   "cell_type": "markdown",
   "id": "c9ee5cf4",
   "metadata": {},
   "source": [
    "# Normality of Residual"
   ]
  },
  {
   "cell_type": "code",
   "execution_count": 107,
   "id": "2cc4470f",
   "metadata": {},
   "outputs": [
    {
     "data": {
      "text/plain": [
       "8947   -29.181317\n",
       "7402    23.313395\n",
       "2791   -14.280543\n",
       "2196    -6.665575\n",
       "2621   -56.001986\n",
       "          ...    \n",
       "830     43.631680\n",
       "8135   -16.014921\n",
       "1851    -5.232715\n",
       "2091    39.893772\n",
       "7078     2.898820\n",
       "Name: price, Length: 5997, dtype: float64"
      ]
     },
     "execution_count": 107,
     "metadata": {},
     "output_type": "execute_result"
    }
   ],
   "source": [
    "Residual = y_train - y_pred_train\n",
    "Residual"
   ]
  },
  {
   "cell_type": "markdown",
   "id": "2a85d37a",
   "metadata": {},
   "source": [
    "### 1. Kde\n",
    "\n"
   ]
  },
  {
   "cell_type": "code",
   "execution_count": 108,
   "id": "40bbf8b6",
   "metadata": {},
   "outputs": [
    {
     "data": {
      "text/plain": [
       "<AxesSubplot:xlabel='price', ylabel='Density'>"
      ]
     },
     "execution_count": 108,
     "metadata": {},
     "output_type": "execute_result"
    },
    {
     "data": {
      "image/png": "[encoded data removed]",
      "text/plain": [
       "<Figure size 640x480 with 1 Axes>"
      ]
     },
     "metadata": {},
     "output_type": "display_data"
    }
   ],
   "source": [
    "sns.kdeplot(Residual,fill=True)"
   ]
  },
  {
   "cell_type": "markdown",
   "id": "ddff47c4",
   "metadata": {},
   "source": [
    "### 2. Hypothesis Testing"
   ]
  },
  {
   "cell_type": "markdown",
   "id": "97ecbc86",
   "metadata": {},
   "source": [
    "### 2.1 USing Shepiro Test"
   ]
  },
  {
   "cell_type": "code",
   "execution_count": 109,
   "id": "e02ab1b2",
   "metadata": {},
   "outputs": [
    {
     "data": {
      "text/plain": [
       "0.0"
      ]
     },
     "execution_count": 109,
     "metadata": {},
     "output_type": "execute_result"
    }
   ],
   "source": [
    "_,p_val = shapiro(Residual)\n",
    "p_val\n"
   ]
  },
  {
   "cell_type": "markdown",
   "id": "37235a1c",
   "metadata": {},
   "source": [
    "### 2.2 Normal Test"
   ]
  },
  {
   "cell_type": "code",
   "execution_count": 110,
   "id": "5c7b0230",
   "metadata": {},
   "outputs": [
    {
     "data": {
      "text/plain": [
       "0.0"
      ]
     },
     "execution_count": 110,
     "metadata": {},
     "output_type": "execute_result"
    }
   ],
   "source": [
    "_, p_val = normaltest(Residual)\n",
    "p_val"
   ]
  },
  {
   "cell_type": "markdown",
   "id": "e6e2cf6b",
   "metadata": {},
   "source": [
    "### 2.3 Ks Test"
   ]
  },
  {
   "cell_type": "code",
   "execution_count": 111,
   "id": "f638b1cb",
   "metadata": {},
   "outputs": [
    {
     "data": {
      "text/plain": [
       "0.0"
      ]
     },
     "execution_count": 111,
     "metadata": {},
     "output_type": "execute_result"
    }
   ],
   "source": [
    "_,p_val = kstest(Residual,\"norm\")\n",
    "p_val"
   ]
  },
  {
   "cell_type": "markdown",
   "id": "456a65ea",
   "metadata": {},
   "source": [
    "### 3. QQ Plot"
   ]
  },
  {
   "cell_type": "code",
   "execution_count": 112,
   "id": "10fa24e1",
   "metadata": {},
   "outputs": [
    {
     "data": {
      "image/png": "[encoded data removed]",
      "text/plain": [
       "<Figure size 640x480 with 1 Axes>"
      ]
     },
     "execution_count": 112,
     "metadata": {},
     "output_type": "execute_result"
    },
    {
     "data": {
      "image/png": "[encoded data removed]",
      "text/plain": [
       "<Figure size 640x480 with 1 Axes>"
      ]
     },
     "metadata": {},
     "output_type": "display_data"
    }
   ],
   "source": [
    "sm.qqplot(Residual,line=\"45\",fit=True)"
   ]
  },
  {
   "cell_type": "markdown",
   "id": "3cb54d72",
   "metadata": {},
   "source": [
    "# Homoscaditity"
   ]
  },
  {
   "cell_type": "code",
   "execution_count": 113,
   "id": "20a9642a",
   "metadata": {
    "scrolled": true
   },
   "outputs": [
    {
     "data": {
      "text/plain": [
       "<AxesSubplot:xlabel='price', ylabel='price'>"
      ]
     },
     "execution_count": 113,
     "metadata": {},
     "output_type": "execute_result"
    },
    {
     "data": {
      "image/png": "[encoded data removed]",
      "text/plain": [
       "<Figure size 640x480 with 1 Axes>"
      ]
     },
     "metadata": {},
     "output_type": "display_data"
    }
   ],
   "source": [
    "sns.scatterplot(x = y_train, y = Residual)"
   ]
  },
  {
   "cell_type": "markdown",
   "id": "8f501b76",
   "metadata": {},
   "source": [
    "# Let's Remove the Outliers"
   ]
  },
  {
   "cell_type": "code",
   "execution_count": 114,
   "id": "3bf1a831",
   "metadata": {},
   "outputs": [
    {
     "data": {
      "text/html": [
       "<div>\n",
       "<style scoped>\n",
       "    .dataframe tbody tr th:only-of-type {\n",
       "        vertical-align: middle;\n",
       "    }\n",
       "\n",
       "    .dataframe tbody tr th {\n",
       "        vertical-align: top;\n",
       "    }\n",
       "\n",
       "    .dataframe thead th {\n",
       "        text-align: right;\n",
       "    }\n",
       "</style>\n",
       "<table border=\"1\" class=\"dataframe\">\n",
       "  <thead>\n",
       "    <tr style=\"text-align: right;\">\n",
       "      <th></th>\n",
       "      <th>total_sqft</th>\n",
       "      <th>bath</th>\n",
       "      <th>balcony</th>\n",
       "      <th>price</th>\n",
       "      <th>site_location</th>\n",
       "      <th>area_type_Built-up  Area</th>\n",
       "      <th>area_type_Carpet  Area</th>\n",
       "      <th>area_type_Plot  Area</th>\n",
       "      <th>area_type_Super built-up  Area</th>\n",
       "      <th>Availability_Ready_To_Move</th>\n",
       "      <th>Availability_Immediate_Possession</th>\n",
       "      <th>Availability_Month</th>\n",
       "      <th>BHK</th>\n",
       "    </tr>\n",
       "  </thead>\n",
       "  <tbody>\n",
       "    <tr>\n",
       "      <th>0</th>\n",
       "      <td>1056.0</td>\n",
       "      <td>2</td>\n",
       "      <td>1</td>\n",
       "      <td>39.07</td>\n",
       "      <td>0</td>\n",
       "      <td>0</td>\n",
       "      <td>0</td>\n",
       "      <td>0</td>\n",
       "      <td>1</td>\n",
       "      <td>0</td>\n",
       "      <td>0</td>\n",
       "      <td>12</td>\n",
       "      <td>2</td>\n",
       "    </tr>\n",
       "    <tr>\n",
       "      <th>1</th>\n",
       "      <td>2894.0</td>\n",
       "      <td>4</td>\n",
       "      <td>1</td>\n",
       "      <td>245.00</td>\n",
       "      <td>0</td>\n",
       "      <td>0</td>\n",
       "      <td>0</td>\n",
       "      <td>1</td>\n",
       "      <td>0</td>\n",
       "      <td>1</td>\n",
       "      <td>0</td>\n",
       "      <td>0</td>\n",
       "      <td>4</td>\n",
       "    </tr>\n",
       "    <tr>\n",
       "      <th>2</th>\n",
       "      <td>1084.0</td>\n",
       "      <td>2</td>\n",
       "      <td>2</td>\n",
       "      <td>50.00</td>\n",
       "      <td>0</td>\n",
       "      <td>0</td>\n",
       "      <td>0</td>\n",
       "      <td>0</td>\n",
       "      <td>1</td>\n",
       "      <td>1</td>\n",
       "      <td>0</td>\n",
       "      <td>0</td>\n",
       "      <td>2</td>\n",
       "    </tr>\n",
       "    <tr>\n",
       "      <th>3</th>\n",
       "      <td>1230.0</td>\n",
       "      <td>2</td>\n",
       "      <td>2</td>\n",
       "      <td>80.00</td>\n",
       "      <td>0</td>\n",
       "      <td>0</td>\n",
       "      <td>0</td>\n",
       "      <td>0</td>\n",
       "      <td>1</td>\n",
       "      <td>1</td>\n",
       "      <td>0</td>\n",
       "      <td>0</td>\n",
       "      <td>2</td>\n",
       "    </tr>\n",
       "    <tr>\n",
       "      <th>4</th>\n",
       "      <td>1750.0</td>\n",
       "      <td>3</td>\n",
       "      <td>2</td>\n",
       "      <td>130.00</td>\n",
       "      <td>0</td>\n",
       "      <td>0</td>\n",
       "      <td>0</td>\n",
       "      <td>0</td>\n",
       "      <td>1</td>\n",
       "      <td>1</td>\n",
       "      <td>0</td>\n",
       "      <td>0</td>\n",
       "      <td>3</td>\n",
       "    </tr>\n",
       "    <tr>\n",
       "      <th>...</th>\n",
       "      <td>...</td>\n",
       "      <td>...</td>\n",
       "      <td>...</td>\n",
       "      <td>...</td>\n",
       "      <td>...</td>\n",
       "      <td>...</td>\n",
       "      <td>...</td>\n",
       "      <td>...</td>\n",
       "      <td>...</td>\n",
       "      <td>...</td>\n",
       "      <td>...</td>\n",
       "      <td>...</td>\n",
       "      <td>...</td>\n",
       "    </tr>\n",
       "    <tr>\n",
       "      <th>10747</th>\n",
       "      <td>1165.0</td>\n",
       "      <td>2</td>\n",
       "      <td>1</td>\n",
       "      <td>67.00</td>\n",
       "      <td>95</td>\n",
       "      <td>0</td>\n",
       "      <td>0</td>\n",
       "      <td>0</td>\n",
       "      <td>1</td>\n",
       "      <td>0</td>\n",
       "      <td>0</td>\n",
       "      <td>3</td>\n",
       "      <td>2</td>\n",
       "    </tr>\n",
       "    <tr>\n",
       "      <th>10749</th>\n",
       "      <td>3122.0</td>\n",
       "      <td>6</td>\n",
       "      <td>2</td>\n",
       "      <td>250.00</td>\n",
       "      <td>95</td>\n",
       "      <td>0</td>\n",
       "      <td>0</td>\n",
       "      <td>0</td>\n",
       "      <td>1</td>\n",
       "      <td>1</td>\n",
       "      <td>0</td>\n",
       "      <td>0</td>\n",
       "      <td>4</td>\n",
       "    </tr>\n",
       "    <tr>\n",
       "      <th>10752</th>\n",
       "      <td>3500.0</td>\n",
       "      <td>6</td>\n",
       "      <td>2</td>\n",
       "      <td>115.00</td>\n",
       "      <td>95</td>\n",
       "      <td>1</td>\n",
       "      <td>0</td>\n",
       "      <td>0</td>\n",
       "      <td>0</td>\n",
       "      <td>1</td>\n",
       "      <td>0</td>\n",
       "      <td>0</td>\n",
       "      <td>6</td>\n",
       "    </tr>\n",
       "    <tr>\n",
       "      <th>10755</th>\n",
       "      <td>3210.0</td>\n",
       "      <td>2</td>\n",
       "      <td>2</td>\n",
       "      <td>353.00</td>\n",
       "      <td>95</td>\n",
       "      <td>1</td>\n",
       "      <td>0</td>\n",
       "      <td>0</td>\n",
       "      <td>0</td>\n",
       "      <td>0</td>\n",
       "      <td>0</td>\n",
       "      <td>3</td>\n",
       "      <td>5</td>\n",
       "    </tr>\n",
       "    <tr>\n",
       "      <th>10760</th>\n",
       "      <td>1132.0</td>\n",
       "      <td>2</td>\n",
       "      <td>1</td>\n",
       "      <td>70.00</td>\n",
       "      <td>95</td>\n",
       "      <td>0</td>\n",
       "      <td>0</td>\n",
       "      <td>0</td>\n",
       "      <td>1</td>\n",
       "      <td>0</td>\n",
       "      <td>0</td>\n",
       "      <td>4</td>\n",
       "      <td>2</td>\n",
       "    </tr>\n",
       "  </tbody>\n",
       "</table>\n",
       "<p>7497 rows × 13 columns</p>\n",
       "</div>"
      ],
      "text/plain": [
       "       total_sqft  bath  balcony   price  site_location  \\\n",
       "0          1056.0     2        1   39.07              0   \n",
       "1          2894.0     4        1  245.00              0   \n",
       "2          1084.0     2        2   50.00              0   \n",
       "3          1230.0     2        2   80.00              0   \n",
       "4          1750.0     3        2  130.00              0   \n",
       "...           ...   ...      ...     ...            ...   \n",
       "10747      1165.0     2        1   67.00             95   \n",
       "10749      3122.0     6        2  250.00             95   \n",
       "10752      3500.0     6        2  115.00             95   \n",
       "10755      3210.0     2        2  353.00             95   \n",
       "10760      1132.0     2        1   70.00             95   \n",
       "\n",
       "       area_type_Built-up  Area  area_type_Carpet  Area  area_type_Plot  Area  \\\n",
       "0                             0                       0                     0   \n",
       "1                             0                       0                     1   \n",
       "2                             0                       0                     0   \n",
       "3                             0                       0                     0   \n",
       "4                             0                       0                     0   \n",
       "...                         ...                     ...                   ...   \n",
       "10747                         0                       0                     0   \n",
       "10749                         0                       0                     0   \n",
       "10752                         1                       0                     0   \n",
       "10755                         1                       0                     0   \n",
       "10760                         0                       0                     0   \n",
       "\n",
       "       area_type_Super built-up  Area  Availability_Ready_To_Move  \\\n",
       "0                                   1                           0   \n",
       "1                                   0                           1   \n",
       "2                                   1                           1   \n",
       "3                                   1                           1   \n",
       "4                                   1                           1   \n",
       "...                               ...                         ...   \n",
       "10747                               1                           0   \n",
       "10749                               1                           1   \n",
       "10752                               0                           1   \n",
       "10755                               0                           0   \n",
       "10760                               1                           0   \n",
       "\n",
       "       Availability_Immediate_Possession  Availability_Month  BHK  \n",
       "0                                      0                  12    2  \n",
       "1                                      0                   0    4  \n",
       "2                                      0                   0    2  \n",
       "3                                      0                   0    2  \n",
       "4                                      0                   0    3  \n",
       "...                                  ...                 ...  ...  \n",
       "10747                                  0                   3    2  \n",
       "10749                                  0                   0    4  \n",
       "10752                                  0                   0    6  \n",
       "10755                                  0                   3    5  \n",
       "10760                                  0                   4    2  \n",
       "\n",
       "[7497 rows x 13 columns]"
      ]
     },
     "execution_count": 114,
     "metadata": {},
     "output_type": "execute_result"
    }
   ],
   "source": [
    "df"
   ]
  },
  {
   "cell_type": "markdown",
   "id": "13915b42",
   "metadata": {},
   "source": [
    "### 1. Total_sqft"
   ]
  },
  {
   "cell_type": "code",
   "execution_count": 115,
   "id": "b725f9d8",
   "metadata": {},
   "outputs": [
    {
     "data": {
      "text/plain": [
       "<AxesSubplot:xlabel='total_sqft'>"
      ]
     },
     "execution_count": 115,
     "metadata": {},
     "output_type": "execute_result"
    },
    {
     "data": {
      "image/png": "[encoded data removed]",
      "text/plain": [
       "<Figure size 640x480 with 1 Axes>"
      ]
     },
     "metadata": {},
     "output_type": "display_data"
    }
   ],
   "source": [
    "sns.boxplot(x = df[\"total_sqft\"])"
   ]
  },
  {
   "cell_type": "code",
   "execution_count": 116,
   "id": "42b00a92",
   "metadata": {},
   "outputs": [
    {
     "name": "stdout",
     "output_type": "stream",
     "text": [
      "value of Q1: 1100.0\n",
      "value of Q2: 1260.0\n",
      "value of Q3: 1680.0\n",
      "--------------------------------------------------\n",
      "value of Iqr: 580.0\n",
      "--------------------------------------------------\n",
      "value of Lower tail: 230.0\n",
      "value of Upper tail: 2550.0\n"
     ]
    }
   ],
   "source": [
    "q1 = df[\"total_sqft\"].quantile(0.25)\n",
    "q2 = df[\"total_sqft\"].quantile(0.50)\n",
    "q3 = df[\"total_sqft\"].quantile(0.75)\n",
    "\n",
    "iqr = q3 - q1 \n",
    "\n",
    "lower_tail = q1 - 1.5 * iqr\n",
    "upper_tail = q3 + 1.5 * iqr\n",
    "\n",
    "print(\"value of Q1:\",q1)\n",
    "print(\"value of Q2:\",q2)\n",
    "print(\"value of Q3:\",q3)\n",
    "print(\"-\"*50)\n",
    "print(\"value of Iqr:\",iqr)\n",
    "print(\"-\"*50)\n",
    "print(\"value of Lower tail:\",lower_tail)\n",
    "print(\"value of Upper tail:\",upper_tail)\n"
   ]
  },
  {
   "cell_type": "code",
   "execution_count": 117,
   "id": "c2ebcf14",
   "metadata": {},
   "outputs": [
    {
     "data": {
      "text/plain": [
       "1        2894.0\n",
       "12       2790.0\n",
       "24       3250.0\n",
       "29       4500.0\n",
       "52       7000.0\n",
       "          ...  \n",
       "10734    4200.0\n",
       "10742    3520.0\n",
       "10749    3122.0\n",
       "10752    3500.0\n",
       "10755    3210.0\n",
       "Name: total_sqft, Length: 547, dtype: float64"
      ]
     },
     "execution_count": 117,
     "metadata": {},
     "output_type": "execute_result"
    }
   ],
   "source": [
    "df.loc[(df[\"total_sqft\"] > upper_tail), \"total_sqft\"]"
   ]
  },
  {
   "cell_type": "code",
   "execution_count": 118,
   "id": "6ab0ab06",
   "metadata": {},
   "outputs": [],
   "source": [
    "df.loc[(df[\"total_sqft\"] > upper_tail), \"total_sqft\"] = upper_tail"
   ]
  },
  {
   "cell_type": "code",
   "execution_count": 119,
   "id": "dd1bcb34",
   "metadata": {},
   "outputs": [
    {
     "data": {
      "text/plain": [
       "Series([], Name: total_sqft, dtype: float64)"
      ]
     },
     "execution_count": 119,
     "metadata": {},
     "output_type": "execute_result"
    }
   ],
   "source": [
    "df.loc[(df[\"total_sqft\"] > upper_tail), \"total_sqft\"]"
   ]
  },
  {
   "cell_type": "code",
   "execution_count": 120,
   "id": "27871992",
   "metadata": {},
   "outputs": [
    {
     "data": {
      "text/plain": [
       "Series([], Name: total_sqft, dtype: float64)"
      ]
     },
     "execution_count": 120,
     "metadata": {},
     "output_type": "execute_result"
    }
   ],
   "source": [
    "df.loc[(df[\"total_sqft\"] < lower_tail), \"total_sqft\"]"
   ]
  },
  {
   "cell_type": "code",
   "execution_count": 121,
   "id": "b82cf7e1",
   "metadata": {},
   "outputs": [],
   "source": [
    "df.loc[(df[\"total_sqft\"] < lower_tail), \"total_sqft\"] = lower_tail"
   ]
  },
  {
   "cell_type": "code",
   "execution_count": 122,
   "id": "d0ad8bc7",
   "metadata": {},
   "outputs": [
    {
     "data": {
      "text/plain": [
       "Series([], Name: total_sqft, dtype: float64)"
      ]
     },
     "execution_count": 122,
     "metadata": {},
     "output_type": "execute_result"
    }
   ],
   "source": [
    "df.loc[(df[\"total_sqft\"] < lower_tail), \"total_sqft\"] "
   ]
  },
  {
   "cell_type": "code",
   "execution_count": 123,
   "id": "7f83ae6f",
   "metadata": {},
   "outputs": [
    {
     "data": {
      "text/plain": [
       "<AxesSubplot:xlabel='total_sqft'>"
      ]
     },
     "execution_count": 123,
     "metadata": {},
     "output_type": "execute_result"
    },
    {
     "data": {
      "image/png": "[encoded data removed]",
      "text/plain": [
       "<Figure size 640x480 with 1 Axes>"
      ]
     },
     "metadata": {},
     "output_type": "display_data"
    }
   ],
   "source": [
    "sns.boxplot(x = df[\"total_sqft\"])"
   ]
  },
  {
   "cell_type": "markdown",
   "id": "b317ab59",
   "metadata": {},
   "source": [
    "### 2. Bath"
   ]
  },
  {
   "cell_type": "code",
   "execution_count": 124,
   "id": "62764174",
   "metadata": {},
   "outputs": [
    {
     "data": {
      "text/plain": [
       "<AxesSubplot:xlabel='bath'>"
      ]
     },
     "execution_count": 124,
     "metadata": {},
     "output_type": "execute_result"
    },
    {
     "data": {
      "image/png": "[encoded data removed]",
      "text/plain": [
       "<Figure size 640x480 with 1 Axes>"
      ]
     },
     "metadata": {},
     "output_type": "display_data"
    }
   ],
   "source": [
    "sns.boxplot(x = df[\"bath\"])"
   ]
  },
  {
   "cell_type": "code",
   "execution_count": 125,
   "id": "0d008e36",
   "metadata": {},
   "outputs": [
    {
     "name": "stdout",
     "output_type": "stream",
     "text": [
      "value of Q1: 2.0\n",
      "value of Q2: 2.0\n",
      "value of Q3: 3.0\n",
      "--------------------------------------------------\n",
      "value of Iqr: 1.0\n",
      "--------------------------------------------------\n",
      "value of Lower tail: 0.5\n",
      "value of Upper tail: 4.5\n"
     ]
    }
   ],
   "source": [
    "q1 = df[\"bath\"].quantile(0.25)\n",
    "q2 = df[\"bath\"].quantile(0.50)\n",
    "q3 = df[\"bath\"].quantile(0.75)\n",
    "\n",
    "iqr = q3 - q1 \n",
    "\n",
    "lower_tail = q1 - 1.5 * iqr\n",
    "upper_tail = q3 + 1.5 * iqr\n",
    "\n",
    "print(\"value of Q1:\",q1)\n",
    "print(\"value of Q2:\",q2)\n",
    "print(\"value of Q3:\",q3)\n",
    "print(\"-\"*50)\n",
    "print(\"value of Iqr:\",iqr)\n",
    "print(\"-\"*50)\n",
    "print(\"value of Lower tail:\",lower_tail)\n",
    "print(\"value of Upper tail:\",upper_tail)"
   ]
  },
  {
   "cell_type": "code",
   "execution_count": 126,
   "id": "0a396ef9",
   "metadata": {},
   "outputs": [
    {
     "data": {
      "text/html": [
       "<div>\n",
       "<style scoped>\n",
       "    .dataframe tbody tr th:only-of-type {\n",
       "        vertical-align: middle;\n",
       "    }\n",
       "\n",
       "    .dataframe tbody tr th {\n",
       "        vertical-align: top;\n",
       "    }\n",
       "\n",
       "    .dataframe thead th {\n",
       "        text-align: right;\n",
       "    }\n",
       "</style>\n",
       "<table border=\"1\" class=\"dataframe\">\n",
       "  <thead>\n",
       "    <tr style=\"text-align: right;\">\n",
       "      <th></th>\n",
       "      <th>total_sqft</th>\n",
       "      <th>bath</th>\n",
       "      <th>balcony</th>\n",
       "      <th>price</th>\n",
       "      <th>site_location</th>\n",
       "      <th>area_type_Built-up  Area</th>\n",
       "      <th>area_type_Carpet  Area</th>\n",
       "      <th>area_type_Plot  Area</th>\n",
       "      <th>area_type_Super built-up  Area</th>\n",
       "      <th>Availability_Ready_To_Move</th>\n",
       "      <th>Availability_Immediate_Possession</th>\n",
       "      <th>Availability_Month</th>\n",
       "      <th>BHK</th>\n",
       "    </tr>\n",
       "  </thead>\n",
       "  <tbody>\n",
       "    <tr>\n",
       "      <th>762</th>\n",
       "      <td>1806.0</td>\n",
       "      <td>6</td>\n",
       "      <td>2</td>\n",
       "      <td>116.0</td>\n",
       "      <td>6</td>\n",
       "      <td>0</td>\n",
       "      <td>0</td>\n",
       "      <td>0</td>\n",
       "      <td>1</td>\n",
       "      <td>1</td>\n",
       "      <td>0</td>\n",
       "      <td>0</td>\n",
       "      <td>3</td>\n",
       "    </tr>\n",
       "    <tr>\n",
       "      <th>3035</th>\n",
       "      <td>2550.0</td>\n",
       "      <td>9</td>\n",
       "      <td>1</td>\n",
       "      <td>1000.0</td>\n",
       "      <td>27</td>\n",
       "      <td>0</td>\n",
       "      <td>0</td>\n",
       "      <td>0</td>\n",
       "      <td>1</td>\n",
       "      <td>1</td>\n",
       "      <td>0</td>\n",
       "      <td>0</td>\n",
       "      <td>6</td>\n",
       "    </tr>\n",
       "    <tr>\n",
       "      <th>4185</th>\n",
       "      <td>2550.0</td>\n",
       "      <td>8</td>\n",
       "      <td>2</td>\n",
       "      <td>450.0</td>\n",
       "      <td>37</td>\n",
       "      <td>1</td>\n",
       "      <td>0</td>\n",
       "      <td>0</td>\n",
       "      <td>0</td>\n",
       "      <td>1</td>\n",
       "      <td>0</td>\n",
       "      <td>0</td>\n",
       "      <td>4</td>\n",
       "    </tr>\n",
       "  </tbody>\n",
       "</table>\n",
       "</div>"
      ],
      "text/plain": [
       "      total_sqft  bath  balcony   price  site_location  \\\n",
       "762       1806.0     6        2   116.0              6   \n",
       "3035      2550.0     9        1  1000.0             27   \n",
       "4185      2550.0     8        2   450.0             37   \n",
       "\n",
       "      area_type_Built-up  Area  area_type_Carpet  Area  area_type_Plot  Area  \\\n",
       "762                          0                       0                     0   \n",
       "3035                         0                       0                     0   \n",
       "4185                         1                       0                     0   \n",
       "\n",
       "      area_type_Super built-up  Area  Availability_Ready_To_Move  \\\n",
       "762                                1                           1   \n",
       "3035                               1                           1   \n",
       "4185                               0                           1   \n",
       "\n",
       "      Availability_Immediate_Possession  Availability_Month  BHK  \n",
       "762                                   0                   0    3  \n",
       "3035                                  0                   0    6  \n",
       "4185                                  0                   0    4  "
      ]
     },
     "execution_count": 126,
     "metadata": {},
     "output_type": "execute_result"
    }
   ],
   "source": [
    "df.loc[((df[\"bath\"] > df[\"BHK\"]+2))]\n"
   ]
  },
  {
   "cell_type": "code",
   "execution_count": 127,
   "id": "1429e979",
   "metadata": {},
   "outputs": [],
   "source": [
    "df.drop(df.loc[((df[\"bath\"] > df[\"BHK\"]+2))].index, inplace=True)"
   ]
  },
  {
   "cell_type": "code",
   "execution_count": 128,
   "id": "fa3abe28",
   "metadata": {},
   "outputs": [
    {
     "data": {
      "text/html": [
       "<div>\n",
       "<style scoped>\n",
       "    .dataframe tbody tr th:only-of-type {\n",
       "        vertical-align: middle;\n",
       "    }\n",
       "\n",
       "    .dataframe tbody tr th {\n",
       "        vertical-align: top;\n",
       "    }\n",
       "\n",
       "    .dataframe thead th {\n",
       "        text-align: right;\n",
       "    }\n",
       "</style>\n",
       "<table border=\"1\" class=\"dataframe\">\n",
       "  <thead>\n",
       "    <tr style=\"text-align: right;\">\n",
       "      <th></th>\n",
       "      <th>total_sqft</th>\n",
       "      <th>bath</th>\n",
       "      <th>balcony</th>\n",
       "      <th>price</th>\n",
       "      <th>site_location</th>\n",
       "      <th>area_type_Built-up  Area</th>\n",
       "      <th>area_type_Carpet  Area</th>\n",
       "      <th>area_type_Plot  Area</th>\n",
       "      <th>area_type_Super built-up  Area</th>\n",
       "      <th>Availability_Ready_To_Move</th>\n",
       "      <th>Availability_Immediate_Possession</th>\n",
       "      <th>Availability_Month</th>\n",
       "      <th>BHK</th>\n",
       "    </tr>\n",
       "  </thead>\n",
       "  <tbody>\n",
       "    <tr>\n",
       "      <th>0</th>\n",
       "      <td>1056.0</td>\n",
       "      <td>2</td>\n",
       "      <td>1</td>\n",
       "      <td>39.07</td>\n",
       "      <td>0</td>\n",
       "      <td>0</td>\n",
       "      <td>0</td>\n",
       "      <td>0</td>\n",
       "      <td>1</td>\n",
       "      <td>0</td>\n",
       "      <td>0</td>\n",
       "      <td>12</td>\n",
       "      <td>2</td>\n",
       "    </tr>\n",
       "    <tr>\n",
       "      <th>1</th>\n",
       "      <td>2550.0</td>\n",
       "      <td>4</td>\n",
       "      <td>1</td>\n",
       "      <td>245.00</td>\n",
       "      <td>0</td>\n",
       "      <td>0</td>\n",
       "      <td>0</td>\n",
       "      <td>1</td>\n",
       "      <td>0</td>\n",
       "      <td>1</td>\n",
       "      <td>0</td>\n",
       "      <td>0</td>\n",
       "      <td>4</td>\n",
       "    </tr>\n",
       "    <tr>\n",
       "      <th>2</th>\n",
       "      <td>1084.0</td>\n",
       "      <td>2</td>\n",
       "      <td>2</td>\n",
       "      <td>50.00</td>\n",
       "      <td>0</td>\n",
       "      <td>0</td>\n",
       "      <td>0</td>\n",
       "      <td>0</td>\n",
       "      <td>1</td>\n",
       "      <td>1</td>\n",
       "      <td>0</td>\n",
       "      <td>0</td>\n",
       "      <td>2</td>\n",
       "    </tr>\n",
       "    <tr>\n",
       "      <th>3</th>\n",
       "      <td>1230.0</td>\n",
       "      <td>2</td>\n",
       "      <td>2</td>\n",
       "      <td>80.00</td>\n",
       "      <td>0</td>\n",
       "      <td>0</td>\n",
       "      <td>0</td>\n",
       "      <td>0</td>\n",
       "      <td>1</td>\n",
       "      <td>1</td>\n",
       "      <td>0</td>\n",
       "      <td>0</td>\n",
       "      <td>2</td>\n",
       "    </tr>\n",
       "    <tr>\n",
       "      <th>4</th>\n",
       "      <td>1750.0</td>\n",
       "      <td>3</td>\n",
       "      <td>2</td>\n",
       "      <td>130.00</td>\n",
       "      <td>0</td>\n",
       "      <td>0</td>\n",
       "      <td>0</td>\n",
       "      <td>0</td>\n",
       "      <td>1</td>\n",
       "      <td>1</td>\n",
       "      <td>0</td>\n",
       "      <td>0</td>\n",
       "      <td>3</td>\n",
       "    </tr>\n",
       "    <tr>\n",
       "      <th>...</th>\n",
       "      <td>...</td>\n",
       "      <td>...</td>\n",
       "      <td>...</td>\n",
       "      <td>...</td>\n",
       "      <td>...</td>\n",
       "      <td>...</td>\n",
       "      <td>...</td>\n",
       "      <td>...</td>\n",
       "      <td>...</td>\n",
       "      <td>...</td>\n",
       "      <td>...</td>\n",
       "      <td>...</td>\n",
       "      <td>...</td>\n",
       "    </tr>\n",
       "    <tr>\n",
       "      <th>10747</th>\n",
       "      <td>1165.0</td>\n",
       "      <td>2</td>\n",
       "      <td>1</td>\n",
       "      <td>67.00</td>\n",
       "      <td>95</td>\n",
       "      <td>0</td>\n",
       "      <td>0</td>\n",
       "      <td>0</td>\n",
       "      <td>1</td>\n",
       "      <td>0</td>\n",
       "      <td>0</td>\n",
       "      <td>3</td>\n",
       "      <td>2</td>\n",
       "    </tr>\n",
       "    <tr>\n",
       "      <th>10749</th>\n",
       "      <td>2550.0</td>\n",
       "      <td>6</td>\n",
       "      <td>2</td>\n",
       "      <td>250.00</td>\n",
       "      <td>95</td>\n",
       "      <td>0</td>\n",
       "      <td>0</td>\n",
       "      <td>0</td>\n",
       "      <td>1</td>\n",
       "      <td>1</td>\n",
       "      <td>0</td>\n",
       "      <td>0</td>\n",
       "      <td>4</td>\n",
       "    </tr>\n",
       "    <tr>\n",
       "      <th>10752</th>\n",
       "      <td>2550.0</td>\n",
       "      <td>6</td>\n",
       "      <td>2</td>\n",
       "      <td>115.00</td>\n",
       "      <td>95</td>\n",
       "      <td>1</td>\n",
       "      <td>0</td>\n",
       "      <td>0</td>\n",
       "      <td>0</td>\n",
       "      <td>1</td>\n",
       "      <td>0</td>\n",
       "      <td>0</td>\n",
       "      <td>6</td>\n",
       "    </tr>\n",
       "    <tr>\n",
       "      <th>10755</th>\n",
       "      <td>2550.0</td>\n",
       "      <td>2</td>\n",
       "      <td>2</td>\n",
       "      <td>353.00</td>\n",
       "      <td>95</td>\n",
       "      <td>1</td>\n",
       "      <td>0</td>\n",
       "      <td>0</td>\n",
       "      <td>0</td>\n",
       "      <td>0</td>\n",
       "      <td>0</td>\n",
       "      <td>3</td>\n",
       "      <td>5</td>\n",
       "    </tr>\n",
       "    <tr>\n",
       "      <th>10760</th>\n",
       "      <td>1132.0</td>\n",
       "      <td>2</td>\n",
       "      <td>1</td>\n",
       "      <td>70.00</td>\n",
       "      <td>95</td>\n",
       "      <td>0</td>\n",
       "      <td>0</td>\n",
       "      <td>0</td>\n",
       "      <td>1</td>\n",
       "      <td>0</td>\n",
       "      <td>0</td>\n",
       "      <td>4</td>\n",
       "      <td>2</td>\n",
       "    </tr>\n",
       "  </tbody>\n",
       "</table>\n",
       "<p>7494 rows × 13 columns</p>\n",
       "</div>"
      ],
      "text/plain": [
       "       total_sqft  bath  balcony   price  site_location  \\\n",
       "0          1056.0     2        1   39.07              0   \n",
       "1          2550.0     4        1  245.00              0   \n",
       "2          1084.0     2        2   50.00              0   \n",
       "3          1230.0     2        2   80.00              0   \n",
       "4          1750.0     3        2  130.00              0   \n",
       "...           ...   ...      ...     ...            ...   \n",
       "10747      1165.0     2        1   67.00             95   \n",
       "10749      2550.0     6        2  250.00             95   \n",
       "10752      2550.0     6        2  115.00             95   \n",
       "10755      2550.0     2        2  353.00             95   \n",
       "10760      1132.0     2        1   70.00             95   \n",
       "\n",
       "       area_type_Built-up  Area  area_type_Carpet  Area  area_type_Plot  Area  \\\n",
       "0                             0                       0                     0   \n",
       "1                             0                       0                     1   \n",
       "2                             0                       0                     0   \n",
       "3                             0                       0                     0   \n",
       "4                             0                       0                     0   \n",
       "...                         ...                     ...                   ...   \n",
       "10747                         0                       0                     0   \n",
       "10749                         0                       0                     0   \n",
       "10752                         1                       0                     0   \n",
       "10755                         1                       0                     0   \n",
       "10760                         0                       0                     0   \n",
       "\n",
       "       area_type_Super built-up  Area  Availability_Ready_To_Move  \\\n",
       "0                                   1                           0   \n",
       "1                                   0                           1   \n",
       "2                                   1                           1   \n",
       "3                                   1                           1   \n",
       "4                                   1                           1   \n",
       "...                               ...                         ...   \n",
       "10747                               1                           0   \n",
       "10749                               1                           1   \n",
       "10752                               0                           1   \n",
       "10755                               0                           0   \n",
       "10760                               1                           0   \n",
       "\n",
       "       Availability_Immediate_Possession  Availability_Month  BHK  \n",
       "0                                      0                  12    2  \n",
       "1                                      0                   0    4  \n",
       "2                                      0                   0    2  \n",
       "3                                      0                   0    2  \n",
       "4                                      0                   0    3  \n",
       "...                                  ...                 ...  ...  \n",
       "10747                                  0                   3    2  \n",
       "10749                                  0                   0    4  \n",
       "10752                                  0                   0    6  \n",
       "10755                                  0                   3    5  \n",
       "10760                                  0                   4    2  \n",
       "\n",
       "[7494 rows x 13 columns]"
      ]
     },
     "execution_count": 128,
     "metadata": {},
     "output_type": "execute_result"
    }
   ],
   "source": [
    "df"
   ]
  },
  {
   "cell_type": "code",
   "execution_count": 129,
   "id": "7e50fd45",
   "metadata": {},
   "outputs": [
    {
     "data": {
      "text/plain": [
       "8540    6\n",
       "Name: bath, dtype: int32"
      ]
     },
     "execution_count": 129,
     "metadata": {},
     "output_type": "execute_result"
    }
   ],
   "source": [
    "df.loc[(df[\"bath\"] > 5) & (df[\"total_sqft\"] <= 1500), \"bath\"]"
   ]
  },
  {
   "cell_type": "code",
   "execution_count": 130,
   "id": "e85adc49",
   "metadata": {},
   "outputs": [
    {
     "data": {
      "text/plain": [
       "1065    6\n",
       "1582    6\n",
       "3698    6\n",
       "4331    6\n",
       "5655    6\n",
       "6080    6\n",
       "8338    6\n",
       "8540    6\n",
       "Name: bath, dtype: int32"
      ]
     },
     "execution_count": 130,
     "metadata": {},
     "output_type": "execute_result"
    }
   ],
   "source": [
    "df.loc[(df[\"bath\"] > 5) & (df[\"total_sqft\"] <= 2000), \"bath\"]"
   ]
  },
  {
   "cell_type": "code",
   "execution_count": 131,
   "id": "9dcc3919",
   "metadata": {},
   "outputs": [
    {
     "data": {
      "text/plain": [
       "29       9\n",
       "133      6\n",
       "191      6\n",
       "319      6\n",
       "394      6\n",
       "        ..\n",
       "10496    7\n",
       "10701    8\n",
       "10712    6\n",
       "10749    6\n",
       "10752    6\n",
       "Name: bath, Length: 132, dtype: int32"
      ]
     },
     "execution_count": 131,
     "metadata": {},
     "output_type": "execute_result"
    }
   ],
   "source": [
    "df.loc[(df[\"bath\"] > 5) & (df[\"total_sqft\"] >= 2000), \"bath\"]"
   ]
  },
  {
   "cell_type": "code",
   "execution_count": 132,
   "id": "d8c18bc6",
   "metadata": {},
   "outputs": [
    {
     "data": {
      "text/plain": [
       "<AxesSubplot:xlabel='bath'>"
      ]
     },
     "execution_count": 132,
     "metadata": {},
     "output_type": "execute_result"
    },
    {
     "data": {
      "image/png": "[encoded data removed]",
      "text/plain": [
       "<Figure size 640x480 with 1 Axes>"
      ]
     },
     "metadata": {},
     "output_type": "display_data"
    }
   ],
   "source": [
    "sns.boxplot(x = df[\"bath\"])"
   ]
  },
  {
   "cell_type": "code",
   "execution_count": 133,
   "id": "e981ad86",
   "metadata": {},
   "outputs": [
    {
     "data": {
      "text/plain": [
       "29       9\n",
       "133      6\n",
       "191      6\n",
       "319      6\n",
       "394      6\n",
       "        ..\n",
       "10496    7\n",
       "10701    8\n",
       "10712    6\n",
       "10749    6\n",
       "10752    6\n",
       "Name: bath, Length: 139, dtype: int32"
      ]
     },
     "execution_count": 133,
     "metadata": {},
     "output_type": "execute_result"
    }
   ],
   "source": [
    "df.loc[(df[\"bath\"] > 5),\"bath\"]"
   ]
  },
  {
   "cell_type": "markdown",
   "id": "27cff186",
   "metadata": {},
   "source": [
    "### 3. Balcony"
   ]
  },
  {
   "cell_type": "code",
   "execution_count": 134,
   "id": "c09f9406",
   "metadata": {},
   "outputs": [
    {
     "data": {
      "text/plain": [
       "<AxesSubplot:xlabel='balcony'>"
      ]
     },
     "execution_count": 134,
     "metadata": {},
     "output_type": "execute_result"
    },
    {
     "data": {
      "image/png": "[encoded data removed]",
      "text/plain": [
       "<Figure size 640x480 with 1 Axes>"
      ]
     },
     "metadata": {},
     "output_type": "display_data"
    }
   ],
   "source": [
    "sns.boxplot(x = df[\"balcony\"])"
   ]
  },
  {
   "cell_type": "code",
   "execution_count": 135,
   "id": "cf8f5456",
   "metadata": {},
   "outputs": [
    {
     "data": {
      "text/html": [
       "<div>\n",
       "<style scoped>\n",
       "    .dataframe tbody tr th:only-of-type {\n",
       "        vertical-align: middle;\n",
       "    }\n",
       "\n",
       "    .dataframe tbody tr th {\n",
       "        vertical-align: top;\n",
       "    }\n",
       "\n",
       "    .dataframe thead th {\n",
       "        text-align: right;\n",
       "    }\n",
       "</style>\n",
       "<table border=\"1\" class=\"dataframe\">\n",
       "  <thead>\n",
       "    <tr style=\"text-align: right;\">\n",
       "      <th></th>\n",
       "      <th>total_sqft</th>\n",
       "      <th>bath</th>\n",
       "      <th>balcony</th>\n",
       "      <th>price</th>\n",
       "      <th>site_location</th>\n",
       "      <th>area_type_Built-up  Area</th>\n",
       "      <th>area_type_Carpet  Area</th>\n",
       "      <th>area_type_Plot  Area</th>\n",
       "      <th>area_type_Super built-up  Area</th>\n",
       "      <th>Availability_Ready_To_Move</th>\n",
       "      <th>Availability_Immediate_Possession</th>\n",
       "      <th>Availability_Month</th>\n",
       "      <th>BHK</th>\n",
       "    </tr>\n",
       "  </thead>\n",
       "  <tbody>\n",
       "    <tr>\n",
       "      <th>0</th>\n",
       "      <td>1056.0</td>\n",
       "      <td>2</td>\n",
       "      <td>1</td>\n",
       "      <td>39.07</td>\n",
       "      <td>0</td>\n",
       "      <td>0</td>\n",
       "      <td>0</td>\n",
       "      <td>0</td>\n",
       "      <td>1</td>\n",
       "      <td>0</td>\n",
       "      <td>0</td>\n",
       "      <td>12</td>\n",
       "      <td>2</td>\n",
       "    </tr>\n",
       "    <tr>\n",
       "      <th>1</th>\n",
       "      <td>2550.0</td>\n",
       "      <td>4</td>\n",
       "      <td>1</td>\n",
       "      <td>245.00</td>\n",
       "      <td>0</td>\n",
       "      <td>0</td>\n",
       "      <td>0</td>\n",
       "      <td>1</td>\n",
       "      <td>0</td>\n",
       "      <td>1</td>\n",
       "      <td>0</td>\n",
       "      <td>0</td>\n",
       "      <td>4</td>\n",
       "    </tr>\n",
       "    <tr>\n",
       "      <th>2</th>\n",
       "      <td>1084.0</td>\n",
       "      <td>2</td>\n",
       "      <td>2</td>\n",
       "      <td>50.00</td>\n",
       "      <td>0</td>\n",
       "      <td>0</td>\n",
       "      <td>0</td>\n",
       "      <td>0</td>\n",
       "      <td>1</td>\n",
       "      <td>1</td>\n",
       "      <td>0</td>\n",
       "      <td>0</td>\n",
       "      <td>2</td>\n",
       "    </tr>\n",
       "    <tr>\n",
       "      <th>3</th>\n",
       "      <td>1230.0</td>\n",
       "      <td>2</td>\n",
       "      <td>2</td>\n",
       "      <td>80.00</td>\n",
       "      <td>0</td>\n",
       "      <td>0</td>\n",
       "      <td>0</td>\n",
       "      <td>0</td>\n",
       "      <td>1</td>\n",
       "      <td>1</td>\n",
       "      <td>0</td>\n",
       "      <td>0</td>\n",
       "      <td>2</td>\n",
       "    </tr>\n",
       "    <tr>\n",
       "      <th>4</th>\n",
       "      <td>1750.0</td>\n",
       "      <td>3</td>\n",
       "      <td>2</td>\n",
       "      <td>130.00</td>\n",
       "      <td>0</td>\n",
       "      <td>0</td>\n",
       "      <td>0</td>\n",
       "      <td>0</td>\n",
       "      <td>1</td>\n",
       "      <td>1</td>\n",
       "      <td>0</td>\n",
       "      <td>0</td>\n",
       "      <td>3</td>\n",
       "    </tr>\n",
       "    <tr>\n",
       "      <th>...</th>\n",
       "      <td>...</td>\n",
       "      <td>...</td>\n",
       "      <td>...</td>\n",
       "      <td>...</td>\n",
       "      <td>...</td>\n",
       "      <td>...</td>\n",
       "      <td>...</td>\n",
       "      <td>...</td>\n",
       "      <td>...</td>\n",
       "      <td>...</td>\n",
       "      <td>...</td>\n",
       "      <td>...</td>\n",
       "      <td>...</td>\n",
       "    </tr>\n",
       "    <tr>\n",
       "      <th>10747</th>\n",
       "      <td>1165.0</td>\n",
       "      <td>2</td>\n",
       "      <td>1</td>\n",
       "      <td>67.00</td>\n",
       "      <td>95</td>\n",
       "      <td>0</td>\n",
       "      <td>0</td>\n",
       "      <td>0</td>\n",
       "      <td>1</td>\n",
       "      <td>0</td>\n",
       "      <td>0</td>\n",
       "      <td>3</td>\n",
       "      <td>2</td>\n",
       "    </tr>\n",
       "    <tr>\n",
       "      <th>10749</th>\n",
       "      <td>2550.0</td>\n",
       "      <td>6</td>\n",
       "      <td>2</td>\n",
       "      <td>250.00</td>\n",
       "      <td>95</td>\n",
       "      <td>0</td>\n",
       "      <td>0</td>\n",
       "      <td>0</td>\n",
       "      <td>1</td>\n",
       "      <td>1</td>\n",
       "      <td>0</td>\n",
       "      <td>0</td>\n",
       "      <td>4</td>\n",
       "    </tr>\n",
       "    <tr>\n",
       "      <th>10752</th>\n",
       "      <td>2550.0</td>\n",
       "      <td>6</td>\n",
       "      <td>2</td>\n",
       "      <td>115.00</td>\n",
       "      <td>95</td>\n",
       "      <td>1</td>\n",
       "      <td>0</td>\n",
       "      <td>0</td>\n",
       "      <td>0</td>\n",
       "      <td>1</td>\n",
       "      <td>0</td>\n",
       "      <td>0</td>\n",
       "      <td>6</td>\n",
       "    </tr>\n",
       "    <tr>\n",
       "      <th>10755</th>\n",
       "      <td>2550.0</td>\n",
       "      <td>2</td>\n",
       "      <td>2</td>\n",
       "      <td>353.00</td>\n",
       "      <td>95</td>\n",
       "      <td>1</td>\n",
       "      <td>0</td>\n",
       "      <td>0</td>\n",
       "      <td>0</td>\n",
       "      <td>0</td>\n",
       "      <td>0</td>\n",
       "      <td>3</td>\n",
       "      <td>5</td>\n",
       "    </tr>\n",
       "    <tr>\n",
       "      <th>10760</th>\n",
       "      <td>1132.0</td>\n",
       "      <td>2</td>\n",
       "      <td>1</td>\n",
       "      <td>70.00</td>\n",
       "      <td>95</td>\n",
       "      <td>0</td>\n",
       "      <td>0</td>\n",
       "      <td>0</td>\n",
       "      <td>1</td>\n",
       "      <td>0</td>\n",
       "      <td>0</td>\n",
       "      <td>4</td>\n",
       "      <td>2</td>\n",
       "    </tr>\n",
       "  </tbody>\n",
       "</table>\n",
       "<p>7494 rows × 13 columns</p>\n",
       "</div>"
      ],
      "text/plain": [
       "       total_sqft  bath  balcony   price  site_location  \\\n",
       "0          1056.0     2        1   39.07              0   \n",
       "1          2550.0     4        1  245.00              0   \n",
       "2          1084.0     2        2   50.00              0   \n",
       "3          1230.0     2        2   80.00              0   \n",
       "4          1750.0     3        2  130.00              0   \n",
       "...           ...   ...      ...     ...            ...   \n",
       "10747      1165.0     2        1   67.00             95   \n",
       "10749      2550.0     6        2  250.00             95   \n",
       "10752      2550.0     6        2  115.00             95   \n",
       "10755      2550.0     2        2  353.00             95   \n",
       "10760      1132.0     2        1   70.00             95   \n",
       "\n",
       "       area_type_Built-up  Area  area_type_Carpet  Area  area_type_Plot  Area  \\\n",
       "0                             0                       0                     0   \n",
       "1                             0                       0                     1   \n",
       "2                             0                       0                     0   \n",
       "3                             0                       0                     0   \n",
       "4                             0                       0                     0   \n",
       "...                         ...                     ...                   ...   \n",
       "10747                         0                       0                     0   \n",
       "10749                         0                       0                     0   \n",
       "10752                         1                       0                     0   \n",
       "10755                         1                       0                     0   \n",
       "10760                         0                       0                     0   \n",
       "\n",
       "       area_type_Super built-up  Area  Availability_Ready_To_Move  \\\n",
       "0                                   1                           0   \n",
       "1                                   0                           1   \n",
       "2                                   1                           1   \n",
       "3                                   1                           1   \n",
       "4                                   1                           1   \n",
       "...                               ...                         ...   \n",
       "10747                               1                           0   \n",
       "10749                               1                           1   \n",
       "10752                               0                           1   \n",
       "10755                               0                           0   \n",
       "10760                               1                           0   \n",
       "\n",
       "       Availability_Immediate_Possession  Availability_Month  BHK  \n",
       "0                                      0                  12    2  \n",
       "1                                      0                   0    4  \n",
       "2                                      0                   0    2  \n",
       "3                                      0                   0    2  \n",
       "4                                      0                   0    3  \n",
       "...                                  ...                 ...  ...  \n",
       "10747                                  0                   3    2  \n",
       "10749                                  0                   0    4  \n",
       "10752                                  0                   0    6  \n",
       "10755                                  0                   3    5  \n",
       "10760                                  0                   4    2  \n",
       "\n",
       "[7494 rows x 13 columns]"
      ]
     },
     "execution_count": 135,
     "metadata": {},
     "output_type": "execute_result"
    }
   ],
   "source": [
    "df"
   ]
  },
  {
   "cell_type": "markdown",
   "id": "eb87df4c",
   "metadata": {},
   "source": [
    "### 4. BHK"
   ]
  },
  {
   "cell_type": "code",
   "execution_count": 136,
   "id": "5dbe84e6",
   "metadata": {},
   "outputs": [
    {
     "data": {
      "text/plain": [
       "<AxesSubplot:xlabel='BHK'>"
      ]
     },
     "execution_count": 136,
     "metadata": {},
     "output_type": "execute_result"
    },
    {
     "data": {
      "image/png": "[encoded data removed]",
      "text/plain": [
       "<Figure size 640x480 with 1 Axes>"
      ]
     },
     "metadata": {},
     "output_type": "display_data"
    }
   ],
   "source": [
    "sns.boxplot(x = df[\"BHK\"])"
   ]
  },
  {
   "cell_type": "code",
   "execution_count": 137,
   "id": "918edf7e",
   "metadata": {},
   "outputs": [
    {
     "name": "stdout",
     "output_type": "stream",
     "text": [
      "value of Q1: 2.0\n",
      "value of Q2: 2.0\n",
      "value of Q3: 3.0\n",
      "--------------------------------------------------\n",
      "value of Iqr: 1.0\n",
      "--------------------------------------------------\n",
      "value of Lower tail: 0.5\n",
      "value of Upper tail: 4.5\n"
     ]
    }
   ],
   "source": [
    "q1 = df[\"BHK\"].quantile(0.25)\n",
    "q2 = df[\"BHK\"].quantile(0.50)\n",
    "q3 = df[\"BHK\"].quantile(0.75)\n",
    "\n",
    "iqr = q3 - q1 \n",
    "\n",
    "lower_tail = q1 - 1.5 * iqr\n",
    "upper_tail = q3 + 1.5 * iqr\n",
    "\n",
    "print(\"value of Q1:\",q1)\n",
    "print(\"value of Q2:\",q2)\n",
    "print(\"value of Q3:\",q3)\n",
    "print(\"-\"*50)\n",
    "print(\"value of Iqr:\",iqr)\n",
    "print(\"-\"*50)\n",
    "print(\"value of Lower tail:\",lower_tail)\n",
    "print(\"value of Upper tail:\",upper_tail)"
   ]
  },
  {
   "cell_type": "code",
   "execution_count": 138,
   "id": "6853ef3a",
   "metadata": {
    "scrolled": true
   },
   "outputs": [
    {
     "data": {
      "text/plain": [
       "<AxesSubplot:xlabel='BHK'>"
      ]
     },
     "execution_count": 138,
     "metadata": {},
     "output_type": "execute_result"
    },
    {
     "data": {
      "image/png": "[encoded data removed]",
      "text/plain": [
       "<Figure size 640x480 with 1 Axes>"
      ]
     },
     "metadata": {},
     "output_type": "display_data"
    }
   ],
   "source": [
    "sns.boxplot(x = df[\"BHK\"])"
   ]
  },
  {
   "cell_type": "markdown",
   "id": "df3b7155",
   "metadata": {},
   "source": [
    "# Now split and Trian The Model"
   ]
  },
  {
   "cell_type": "code",
   "execution_count": 139,
   "id": "2285ac2d",
   "metadata": {},
   "outputs": [],
   "source": [
    "x = df.drop(\"price\",axis=1)\n",
    "y = df[\"price\"]"
   ]
  },
  {
   "cell_type": "code",
   "execution_count": 140,
   "id": "d194b1ad",
   "metadata": {},
   "outputs": [],
   "source": [
    "x_train1,x_test1,y_train1,y_test1 = train_test_split(x,y,test_size=0.2,random_state=100)\n"
   ]
  },
  {
   "cell_type": "code",
   "execution_count": 141,
   "id": "8e976ec5",
   "metadata": {},
   "outputs": [
    {
     "data": {
      "text/plain": [
       "LinearRegression()"
      ]
     },
     "execution_count": 141,
     "metadata": {},
     "output_type": "execute_result"
    }
   ],
   "source": [
    "model1 = LinearRegression()\n",
    "model1.fit(x_train1,y_train1)"
   ]
  },
  {
   "cell_type": "code",
   "execution_count": 142,
   "id": "e9645f7d",
   "metadata": {},
   "outputs": [
    {
     "data": {
      "text/plain": [
       "array([109.57427398, 181.82128438,  86.62093858, ...,  83.12581106,\n",
       "       105.1962585 , 165.92579807])"
      ]
     },
     "execution_count": 142,
     "metadata": {},
     "output_type": "execute_result"
    }
   ],
   "source": [
    "y_pred1 = model1.predict(x_test1)\n",
    "y_pred1"
   ]
  },
  {
   "cell_type": "code",
   "execution_count": 143,
   "id": "3421a66e",
   "metadata": {},
   "outputs": [
    {
     "data": {
      "text/plain": [
       "1783     100.00\n",
       "1285     170.00\n",
       "7431      76.00\n",
       "5238     112.00\n",
       "10202    125.00\n",
       "          ...  \n",
       "444       44.41\n",
       "4435     135.00\n",
       "2206      87.00\n",
       "9023      90.00\n",
       "7774     155.00\n",
       "Name: price, Length: 1499, dtype: float64"
      ]
     },
     "execution_count": 143,
     "metadata": {},
     "output_type": "execute_result"
    }
   ],
   "source": [
    "y_test1"
   ]
  },
  {
   "cell_type": "code",
   "execution_count": 144,
   "id": "55436e64",
   "metadata": {},
   "outputs": [
    {
     "data": {
      "text/plain": [
       "1783     -9.574274\n",
       "1285    -11.821284\n",
       "7431    -10.620939\n",
       "5238    -22.974338\n",
       "10202   -38.189104\n",
       "           ...    \n",
       "444      -7.121023\n",
       "4435     47.807136\n",
       "2206      3.874189\n",
       "9023    -15.196259\n",
       "7774    -10.925798\n",
       "Name: price, Length: 1499, dtype: float64"
      ]
     },
     "execution_count": 144,
     "metadata": {},
     "output_type": "execute_result"
    }
   ],
   "source": [
    "Residual = y_test1 - y_pred1\n",
    "Residual"
   ]
  },
  {
   "cell_type": "code",
   "execution_count": 145,
   "id": "d057151f",
   "metadata": {},
   "outputs": [
    {
     "name": "stdout",
     "output_type": "stream",
     "text": [
      "Mean squared Error:  2200.484233338572\n",
      "Root Mean squared Error:  46.90931925895506\n",
      "Mean Absolute Error:  21.332660022920532\n",
      "r_squared_value for Training:  0.5918199855678699\n"
     ]
    }
   ],
   "source": [
    "# Model evalution on training data\n",
    "\n",
    "y_pred_train1 = model1.predict(x_train1)\n",
    "\n",
    "mse = mean_squared_error(y_train1,y_pred_train1)\n",
    "print(\"Mean squared Error: \",mse)\n",
    "\n",
    "rmse = np.sqrt(mse)\n",
    "print(\"Root Mean squared Error: \",rmse)\n",
    "\n",
    "mae = mean_absolute_error(y_train1,y_pred_train1)\n",
    "print(\"Mean Absolute Error: \",mae)\n",
    "\n",
    "r_square = r2_score(y_train1,y_pred_train1)\n",
    "print(\"r_squared_value for Training: \",r_square)"
   ]
  },
  {
   "cell_type": "code",
   "execution_count": 146,
   "id": "ad474dba",
   "metadata": {},
   "outputs": [
    {
     "name": "stdout",
     "output_type": "stream",
     "text": [
      "Mean squared Error:  1337.7596620253823\n",
      "Root Mean squared Error:  36.57539694966252\n",
      "Mean Absolute Error:  21.93098970647776\n",
      "r_squared_value for Testing:  0.7029643763938574\n"
     ]
    }
   ],
   "source": [
    "# Model Evaluation for Testing Data\n",
    "\n",
    "mse = mean_squared_error(y_test1,y_pred1)\n",
    "print(\"Mean squared Error: \",mse)\n",
    "\n",
    "rmse = np.sqrt(mse)\n",
    "print(\"Root Mean squared Error: \",rmse)\n",
    "\n",
    "mae = mean_absolute_error(y_test1,y_pred1)\n",
    "print(\"Mean Absolute Error: \",mae)\n",
    "\n",
    "r_square = r2_score(y_test1,y_pred1)\n",
    "print(\"r_squared_value for Testing: \",r_square)"
   ]
  },
  {
   "cell_type": "markdown",
   "id": "d0d080cc",
   "metadata": {},
   "source": [
    "# Now Preforming Hyperparameter Testing"
   ]
  },
  {
   "cell_type": "markdown",
   "id": "e2657fae",
   "metadata": {},
   "source": [
    "## 1. Ridge Regression Model"
   ]
  },
  {
   "cell_type": "markdown",
   "id": "d2913c42",
   "metadata": {},
   "source": [
    "### 1. Grid-SearchCV"
   ]
  },
  {
   "cell_type": "code",
   "execution_count": 147,
   "id": "ca86672e",
   "metadata": {},
   "outputs": [],
   "source": [
    "def get_best_estimator(x_train, y_train):\n",
    "    \n",
    "    Ridge_model = Ridge()\n",
    "    \n",
    "    # param_grid\n",
    "    param_grid = {\"alpha\":np.arange(0.01,3,0.1)}\n",
    "    \n",
    "    gscv_ridge_model = GridSearchCV(Ridge_model,param_grid,n_jobs=-1)\n",
    "    gscv_ridge_model.fit(x_train,y_train)\n",
    "    gscv_ridge_model.best_estimator_\n",
    "    \n",
    "    model_details.append(\"Ridge Regression Hyperp Tunning GSCV\")\n",
    "    \n",
    "    best_params = gscv_ridge_model.best_params_\n",
    "    best_params_list.append(best_params)\n",
    "    \n",
    "    return gscv_ridge_model.best_estimator_\n",
    "\n",
    "\n",
    "best_params = get_best_estimator(x_train, y_train)\n"
   ]
  },
  {
   "cell_type": "code",
   "execution_count": 148,
   "id": "5b3ab7dd",
   "metadata": {},
   "outputs": [
    {
     "name": "stdout",
     "output_type": "stream",
     "text": [
      "Mean squared Error:  665.3125051539815\n",
      "Root Mean squared Error:  25.79365241981022\n",
      "Mean Absolute Error:  16.67050575201446\n",
      "r_squared_value for Testing:  0.8818716909307533\n"
     ]
    }
   ],
   "source": [
    "def get_hyp_testing_accuracy(best_params, x_test, y_test):\n",
    "    \n",
    "    # To get best model from hyperparameter tunning\n",
    "    ridge_reg_model = best_params\n",
    "    \n",
    "    y_pred = ridge_reg_model.predict(x_test)\n",
    "    \n",
    "    mse = mean_squared_error(y_test,y_pred)\n",
    "    print(\"Mean squared Error: \",mse)\n",
    "\n",
    "    rmse = np.sqrt(mse)\n",
    "    print(\"Root Mean squared Error: \",rmse)\n",
    "\n",
    "    mae = mean_absolute_error(y_test,y_pred)\n",
    "    print(\"Mean Absolute Error: \",mae)\n",
    "\n",
    "    r_square = r2_score(y_test,y_pred)\n",
    "    print(\"r_squared_value for Testing: \",r_square)\n",
    "    \n",
    "    # We are appending testing accuracy in list\n",
    "    Testing_accuracy.append(r_square)\n",
    "    \n",
    "get_hyp_testing_accuracy(best_params, x_test, y_test)"
   ]
  },
  {
   "cell_type": "code",
   "execution_count": 149,
   "id": "1bf8e3ba",
   "metadata": {},
   "outputs": [
    {
     "name": "stdout",
     "output_type": "stream",
     "text": [
      "Mean squared Error:  840.9272479132411\n",
      "Root Mean squared Error:  28.998745626548075\n",
      "Mean Absolute Error:  18.022800097061722\n",
      "r_squared_value for Training:  0.8402279599995583\n"
     ]
    }
   ],
   "source": [
    "def get_hyp_training_accuracy(best_params, x_train, y_train):\n",
    "    \n",
    "    # To get best model from hyperparameter tunning\n",
    "    ridge_reg_model = best_params\n",
    "    \n",
    "    y_pred_train = ridge_reg_model.predict(x_train)\n",
    "\n",
    "    mse = mean_squared_error(y_train,y_pred_train)\n",
    "    print(\"Mean squared Error: \",mse)\n",
    "\n",
    "    rmse = np.sqrt(mse)\n",
    "    print(\"Root Mean squared Error: \",rmse)\n",
    "\n",
    "    mae = mean_absolute_error(y_train,y_pred_train)\n",
    "    print(\"Mean Absolute Error: \",mae)\n",
    "\n",
    "    r_square = r2_score(y_train,y_pred_train)\n",
    "    print(\"r_squared_value for Training: \",r_square) \n",
    "\n",
    "    # We are appending training accuracy in list\n",
    "    Training_accuracy.append(r_square)\n",
    "    \n",
    "get_hyp_training_accuracy(best_params, x_train, y_train)\n",
    "    "
   ]
  },
  {
   "cell_type": "markdown",
   "id": "810fedac",
   "metadata": {},
   "source": [
    "### 2.Randomize SearchCV "
   ]
  },
  {
   "cell_type": "code",
   "execution_count": 150,
   "id": "23930e3d",
   "metadata": {},
   "outputs": [],
   "source": [
    "def get_best_estimator(x_train, y_train):\n",
    "    \n",
    "    Ridge_model = Ridge()\n",
    "    \n",
    "    # param_grid\n",
    "    param_grid = {\"alpha\":np.arange(0.01,3,0.1)}\n",
    "    \n",
    "    rscv_ridge_model = RandomizedSearchCV(Ridge_model,param_grid,n_jobs=-1)\n",
    "    rscv_ridge_model.fit(x_train,y_train)\n",
    "    rscv_ridge_model.best_estimator_\n",
    "    \n",
    "    model_details.append(\"Ridge Regression Hyperp Tunning RSCV\")\n",
    "    \n",
    "    best_params = rscv_ridge_model.best_params_\n",
    "    best_params_list.append(best_params)\n",
    "    \n",
    "    return rscv_ridge_model.best_estimator_\n",
    "\n",
    "\n",
    "best_params = get_best_estimator(x_train, y_train)\n"
   ]
  },
  {
   "cell_type": "code",
   "execution_count": 151,
   "id": "b95db825",
   "metadata": {},
   "outputs": [
    {
     "name": "stdout",
     "output_type": "stream",
     "text": [
      "Mean squared Error:  665.3396597883258\n",
      "Root Mean squared Error:  25.794178796548763\n",
      "Mean Absolute Error:  16.67121332909186\n",
      "r_squared_value for Testing:  0.8818668695407845\n"
     ]
    }
   ],
   "source": [
    "def get_hyp_testing_accuracy(best_params, x_test, y_test):\n",
    "    \n",
    "    # To get best model from hyperparameter tunning\n",
    "    ridge_reg_model = best_params\n",
    "    \n",
    "    y_pred = ridge_reg_model.predict(x_test)\n",
    "    \n",
    "    mse = mean_squared_error(y_test,y_pred)\n",
    "    print(\"Mean squared Error: \",mse)\n",
    "\n",
    "    rmse = np.sqrt(mse)\n",
    "    print(\"Root Mean squared Error: \",rmse)\n",
    "\n",
    "    mae = mean_absolute_error(y_test,y_pred)\n",
    "    print(\"Mean Absolute Error: \",mae)\n",
    "\n",
    "    r_square = r2_score(y_test,y_pred)\n",
    "    print(\"r_squared_value for Testing: \",r_square)\n",
    "    \n",
    "    # We are appending testing accuracy in list\n",
    "    Testing_accuracy.append(r_square)\n",
    "    \n",
    "get_hyp_testing_accuracy(best_params, x_test, y_test)"
   ]
  },
  {
   "cell_type": "code",
   "execution_count": 152,
   "id": "00e7cc36",
   "metadata": {},
   "outputs": [
    {
     "name": "stdout",
     "output_type": "stream",
     "text": [
      "Mean squared Error:  840.9266772873949\n",
      "Root Mean squared Error:  28.998735787744177\n",
      "Mean Absolute Error:  18.023219787802255\n",
      "r_squared_value for Training:  0.8402280684156619\n"
     ]
    }
   ],
   "source": [
    "def get_hyp_training_accuracy(best_params, x_train, y_train):\n",
    "    \n",
    "    # To get best model from hyperparameter tunning\n",
    "    ridge_reg_model = best_params\n",
    "    \n",
    "    y_pred_train = ridge_reg_model.predict(x_train)\n",
    "\n",
    "    mse = mean_squared_error(y_train,y_pred_train)\n",
    "    print(\"Mean squared Error: \",mse)\n",
    "\n",
    "    rmse = np.sqrt(mse)\n",
    "    print(\"Root Mean squared Error: \",rmse)\n",
    "\n",
    "    mae = mean_absolute_error(y_train,y_pred_train)\n",
    "    print(\"Mean Absolute Error: \",mae)\n",
    "\n",
    "    r_square = r2_score(y_train,y_pred_train)\n",
    "    print(\"r_squared_value for Training: \",r_square) \n",
    "\n",
    "    # We are appending training accuracy in list\n",
    "    Training_accuracy.append(r_square)\n",
    "    \n",
    "get_hyp_training_accuracy(best_params, x_train, y_train)\n",
    "    "
   ]
  },
  {
   "cell_type": "markdown",
   "id": "4ec1c51b",
   "metadata": {},
   "source": [
    "## Lasso Regreration Model"
   ]
  },
  {
   "cell_type": "markdown",
   "id": "e4495fb7",
   "metadata": {},
   "source": [
    "### 1. Grid-SearchCV"
   ]
  },
  {
   "cell_type": "code",
   "execution_count": 153,
   "id": "4766bc46",
   "metadata": {},
   "outputs": [],
   "source": [
    "def get_best_estimator(x_train, y_train):\n",
    "    \n",
    "    Lasso_model = Lasso()\n",
    "    \n",
    "    # param_grid\n",
    "    param_grid = {\"alpha\":np.arange(0.01,3,0.1)}\n",
    "    \n",
    "    grid_searchcv_lasso_model = GridSearchCV(Lasso_model,param_grid,n_jobs=-1)\n",
    "    grid_searchcv_lasso_model.fit(x_train,y_train)\n",
    "    grid_searchcv_lasso_model.best_estimator_\n",
    "    \n",
    "    model_details.append(\"Lasso Regression Hyperp Tunning GSCV\")\n",
    "    \n",
    "    best_params = grid_searchcv_lasso_model.best_params_\n",
    "    best_params_list.append(best_params)\n",
    "    \n",
    "    return grid_searchcv_lasso_model.best_estimator_\n",
    "\n",
    "best_params = get_best_estimator(x_train, y_train)"
   ]
  },
  {
   "cell_type": "code",
   "execution_count": 154,
   "id": "19a7d932",
   "metadata": {},
   "outputs": [
    {
     "name": "stdout",
     "output_type": "stream",
     "text": [
      "Mean squared Error:  665.3065483556945\n",
      "Root Mean squared Error:  25.793536949315317\n",
      "Mean Absolute Error:  16.6642202762542\n",
      "r_squared_value for Testing:  0.8818727485788566\n"
     ]
    }
   ],
   "source": [
    "def get_hyp_testing_accuracy(best_params, x_test, y_test):\n",
    "    \n",
    "    # To get best model from hyperparameter tunning\n",
    "    Lasso_model = best_params\n",
    "    \n",
    "    y_pred = Lasso_model.predict(x_test)\n",
    "    \n",
    "    mse = mean_squared_error(y_test,y_pred)\n",
    "    print(\"Mean squared Error: \",mse)\n",
    "\n",
    "    rmse = np.sqrt(mse)\n",
    "    print(\"Root Mean squared Error: \",rmse)\n",
    "\n",
    "    mae = mean_absolute_error(y_test,y_pred)\n",
    "    print(\"Mean Absolute Error: \",mae)\n",
    "\n",
    "    r_square = r2_score(y_test,y_pred)\n",
    "    print(\"r_squared_value for Testing: \",r_square)\n",
    "    \n",
    "    # We are appending testing accuracy in list\n",
    "    Testing_accuracy.append(r_square)\n",
    "    \n",
    "get_hyp_testing_accuracy(best_params, x_test, y_test)"
   ]
  },
  {
   "cell_type": "code",
   "execution_count": 155,
   "id": "95df068d",
   "metadata": {},
   "outputs": [
    {
     "name": "stdout",
     "output_type": "stream",
     "text": [
      "Mean squared Error:  840.9486593999122\n",
      "Root Mean squared Error:  28.999114803729995\n",
      "Mean Absolute Error:  18.02041300456537\n",
      "r_squared_value for Training:  0.8402238919224287\n"
     ]
    }
   ],
   "source": [
    "def get_hyp_training_accuracy(best_params, x_train, y_train):\n",
    "    \n",
    "    # To get best model from hyperparameter tunning\n",
    "    Lasso_model = best_params\n",
    "    \n",
    "    y_pred_train = Lasso_model.predict(x_train)\n",
    "\n",
    "    mse = mean_squared_error(y_train,y_pred_train)\n",
    "    print(\"Mean squared Error: \",mse)\n",
    "\n",
    "    rmse = np.sqrt(mse)\n",
    "    print(\"Root Mean squared Error: \",rmse)\n",
    "\n",
    "    mae = mean_absolute_error(y_train,y_pred_train)\n",
    "    print(\"Mean Absolute Error: \",mae)\n",
    "\n",
    "    r_square = r2_score(y_train,y_pred_train)\n",
    "    print(\"r_squared_value for Training: \",r_square) \n",
    "\n",
    "    # We are appending testing accuracy in list\n",
    "    Training_accuracy.append(r_square)\n",
    "    \n",
    "get_hyp_training_accuracy(best_params, x_train, y_train)"
   ]
  },
  {
   "cell_type": "markdown",
   "id": "2b5be365",
   "metadata": {},
   "source": [
    "### 2.Randomize SearchCV "
   ]
  },
  {
   "cell_type": "code",
   "execution_count": 156,
   "id": "210baf66",
   "metadata": {},
   "outputs": [],
   "source": [
    "def get_best_estimator(x_train, y_train):\n",
    "    \n",
    "    Lasso_model = Lasso()\n",
    "    \n",
    "    # param_grid\n",
    "    param_grid = {\"alpha\":np.arange(0.01,3,0.1)}\n",
    "    \n",
    "    random_searchcv_lasso_model = RandomizedSearchCV(Lasso_model,param_grid,n_jobs=-1)\n",
    "    random_searchcv_lasso_model.fit(x_train,y_train)\n",
    "    random_searchcv_lasso_model.best_estimator_\n",
    "    \n",
    "    model_details.append(\"Lasso Regression Hyperp Tunning RSCV\")\n",
    "    \n",
    "    best_params = random_searchcv_lasso_model.best_params_\n",
    "    best_params_list.append(best_params)\n",
    "    \n",
    "    return random_searchcv_lasso_model.best_estimator_\n",
    "\n",
    "best_params = get_best_estimator(x_train, y_train)"
   ]
  },
  {
   "cell_type": "code",
   "execution_count": 157,
   "id": "270fdba5",
   "metadata": {
    "scrolled": true
   },
   "outputs": [
    {
     "name": "stdout",
     "output_type": "stream",
     "text": [
      "Mean squared Error:  664.8485751275172\n",
      "Root Mean squared Error:  25.78465774695327\n",
      "Mean Absolute Error:  16.55132190463416\n",
      "r_squared_value for Testing:  0.881954063153022\n"
     ]
    }
   ],
   "source": [
    "def get_hyp_testing_accuracy(best_params, x_test, y_test):\n",
    "    \n",
    "    # To get best model from hyperparameter tunning\n",
    "    Lasso_model = best_params\n",
    "    \n",
    "    y_pred = Lasso_model.predict(x_test)\n",
    "    \n",
    "    mse = mean_squared_error(y_test,y_pred)\n",
    "    print(\"Mean squared Error: \",mse)\n",
    "\n",
    "    rmse = np.sqrt(mse)\n",
    "    print(\"Root Mean squared Error: \",rmse)\n",
    "\n",
    "    mae = mean_absolute_error(y_test,y_pred)\n",
    "    print(\"Mean Absolute Error: \",mae)\n",
    "\n",
    "    r_square = r2_score(y_test,y_pred)\n",
    "    print(\"r_squared_value for Testing: \",r_square)\n",
    "    \n",
    "    # We are appending testing accuracy in list\n",
    "    Testing_accuracy.append(r_square)\n",
    "    \n",
    "get_hyp_testing_accuracy(best_params, x_test, y_test)"
   ]
  },
  {
   "cell_type": "code",
   "execution_count": 158,
   "id": "3da7580a",
   "metadata": {},
   "outputs": [
    {
     "name": "stdout",
     "output_type": "stream",
     "text": [
      "Mean squared Error:  845.9815349629716\n",
      "Root Mean squared Error:  29.08576172224086\n",
      "Mean Absolute Error:  17.977130615041183\n",
      "r_squared_value for Training:  0.8392676703256453\n"
     ]
    }
   ],
   "source": [
    "def get_hyp_training_accuracy(best_params, x_train, y_train):\n",
    "    \n",
    "    # To get best model from hyperparameter tunning\n",
    "    Lasso_model = best_params\n",
    "    \n",
    "    y_pred_train = Lasso_model.predict(x_train)\n",
    "\n",
    "    mse = mean_squared_error(y_train,y_pred_train)\n",
    "    print(\"Mean squared Error: \",mse)\n",
    "\n",
    "    rmse = np.sqrt(mse)\n",
    "    print(\"Root Mean squared Error: \",rmse)\n",
    "\n",
    "    mae = mean_absolute_error(y_train,y_pred_train)\n",
    "    print(\"Mean Absolute Error: \",mae)\n",
    "\n",
    "    r_square = r2_score(y_train,y_pred_train)\n",
    "    print(\"r_squared_value for Training: \",r_square) \n",
    "\n",
    "    # We are appending testing accuracy in list\n",
    "    Training_accuracy.append(r_square)\n",
    "    \n",
    "get_hyp_training_accuracy(best_params, x_train, y_train)"
   ]
  },
  {
   "cell_type": "markdown",
   "id": "b77b485c",
   "metadata": {},
   "source": [
    "# KNN REgressor"
   ]
  },
  {
   "cell_type": "code",
   "execution_count": 159,
   "id": "ac95c227",
   "metadata": {},
   "outputs": [],
   "source": [
    "def train_test_split_fun(x,y,model_name):\n",
    "    \n",
    "    test_size = 0.2\n",
    "    random_state=101\n",
    "    \n",
    "    x_train,x_test,y_train,y_test = train_test_split(x,y,test_size=0.25,random_state=7)\n",
    "    \n",
    "    model_details.append(model_name)\n",
    "    \n",
    "    return x_train,x_test,y_train,y_test\n",
    "\n",
    "\n",
    "model_name = \"KNN Regressor Regular Model\"\n",
    "x_train, x_test, y_train, y_test = train_test_split_fun(x, y, model_name)"
   ]
  },
  {
   "cell_type": "code",
   "execution_count": 160,
   "id": "c68d77be",
   "metadata": {},
   "outputs": [],
   "source": [
    "def model_training(x_train, y_train):\n",
    "    knn_regg = KNeighborsRegressor()\n",
    "    knn_regg.fit(x_train, y_train)\n",
    "    return knn_regg\n",
    "\n",
    "knn_regg = model_training(x_train,y_train)"
   ]
  },
  {
   "cell_type": "code",
   "execution_count": 161,
   "id": "218dbd34",
   "metadata": {
    "scrolled": false
   },
   "outputs": [
    {
     "name": "stdout",
     "output_type": "stream",
     "text": [
      "Mean squared Error:  1567.2098649266904\n",
      "Root Mean squared Error:  39.588001527314944\n",
      "Mean Absolute Error:  16.463066903914594\n",
      "r_squared_value for Training:  0.7160922421252479\n"
     ]
    }
   ],
   "source": [
    "def model_evalution_training(knn_regg, x_train, y_train):\n",
    "    \n",
    "    y_pred_train = knn_regg.predict(x_train)\n",
    "\n",
    "    mse = mean_squared_error(y_train,y_pred_train)\n",
    "    print(\"Mean squared Error: \",mse)\n",
    "\n",
    "    rmse = np.sqrt(mse)\n",
    "    print(\"Root Mean squared Error: \",rmse)\n",
    "\n",
    "    mae = mean_absolute_error(y_train,y_pred_train)\n",
    "    print(\"Mean Absolute Error: \",mae)\n",
    "\n",
    "    r_square = r2_score(y_train,y_pred_train)\n",
    "    print(\"r_squared_value for Training: \",r_square)   \n",
    "    \n",
    "    # We are appending training accuracy in list\n",
    "    Training_accuracy.append(r_square)\n",
    "    \n",
    "    \n",
    "model_evalution_training(knn_regg, x_train, y_train)"
   ]
  },
  {
   "cell_type": "code",
   "execution_count": 162,
   "id": "a91f25a0",
   "metadata": {},
   "outputs": [
    {
     "name": "stdout",
     "output_type": "stream",
     "text": [
      "Mean squared Error:  1335.7371774279616\n",
      "Root Mean squared Error:  36.547738335332895\n",
      "Mean Absolute Error:  20.358861259338312\n",
      "r_squared_value for Testing:  0.6889043112784694\n"
     ]
    }
   ],
   "source": [
    "def model_evalution_testing(knn_regg, x_test, y_test):\n",
    "    \n",
    "    y_pred = knn_regg.predict(x_test)\n",
    "    \n",
    "    mse = mean_squared_error(y_test,y_pred)\n",
    "    print(\"Mean squared Error: \",mse)\n",
    "\n",
    "    rmse = np.sqrt(mse)\n",
    "    print(\"Root Mean squared Error: \",rmse)\n",
    "\n",
    "    mae = mean_absolute_error(y_test,y_pred)\n",
    "    print(\"Mean Absolute Error: \",mae)\n",
    "\n",
    "    r_square = r2_score(y_test,y_pred)\n",
    "    print(\"r_squared_value for Testing: \",r_square)\n",
    "    \n",
    "    # We are appending testing accuracy in list\n",
    "    Testing_accuracy.append(r_square)\n",
    "    \n",
    "    \n",
    "model_evalution_testing(knn_regg, x_test, y_test)"
   ]
  },
  {
   "cell_type": "code",
   "execution_count": 163,
   "id": "a71141e4",
   "metadata": {},
   "outputs": [
    {
     "name": "stdout",
     "output_type": "stream",
     "text": [
      "['Linear Regression Regular Model', 'Ridge Regression Hyperp Tunning GSCV', 'Ridge Regression Hyperp Tunning RSCV', 'Lasso Regression Hyperp Tunning GSCV', 'Lasso Regression Hyperp Tunning RSCV', 'KNN Regressor Regular Model']\n",
      "[0.8818560396143171, 0.8818716909307533, 0.8818668695407845, 0.8818727485788566, 0.881954063153022, 0.6889043112784694]\n",
      "[0.8402281702093863, 0.8402279599995583, 0.8402280684156619, 0.8402238919224287, 0.8392676703256453, 0.7160922421252479]\n",
      "[{'alpha': 2.91}, {'alpha': 2.01}, {'alpha': 0.01}, {'alpha': 0.31000000000000005}]\n"
     ]
    }
   ],
   "source": [
    "print(model_details) \n",
    "print(Testing_accuracy)\n",
    "print(Training_accuracy)\n",
    "print(best_params_list) "
   ]
  },
  {
   "cell_type": "markdown",
   "id": "c814e42b",
   "metadata": {},
   "source": [
    "# Scaling"
   ]
  },
  {
   "cell_type": "markdown",
   "id": "637185b5",
   "metadata": {},
   "source": [
    "### Standardization"
   ]
  },
  {
   "cell_type": "code",
   "execution_count": 164,
   "id": "95e8e40a",
   "metadata": {},
   "outputs": [],
   "source": [
    "std_scalar = StandardScaler()"
   ]
  },
  {
   "cell_type": "code",
   "execution_count": 165,
   "id": "91bde90d",
   "metadata": {},
   "outputs": [],
   "source": [
    "x_train_exctracted = x_train[[\"total_sqft\"]]\n",
    "\n",
    "std_scalar.fit(x_train_exctracted) \n",
    "\n",
    "array = std_scalar.transform(x_train_exctracted)\n",
    "\n",
    "scaled_df = pd.DataFrame(array, columns=x_train_exctracted.columns, index = x_train_exctracted.index)\n",
    "\n",
    "x_train_remaining = x_train.drop([\"total_sqft\"], axis= 1)\n",
    "\n",
    "a_df = scaled_df.join(x_train_remaining)\n",
    "\n",
    "x_train_scaled_df = a_df[x_train.columns]"
   ]
  },
  {
   "cell_type": "code",
   "execution_count": 166,
   "id": "9562e417",
   "metadata": {},
   "outputs": [],
   "source": [
    "def train_test_split_fun(x,y,model_name):\n",
    "    \n",
    "    test_size = 0.2\n",
    "    random_state=101\n",
    "    \n",
    "    x_train,x_test,y_train,y_test = train_test_split(x,y,test_size=0.25,random_state=7)\n",
    "    \n",
    "    model_details.append(model_name)\n",
    "    \n",
    "    return x_train,x_test,y_train,y_test\n",
    "\n",
    "\n",
    "model_name = \"KNN Regressor Using Standardization\"\n",
    "x_train, x_test, y_train, y_test = train_test_split_fun(x, y, model_name)"
   ]
  },
  {
   "cell_type": "code",
   "execution_count": 167,
   "id": "3ab8f20b",
   "metadata": {},
   "outputs": [],
   "source": [
    "def model_training(x_train_scaled_df, y_train):\n",
    "    knn_regg_scaled = KNeighborsRegressor()\n",
    "    knn_regg_scaled.fit(x_train_scaled_df, y_train)\n",
    "    return knn_regg_scaled\n",
    "\n",
    "knn_regg_scaled = model_training(x_train_scaled_df,y_train)"
   ]
  },
  {
   "cell_type": "code",
   "execution_count": 168,
   "id": "d6b5e7cf",
   "metadata": {
    "scrolled": false
   },
   "outputs": [
    {
     "name": "stdout",
     "output_type": "stream",
     "text": [
      "Mean squared Error:  1828.1139261622777\n",
      "Root Mean squared Error:  42.75644894237918\n",
      "Mean Absolute Error:  18.669730960854093\n",
      "r_squared_value for Training:  0.6688281910855504\n"
     ]
    }
   ],
   "source": [
    "def model_evalution_training(knn_regg_scaled, x_train_scaled_df, y_train):\n",
    "    \n",
    "    y_pred_train = knn_regg_scaled.predict(x_train_scaled_df)\n",
    "\n",
    "    mse = mean_squared_error(y_train,y_pred_train)\n",
    "    print(\"Mean squared Error: \",mse)\n",
    "\n",
    "    rmse = np.sqrt(mse)\n",
    "    print(\"Root Mean squared Error: \",rmse)\n",
    "\n",
    "    mae = mean_absolute_error(y_train,y_pred_train)\n",
    "    print(\"Mean Absolute Error: \",mae)\n",
    "\n",
    "    r_square = r2_score(y_train,y_pred_train)\n",
    "    print(\"r_squared_value for Training: \",r_square)   \n",
    "    \n",
    "    # We are appending training accuracy in list\n",
    "    Training_accuracy.append(r_square)\n",
    "    \n",
    "    \n",
    "model_evalution_training(knn_regg_scaled, x_train_scaled_df, y_train)"
   ]
  },
  {
   "cell_type": "code",
   "execution_count": 169,
   "id": "43c454d6",
   "metadata": {},
   "outputs": [],
   "source": [
    "x_test_exctracted = x_test[[\"total_sqft\"]]\n",
    "\n",
    "std_scalar.fit(x_test_exctracted) \n",
    "\n",
    "array = std_scalar.transform(x_test_exctracted)\n",
    "\n",
    "scaled_df = pd.DataFrame(array, columns=x_test_exctracted.columns, index = x_test_exctracted.index)\n",
    "\n",
    "x_test_remaining = x_test.drop([\"total_sqft\"], axis= 1)\n",
    "\n",
    "a_df = scaled_df.join(x_test_remaining)\n",
    "\n",
    "x_test_scaled_df = a_df[x_test.columns]\n"
   ]
  },
  {
   "cell_type": "code",
   "execution_count": 170,
   "id": "4f9d3d63",
   "metadata": {},
   "outputs": [
    {
     "name": "stdout",
     "output_type": "stream",
     "text": [
      "Mean squared Error:  1667.8651899807899\n",
      "Root Mean squared Error:  40.83950526121478\n",
      "Mean Absolute Error:  23.277506937033085\n",
      "r_squared_value for Testing:  0.6115510755110927\n"
     ]
    }
   ],
   "source": [
    "def model_evalution_testing(knn_regg_scaled, x_test_scaled_df, y_test):\n",
    "    \n",
    "    y_pred = knn_regg_scaled.predict(x_test_scaled_df)\n",
    "    \n",
    "    mse = mean_squared_error(y_test,y_pred)\n",
    "    print(\"Mean squared Error: \",mse)\n",
    "\n",
    "    rmse = np.sqrt(mse)\n",
    "    print(\"Root Mean squared Error: \",rmse)\n",
    "\n",
    "    mae = mean_absolute_error(y_test,y_pred)\n",
    "    print(\"Mean Absolute Error: \",mae)\n",
    "\n",
    "    r_square = r2_score(y_test,y_pred)\n",
    "    print(\"r_squared_value for Testing: \",r_square)\n",
    "    \n",
    "    # We are appending testing accuracy in list\n",
    "    Testing_accuracy.append(r_square)\n",
    "    \n",
    "    \n",
    "model_evalution_testing(knn_regg_scaled, x_test_scaled_df, y_test)"
   ]
  },
  {
   "cell_type": "markdown",
   "id": "43916123",
   "metadata": {},
   "source": [
    "### Normalization"
   ]
  },
  {
   "cell_type": "code",
   "execution_count": 171,
   "id": "00528374",
   "metadata": {},
   "outputs": [],
   "source": [
    "normal_scalar = MinMaxScaler()"
   ]
  },
  {
   "cell_type": "code",
   "execution_count": 172,
   "id": "612582a8",
   "metadata": {},
   "outputs": [],
   "source": [
    "x_train_exctracted = x_train[[\"total_sqft\"]]\n",
    "\n",
    "normal_scalar.fit(x_train_exctracted) \n",
    "\n",
    "array = normal_scalar.transform(x_train_exctracted)\n",
    "\n",
    "scaled_df = pd.DataFrame(array, columns=x_train_exctracted.columns, index = x_train_exctracted.index)\n",
    "\n",
    "x_train_remaining = x_train.drop([\"total_sqft\"], axis= 1)\n",
    "\n",
    "a_df = scaled_df.join(x_train_remaining)\n",
    "\n",
    "x_train_norm_scaled = a_df[x_train.columns]\n"
   ]
  },
  {
   "cell_type": "code",
   "execution_count": 173,
   "id": "d42940e0",
   "metadata": {},
   "outputs": [],
   "source": [
    "def train_test_split_fun(x,y,model_name):\n",
    "    \n",
    "    test_size = 0.2\n",
    "    random_state=101\n",
    "    \n",
    "    x_train,x_test,y_train,y_test = train_test_split(x,y,test_size=0.25,random_state=7)\n",
    "    \n",
    "    model_details.append(model_name)\n",
    "    \n",
    "    return x_train,x_test,y_train,y_test\n",
    "\n",
    "\n",
    "model_name = \"KNN Regressor Using Normalization\"\n",
    "x_train, x_test, y_train, y_test = train_test_split_fun(x, y, model_name)"
   ]
  },
  {
   "cell_type": "code",
   "execution_count": 174,
   "id": "452e4013",
   "metadata": {},
   "outputs": [],
   "source": [
    "def model_training(x_train_norm_scaled, y_train):\n",
    "    knn_regg_norm_scaled = KNeighborsRegressor()\n",
    "    knn_regg_norm_scaled.fit(x_train_norm_scaled, y_train)\n",
    "    return knn_regg_norm_scaled\n",
    "\n",
    "knn_regg_norm_scaled = model_training(x_train_norm_scaled,y_train)"
   ]
  },
  {
   "cell_type": "code",
   "execution_count": 175,
   "id": "16f66620",
   "metadata": {
    "scrolled": false
   },
   "outputs": [
    {
     "name": "stdout",
     "output_type": "stream",
     "text": [
      "Mean squared Error:  2088.6520369217083\n",
      "Root Mean squared Error:  45.70177279845617\n",
      "Mean Absolute Error:  21.016839501779362\n",
      "r_squared_value for Training:  0.6216304337704547\n"
     ]
    }
   ],
   "source": [
    "def model_evalution_training(knn_regg_norm_scaled, x_train_norm_scaled, y_train):\n",
    "    \n",
    "    y_pred_train = knn_regg_norm_scaled.predict(x_train_norm_scaled)\n",
    "\n",
    "    mse = mean_squared_error(y_train,y_pred_train)\n",
    "    print(\"Mean squared Error: \",mse)\n",
    "\n",
    "    rmse = np.sqrt(mse)\n",
    "    print(\"Root Mean squared Error: \",rmse)\n",
    "\n",
    "    mae = mean_absolute_error(y_train,y_pred_train)\n",
    "    print(\"Mean Absolute Error: \",mae)\n",
    "\n",
    "    r_square = r2_score(y_train,y_pred_train)\n",
    "    print(\"r_squared_value for Training: \",r_square)   \n",
    "    \n",
    "    # We are appending training accuracy in list\n",
    "    Training_accuracy.append(r_square)\n",
    "    \n",
    "    \n",
    "model_evalution_training(knn_regg_norm_scaled, x_train_norm_scaled, y_train)"
   ]
  },
  {
   "cell_type": "code",
   "execution_count": 176,
   "id": "68bda5b5",
   "metadata": {},
   "outputs": [],
   "source": [
    "x_test_exctracted = x_test[[\"total_sqft\"]]\n",
    "\n",
    "std_scalar.fit(x_test_exctracted) \n",
    "\n",
    "array = std_scalar.transform(x_test_exctracted)\n",
    "\n",
    "scaled_df = pd.DataFrame(array, columns=x_test_exctracted.columns, index = x_test_exctracted.index)\n",
    "\n",
    "x_test_remaining = x_test.drop([\"total_sqft\"], axis= 1)\n",
    "\n",
    "a_df = scaled_df.join(x_test_remaining)\n",
    "\n",
    "x_test_norm_scaled = a_df[x_test.columns]\n"
   ]
  },
  {
   "cell_type": "code",
   "execution_count": 177,
   "id": "ae8d924f",
   "metadata": {},
   "outputs": [
    {
     "name": "stdout",
     "output_type": "stream",
     "text": [
      "Mean squared Error:  2254.3068901131264\n",
      "Root Mean squared Error:  47.47954180605713\n",
      "Mean Absolute Error:  27.410266808964778\n",
      "r_squared_value for Testing:  0.4749677059076559\n"
     ]
    }
   ],
   "source": [
    "def model_evalution_testing(knn_regg_norm_scaled, x_test_norm_scaled, y_test):\n",
    "    \n",
    "    y_pred = knn_regg_norm_scaled.predict(x_test_norm_scaled)\n",
    "    \n",
    "    mse = mean_squared_error(y_test,y_pred)\n",
    "    print(\"Mean squared Error: \",mse)\n",
    "\n",
    "    rmse = np.sqrt(mse)\n",
    "    print(\"Root Mean squared Error: \",rmse)\n",
    "\n",
    "    mae = mean_absolute_error(y_test,y_pred)\n",
    "    print(\"Mean Absolute Error: \",mae)\n",
    "\n",
    "    r_square = r2_score(y_test,y_pred)\n",
    "    print(\"r_squared_value for Testing: \",r_square)\n",
    "    \n",
    "    # We are appending testing accuracy in list\n",
    "    Testing_accuracy.append(r_square)\n",
    "    \n",
    "    \n",
    "model_evalution_testing(knn_regg_norm_scaled, x_test_norm_scaled, y_test)"
   ]
  },
  {
   "cell_type": "markdown",
   "id": "33ed5e9e",
   "metadata": {},
   "source": [
    "# Hyperparameter Tunning for KNN regressor"
   ]
  },
  {
   "cell_type": "code",
   "execution_count": 178,
   "id": "fc447a2f",
   "metadata": {},
   "outputs": [],
   "source": [
    "def get_best_estimator(x_train_scaled_df, y_train):\n",
    "    \n",
    "    knn_regg_hyp = KNeighborsRegressor()\n",
    "    \n",
    "    # param_grid\n",
    "    param_grid = {\"n_neighbors\" : np.arange(3,30),\"p\": [1,2]} \n",
    "    \n",
    "    gscv_knn_regg = GridSearchCV(knn_regg_hyp, param_grid,cv=5)\n",
    "    gscv_knn_regg.fit(x_train_scaled_df, y_train) \n",
    "    gscv_knn_regg.best_estimator_\n",
    "\n",
    "    model_details.append(\"KNN Regressor Hyperp Tunning\")\n",
    "    \n",
    "    best_params = gscv_knn_regg.best_params_\n",
    "    best_params_list.append(best_params)\n",
    "    \n",
    "    return gscv_knn_regg.best_estimator_\n",
    "\n",
    "best_params = get_best_estimator(x_train_scaled_df, y_train)"
   ]
  },
  {
   "cell_type": "code",
   "execution_count": 179,
   "id": "bb536c3d",
   "metadata": {},
   "outputs": [
    {
     "name": "stdout",
     "output_type": "stream",
     "text": [
      "Mean squared Error:  1586.3442157322\n",
      "Root Mean squared Error:  39.82893691441186\n",
      "Mean Absolute Error:  22.781344336026834\n",
      "r_squared_value for Testing:  0.630537462996353\n"
     ]
    }
   ],
   "source": [
    "def get_hyp_testing_accuracy(best_params, x_test_scaled_df, y_test):\n",
    "    \n",
    "    # To get best model from hyperparameter tunning\n",
    "    knn_regg_hyp = best_params\n",
    "    \n",
    "    y_pred = knn_regg_hyp.predict(x_test_scaled_df)\n",
    "    \n",
    "    mse = mean_squared_error(y_test,y_pred)\n",
    "    print(\"Mean squared Error: \",mse)\n",
    "\n",
    "    rmse = np.sqrt(mse)\n",
    "    print(\"Root Mean squared Error: \",rmse)\n",
    "\n",
    "    mae = mean_absolute_error(y_test,y_pred)\n",
    "    print(\"Mean Absolute Error: \",mae)\n",
    "\n",
    "    r_square = r2_score(y_test,y_pred)\n",
    "    print(\"r_squared_value for Testing: \",r_square)\n",
    "    \n",
    "    # We are appending testing accuracy in list\n",
    "    Testing_accuracy.append(r_square)\n",
    "    \n",
    "get_hyp_testing_accuracy(best_params, x_test_scaled_df, y_test)"
   ]
  },
  {
   "cell_type": "code",
   "execution_count": 180,
   "id": "20056776",
   "metadata": {},
   "outputs": [
    {
     "name": "stdout",
     "output_type": "stream",
     "text": [
      "Mean squared Error:  2266.437992634814\n",
      "Root Mean squared Error:  47.60712123868459\n",
      "Mean Absolute Error:  20.98951614133198\n",
      "r_squared_value for Training:  0.5894236354355751\n"
     ]
    }
   ],
   "source": [
    "def get_hyp_training_accuracy(best_params, x_train_scaled_df, y_train):\n",
    "    \n",
    "    # To get best model from hyperparameter tunning\n",
    "    knn_regg_hyp = best_params\n",
    "    \n",
    "    y_pred_train = knn_regg_hyp.predict(x_train_scaled_df)\n",
    "\n",
    "    mse = mean_squared_error(y_train,y_pred_train)\n",
    "    print(\"Mean squared Error: \",mse)\n",
    "\n",
    "    rmse = np.sqrt(mse)\n",
    "    print(\"Root Mean squared Error: \",rmse)\n",
    "\n",
    "    mae = mean_absolute_error(y_train,y_pred_train)\n",
    "    print(\"Mean Absolute Error: \",mae)\n",
    "\n",
    "    r_square = r2_score(y_train,y_pred_train)\n",
    "    print(\"r_squared_value for Training: \",r_square) \n",
    "\n",
    "    # We are appending training accuracy in list\n",
    "    Training_accuracy.append(r_square)\n",
    "    \n",
    "get_hyp_training_accuracy(best_params, x_train_scaled_df, y_train)\n",
    "    "
   ]
  },
  {
   "cell_type": "markdown",
   "id": "ec5f36d3",
   "metadata": {},
   "source": [
    "# Decision Tree"
   ]
  },
  {
   "cell_type": "code",
   "execution_count": 181,
   "id": "1e48804f",
   "metadata": {},
   "outputs": [],
   "source": [
    "def train_test_split_fun(x,y,model_name):\n",
    "    \n",
    "    test_size = 0.2\n",
    "    random_state=101\n",
    "    \n",
    "    x_train,x_test,y_train,y_test = train_test_split(x,y,test_size=0.25,random_state=7)\n",
    "    \n",
    "    model_details.append(model_name)\n",
    "    \n",
    "    return x_train,x_test,y_train,y_test\n",
    "\n",
    "\n",
    "model_name = \"Decision Tree Regular Model\"\n",
    "x_train, x_test, y_train, y_test = train_test_split_fun(x, y, model_name)"
   ]
  },
  {
   "cell_type": "code",
   "execution_count": 182,
   "id": "8eef3177",
   "metadata": {},
   "outputs": [],
   "source": [
    "def model_training(x_train, y_train):\n",
    "    dt_regg = DecisionTreeRegressor()\n",
    "    dt_regg.fit(x_train, y_train)\n",
    "    return dt_regg\n",
    "\n",
    "dt_regg = model_training(x_train,y_train)"
   ]
  },
  {
   "cell_type": "code",
   "execution_count": 183,
   "id": "77e1cb90",
   "metadata": {
    "scrolled": false
   },
   "outputs": [
    {
     "name": "stdout",
     "output_type": "stream",
     "text": [
      "Mean squared Error:  11.643974881376037\n",
      "Root Mean squared Error:  3.4123269013059163\n",
      "Mean Absolute Error:  0.31098102016607354\n",
      "r_squared_value for Training:  0.9978906368092086\n"
     ]
    }
   ],
   "source": [
    "def model_evalution_training(dt_regg, x_train, y_train):\n",
    "    \n",
    "    y_pred_train = dt_regg.predict(x_train)\n",
    "\n",
    "    mse = mean_squared_error(y_train,y_pred_train)\n",
    "    print(\"Mean squared Error: \",mse)\n",
    "\n",
    "    rmse = np.sqrt(mse)\n",
    "    print(\"Root Mean squared Error: \",rmse)\n",
    "\n",
    "    mae = mean_absolute_error(y_train,y_pred_train)\n",
    "    print(\"Mean Absolute Error: \",mae)\n",
    "\n",
    "    r_square = r2_score(y_train,y_pred_train)\n",
    "    print(\"r_squared_value for Training: \",r_square)   \n",
    "    \n",
    "    # We are appending training accuracy in list\n",
    "    Training_accuracy.append(r_square)\n",
    "    \n",
    "    \n",
    "model_evalution_training(dt_regg, x_train, y_train)"
   ]
  },
  {
   "cell_type": "code",
   "execution_count": 184,
   "id": "8b93d555",
   "metadata": {},
   "outputs": [
    {
     "name": "stdout",
     "output_type": "stream",
     "text": [
      "Mean squared Error:  1543.3235749066168\n",
      "Root Mean squared Error:  39.2851571831731\n",
      "Mean Absolute Error:  23.152974919957312\n",
      "r_squared_value for Testing:  0.6405570507663417\n"
     ]
    }
   ],
   "source": [
    "def model_evalution_testing(dt_regg, x_test, y_test):\n",
    "    \n",
    "    y_pred = dt_regg.predict(x_test)\n",
    "    \n",
    "    mse = mean_squared_error(y_test,y_pred)\n",
    "    print(\"Mean squared Error: \",mse)\n",
    "\n",
    "    rmse = np.sqrt(mse)\n",
    "    print(\"Root Mean squared Error: \",rmse)\n",
    "\n",
    "    mae = mean_absolute_error(y_test,y_pred)\n",
    "    print(\"Mean Absolute Error: \",mae)\n",
    "\n",
    "    r_square = r2_score(y_test,y_pred)\n",
    "    print(\"r_squared_value for Testing: \",r_square)\n",
    "    \n",
    "    # We are appending testing accuracy in list\n",
    "    Testing_accuracy.append(r_square)\n",
    "    \n",
    "    \n",
    "model_evalution_testing(dt_regg, x_test, y_test)"
   ]
  },
  {
   "cell_type": "markdown",
   "id": "358e6575",
   "metadata": {},
   "source": [
    "# Hyperparameter Tunning (Pre-prunning)"
   ]
  },
  {
   "cell_type": "code",
   "execution_count": 185,
   "id": "0f947882",
   "metadata": {},
   "outputs": [],
   "source": [
    "def get_best_estimator(x_train, y_train):\n",
    "    \n",
    "    dt_model = DecisionTreeRegressor(random_state=10)\n",
    "    \n",
    "    hyperparameter = {\"criterion\":['squared_error', 'absolute_error'], \n",
    "                      \"max_depth\": np.arange(3,8),\n",
    "                      \"min_samples_split\": np.arange(2,20),\n",
    "                      \"min_samples_leaf\": np.arange(2,15)} \n",
    "    \n",
    "    rscv_dt_regg = RandomizedSearchCV(dt_model, hyperparameter, cv=5)\n",
    "    rscv_dt_regg.fit(x_train, y_train)\n",
    "    rscv_dt_regg.best_estimator_\n",
    "\n",
    "    model_details.append(\"Decision Tree Hyperp Tunning(pre-prunning)\")\n",
    "    \n",
    "    best_params = rscv_dt_regg.best_params_\n",
    "    best_params_list.append(best_params)\n",
    "    \n",
    "    return rscv_dt_regg.best_estimator_\n",
    "\n",
    "best_params = get_best_estimator(x_train, y_train)"
   ]
  },
  {
   "cell_type": "code",
   "execution_count": 186,
   "id": "71e26e93",
   "metadata": {},
   "outputs": [
    {
     "name": "stdout",
     "output_type": "stream",
     "text": [
      "Mean squared Error:  970.4491704375666\n",
      "Root Mean squared Error:  31.152033166995164\n",
      "Mean Absolute Error:  17.63026680896478\n",
      "r_squared_value for Testing:  0.773980571815899\n"
     ]
    }
   ],
   "source": [
    "def get_hyp_testing_accuracy(best_params, x_test, y_test):\n",
    "    \n",
    "    # To get best model from hyperparameter tunning\n",
    "    dt_model = best_params\n",
    "    \n",
    "    y_pred = dt_model.predict(x_test)\n",
    "    \n",
    "    mse = mean_squared_error(y_test,y_pred)\n",
    "    print(\"Mean squared Error: \",mse)\n",
    "\n",
    "    rmse = np.sqrt(mse)\n",
    "    print(\"Root Mean squared Error: \",rmse)\n",
    "\n",
    "    mae = mean_absolute_error(y_test,y_pred)\n",
    "    print(\"Mean Absolute Error: \",mae)\n",
    "\n",
    "    r_square = r2_score(y_test,y_pred)\n",
    "    print(\"r_squared_value for Testing: \",r_square)\n",
    "    \n",
    "    # We are appending testing accuracy in list\n",
    "    Testing_accuracy.append(r_square)\n",
    "    \n",
    "get_hyp_testing_accuracy(best_params, x_test, y_test)"
   ]
  },
  {
   "cell_type": "code",
   "execution_count": 187,
   "id": "68d47597",
   "metadata": {},
   "outputs": [],
   "source": [
    "dt_model = best_params"
   ]
  },
  {
   "cell_type": "code",
   "execution_count": 188,
   "id": "7909f2ca",
   "metadata": {},
   "outputs": [
    {
     "name": "stdout",
     "output_type": "stream",
     "text": [
      "Mean squared Error:  2011.4240332918148\n",
      "Root Mean squared Error:  44.84890225291824\n",
      "Mean Absolute Error:  17.327613879003557\n",
      "r_squared_value for Training:  0.635620665612654\n"
     ]
    }
   ],
   "source": [
    "def get_hyp_training_accuracy(x_train, y_train):\n",
    "   \n",
    "    y_pred_train = dt_model.predict(x_train)\n",
    "\n",
    "    mse = mean_squared_error(y_train,y_pred_train)\n",
    "    print(\"Mean squared Error: \",mse)\n",
    "\n",
    "    rmse = np.sqrt(mse)\n",
    "    print(\"Root Mean squared Error: \",rmse)\n",
    "\n",
    "    mae = mean_absolute_error(y_train,y_pred_train)\n",
    "    print(\"Mean Absolute Error: \",mae)\n",
    "\n",
    "    r_square = r2_score(y_train,y_pred_train)\n",
    "    print(\"r_squared_value for Training: \",r_square) \n",
    "\n",
    "    # We are appending training accuracy in list\n",
    "    Training_accuracy.append(r_square)\n",
    "    \n",
    "get_hyp_training_accuracy(x_train, y_train)\n",
    "    "
   ]
  },
  {
   "cell_type": "markdown",
   "id": "15b3cade",
   "metadata": {},
   "source": [
    "# Post Prunning"
   ]
  },
  {
   "cell_type": "code",
   "execution_count": 189,
   "id": "08834a71",
   "metadata": {},
   "outputs": [],
   "source": [
    "result = dt_model.cost_complexity_pruning_path(x_train, y_train)\n",
    "ccp_alpha_list = result['ccp_alphas']\n",
    "# ccp_alpha_list"
   ]
  },
  {
   "cell_type": "code",
   "execution_count": 190,
   "id": "7d95fbb8",
   "metadata": {},
   "outputs": [],
   "source": [
    "train_accuracy_list = []\n",
    "test_accuracy_list = []\n",
    "\n",
    "for i in ccp_alpha_list:\n",
    "    decision_tree_model = DecisionTreeRegressor(ccp_alpha=i, random_state=11)\n",
    "    decision_tree_model.fit(x_train, y_train)\n",
    "    \n",
    "    training_accuracy = decision_tree_model.score(x_train, y_train)\n",
    "    train_accuracy_list.append(training_accuracy)\n",
    "    \n",
    "    testing_accuracy = decision_tree_model.score(x_test, y_test)\n",
    "    test_accuracy_list.append(testing_accuracy)"
   ]
  },
  {
   "cell_type": "code",
   "execution_count": 191,
   "id": "a799cbed",
   "metadata": {},
   "outputs": [
    {
     "data": {
      "text/plain": [
       "<matplotlib.legend.Legend at 0x265e4ccf7f0>"
      ]
     },
     "execution_count": 191,
     "metadata": {},
     "output_type": "execute_result"
    },
    {
     "data": {
      "image/png": "[encoded data removed]",
      "text/plain": [
       "<Figure size 640x480 with 1 Axes>"
      ]
     },
     "metadata": {},
     "output_type": "display_data"
    }
   ],
   "source": [
    "fig, ax = plt.subplots()\n",
    "ax.plot(ccp_alpha_list, train_accuracy_list, label = \"Training Data Accuracy\")\n",
    "ax.plot(ccp_alpha_list, test_accuracy_list, label = \"Testing Data Accuracy\")\n",
    "ax.legend()"
   ]
  },
  {
   "cell_type": "code",
   "execution_count": 192,
   "id": "c2940f29",
   "metadata": {},
   "outputs": [
    {
     "data": {
      "text/plain": [
       "27"
      ]
     },
     "execution_count": 192,
     "metadata": {},
     "output_type": "execute_result"
    }
   ],
   "source": [
    "max_test = test_accuracy_list.index(max(test_accuracy_list))\n",
    "max_test"
   ]
  },
  {
   "cell_type": "code",
   "execution_count": 193,
   "id": "6c1df4dd",
   "metadata": {},
   "outputs": [
    {
     "data": {
      "text/plain": [
       "3.0210498220640662"
      ]
     },
     "execution_count": 193,
     "metadata": {},
     "output_type": "execute_result"
    }
   ],
   "source": [
    "best_ccp = ccp_alpha_list[max_test]\n",
    "best_ccp"
   ]
  },
  {
   "cell_type": "code",
   "execution_count": 194,
   "id": "7d327764",
   "metadata": {},
   "outputs": [
    {
     "data": {
      "text/plain": [
       "DecisionTreeRegressor(ccp_alpha=3.0210498220640662, random_state=11)"
      ]
     },
     "execution_count": 194,
     "metadata": {},
     "output_type": "execute_result"
    }
   ],
   "source": [
    "decision_tree_model = DecisionTreeRegressor(ccp_alpha= best_ccp,random_state=11)\n",
    "\n",
    "decision_tree_model.fit(x_train, y_train)"
   ]
  },
  {
   "cell_type": "code",
   "execution_count": 195,
   "id": "58ef40a1",
   "metadata": {},
   "outputs": [
    {
     "name": "stdout",
     "output_type": "stream",
     "text": [
      "Mean squared Error:  1000.7115662878895\n",
      "Root Mean squared Error:  31.634025451843613\n",
      "Mean Absolute Error:  18.573191086441053\n",
      "r_squared_value for Testing:  0.7669324031802487\n"
     ]
    }
   ],
   "source": [
    "def get_hyp_testing_accuracy(x_test, y_test):\n",
    "    \n",
    "    model_details.append(\"Decision Tree Hyperp Tunning(post-prunning)\")\n",
    "    \n",
    "    y_pred = decision_tree_model.predict(x_test)\n",
    "    \n",
    "    mse = mean_squared_error(y_test,y_pred)\n",
    "    print(\"Mean squared Error: \",mse)\n",
    "\n",
    "    rmse = np.sqrt(mse)\n",
    "    print(\"Root Mean squared Error: \",rmse)\n",
    "\n",
    "    mae = mean_absolute_error(y_test,y_pred)\n",
    "    print(\"Mean Absolute Error: \",mae)\n",
    "\n",
    "    r_square = r2_score(y_test,y_pred)\n",
    "    print(\"r_squared_value for Testing: \",r_square)\n",
    "    \n",
    "    # We are appending testing accuracy in list\n",
    "    Testing_accuracy.append(r_square)\n",
    "    \n",
    "get_hyp_testing_accuracy(x_test, y_test)"
   ]
  },
  {
   "cell_type": "code",
   "execution_count": 196,
   "id": "385091d9",
   "metadata": {},
   "outputs": [
    {
     "name": "stdout",
     "output_type": "stream",
     "text": [
      "Mean squared Error:  532.9221751261961\n",
      "Root Mean squared Error:  23.08510721495995\n",
      "Mean Absolute Error:  15.670522636829114\n",
      "r_squared_value for Training:  0.9034585327416301\n"
     ]
    }
   ],
   "source": [
    "def get_hyp_training_accuracy(x_train, y_train):\n",
    "   \n",
    "    y_pred_train = decision_tree_model.predict(x_train)\n",
    "\n",
    "    mse = mean_squared_error(y_train,y_pred_train)\n",
    "    print(\"Mean squared Error: \",mse)\n",
    "\n",
    "    rmse = np.sqrt(mse)\n",
    "    print(\"Root Mean squared Error: \",rmse)\n",
    "\n",
    "    mae = mean_absolute_error(y_train,y_pred_train)\n",
    "    print(\"Mean Absolute Error: \",mae)\n",
    "\n",
    "    r_square = r2_score(y_train,y_pred_train)\n",
    "    print(\"r_squared_value for Training: \",r_square) \n",
    "\n",
    "    # We are appending training accuracy in list\n",
    "    Training_accuracy.append(r_square)\n",
    "    \n",
    "get_hyp_training_accuracy(x_train, y_train)\n",
    "    "
   ]
  },
  {
   "cell_type": "markdown",
   "id": "bedcb63a",
   "metadata": {},
   "source": [
    "# Random Forest"
   ]
  },
  {
   "cell_type": "code",
   "execution_count": 197,
   "id": "3ec45982",
   "metadata": {},
   "outputs": [],
   "source": [
    "def train_test_split_fun(x,y,model_name):\n",
    "    \n",
    "    test_size = 0.2\n",
    "    random_state=101\n",
    "    \n",
    "    x_train,x_test,y_train,y_test = train_test_split(x,y,test_size=0.25,random_state=7)\n",
    "    \n",
    "    model_details.append(model_name)\n",
    "    \n",
    "    return x_train,x_test,y_train,y_test\n",
    "\n",
    "\n",
    "model_name = \"Random Forest Tree Regular Model\"\n",
    "x_train, x_test, y_train, y_test = train_test_split_fun(x, y, model_name)"
   ]
  },
  {
   "cell_type": "code",
   "execution_count": 198,
   "id": "de554f7b",
   "metadata": {},
   "outputs": [],
   "source": [
    "def model_training(x_train, y_train):\n",
    "    rf_regg = RandomForestRegressor()\n",
    "    rf_regg.fit(x_train, y_train)\n",
    "    return rf_regg\n",
    "\n",
    "rf_regg = model_training(x_train,y_train)"
   ]
  },
  {
   "cell_type": "code",
   "execution_count": 199,
   "id": "c5240ad4",
   "metadata": {
    "scrolled": false
   },
   "outputs": [
    {
     "name": "stdout",
     "output_type": "stream",
     "text": [
      "Mean squared Error:  418.93014278841576\n",
      "Root Mean squared Error:  20.467783045274242\n",
      "Mean Absolute Error:  7.453068239832232\n",
      "r_squared_value for Training:  0.9241087487981245\n"
     ]
    }
   ],
   "source": [
    "def model_evalution_training(rf_regg, x_train, y_train):\n",
    "    \n",
    "    y_pred_train = rf_regg.predict(x_train)\n",
    "\n",
    "    mse = mean_squared_error(y_train,y_pred_train)\n",
    "    print(\"Mean squared Error: \",mse)\n",
    "\n",
    "    rmse = np.sqrt(mse)\n",
    "    print(\"Root Mean squared Error: \",rmse)\n",
    "\n",
    "    mae = mean_absolute_error(y_train,y_pred_train)\n",
    "    print(\"Mean Absolute Error: \",mae)\n",
    "\n",
    "    r_square = r2_score(y_train,y_pred_train)\n",
    "    print(\"r_squared_value for Training: \",r_square)   \n",
    "    \n",
    "    # We are appending training accuracy in list\n",
    "    Training_accuracy.append(r_square)\n",
    "    \n",
    "    \n",
    "model_evalution_training(rf_regg, x_train, y_train)"
   ]
  },
  {
   "cell_type": "code",
   "execution_count": 200,
   "id": "fc646a54",
   "metadata": {},
   "outputs": [
    {
     "name": "stdout",
     "output_type": "stream",
     "text": [
      "Mean squared Error:  950.572781313656\n",
      "Root Mean squared Error:  30.83136035457495\n",
      "Mean Absolute Error:  18.18171880228185\n",
      "r_squared_value for Testing:  0.7786098200454847\n"
     ]
    }
   ],
   "source": [
    "def model_evalution_testing(rf_regg, x_test, y_test):\n",
    "    \n",
    "    y_pred = rf_regg.predict(x_test)\n",
    "    \n",
    "    mse = mean_squared_error(y_test,y_pred)\n",
    "    print(\"Mean squared Error: \",mse)\n",
    "\n",
    "    rmse = np.sqrt(mse)\n",
    "    print(\"Root Mean squared Error: \",rmse)\n",
    "\n",
    "    mae = mean_absolute_error(y_test,y_pred)\n",
    "    print(\"Mean Absolute Error: \",mae)\n",
    "\n",
    "    r_square = r2_score(y_test,y_pred)\n",
    "    print(\"r_squared_value for Testing: \",r_square)\n",
    "    \n",
    "    # We are appending testing accuracy in list\n",
    "    Testing_accuracy.append(r_square)\n",
    "    \n",
    "    \n",
    "model_evalution_testing(rf_regg, x_test, y_test)"
   ]
  },
  {
   "cell_type": "markdown",
   "id": "b853aec2",
   "metadata": {},
   "source": [
    "# Hyperparameter Tunning (Pre-prunning)"
   ]
  },
  {
   "cell_type": "code",
   "execution_count": 201,
   "id": "1b86225b",
   "metadata": {},
   "outputs": [],
   "source": [
    "def get_best_estimator(x_train, y_train):\n",
    "    \n",
    "    rf_model = RandomForestRegressor(random_state=10, n_jobs=-1)\n",
    "    \n",
    "    hyperparameter = {\"n_estimators\" : np.arange(10,200),\n",
    "                      \"criterion\":['squared_error', 'absolute_error'], \n",
    "                     \"max_depth\": np.arange(3,8),\n",
    "                     \"min_samples_split\": np.arange(2,20),\n",
    "                     \"min_samples_leaf\": np.arange(2,15), \n",
    "                     \"max_features\": ['sqrt', 'log2']\n",
    "                     } \n",
    "    \n",
    "    rscv_rf_reg = RandomizedSearchCV(rf_model, hyperparameter, cv=5)\n",
    "    rscv_rf_reg.fit(x_train, y_train)\n",
    "    rscv_rf_reg.best_estimator_\n",
    "\n",
    "    model_details.append(\"Decision Tree Hyperp Tunning\")\n",
    "    \n",
    "    best_params = rscv_rf_reg.best_params_\n",
    "    best_params_list.append(best_params)\n",
    "    \n",
    "    return rscv_rf_reg.best_estimator_\n",
    "\n",
    "best_params = get_best_estimator(x_train, y_train)"
   ]
  },
  {
   "cell_type": "code",
   "execution_count": 202,
   "id": "61ad5d1f",
   "metadata": {},
   "outputs": [
    {
     "name": "stdout",
     "output_type": "stream",
     "text": [
      "Mean squared Error:  940.8393124615177\n",
      "Root Mean squared Error:  30.673104056510446\n",
      "Mean Absolute Error:  18.675735853935084\n",
      "r_squared_value for Testing:  0.7808767631592761\n"
     ]
    }
   ],
   "source": [
    "def get_hyp_testing_accuracy(best_params, x_test, y_test):\n",
    "    \n",
    "    # To get best model from hyperparameter tunning\n",
    "    rf_model = best_params\n",
    "    \n",
    "    y_pred = rf_model.predict(x_test)\n",
    "    \n",
    "    mse = mean_squared_error(y_test,y_pred)\n",
    "    print(\"Mean squared Error: \",mse)\n",
    "\n",
    "    rmse = np.sqrt(mse)\n",
    "    print(\"Root Mean squared Error: \",rmse)\n",
    "\n",
    "    mae = mean_absolute_error(y_test,y_pred)\n",
    "    print(\"Mean Absolute Error: \",mae)\n",
    "\n",
    "    r_square = r2_score(y_test,y_pred)\n",
    "    print(\"r_squared_value for Testing: \",r_square)\n",
    "    \n",
    "    # We are appending testing accuracy in list\n",
    "    Testing_accuracy.append(r_square)\n",
    "    \n",
    "get_hyp_testing_accuracy(best_params, x_test, y_test)"
   ]
  },
  {
   "cell_type": "code",
   "execution_count": 203,
   "id": "61fe45f7",
   "metadata": {},
   "outputs": [],
   "source": [
    "rf_model = best_params"
   ]
  },
  {
   "cell_type": "code",
   "execution_count": 204,
   "id": "21a9b431",
   "metadata": {},
   "outputs": [
    {
     "name": "stdout",
     "output_type": "stream",
     "text": [
      "Mean squared Error:  1904.1497510689053\n",
      "Root Mean squared Error:  43.63656438205127\n",
      "Mean Absolute Error:  18.64967271996071\n",
      "r_squared_value for Training:  0.6550539282695058\n"
     ]
    }
   ],
   "source": [
    "def get_hyp_training_accuracy(x_train, y_train):\n",
    "   \n",
    "    y_pred_train = rf_model.predict(x_train)\n",
    "\n",
    "    mse = mean_squared_error(y_train,y_pred_train)\n",
    "    print(\"Mean squared Error: \",mse)\n",
    "\n",
    "    rmse = np.sqrt(mse)\n",
    "    print(\"Root Mean squared Error: \",rmse)\n",
    "\n",
    "    mae = mean_absolute_error(y_train,y_pred_train)\n",
    "    print(\"Mean Absolute Error: \",mae)\n",
    "\n",
    "    r_square = r2_score(y_train,y_pred_train)\n",
    "    print(\"r_squared_value for Training: \",r_square) \n",
    "\n",
    "    # We are appending training accuracy in list\n",
    "    Training_accuracy.append(r_square)\n",
    "    \n",
    "get_hyp_training_accuracy(x_train, y_train)\n",
    "    "
   ]
  },
  {
   "cell_type": "markdown",
   "id": "3a22ce34",
   "metadata": {},
   "source": [
    "# AdaBoost"
   ]
  },
  {
   "cell_type": "code",
   "execution_count": 205,
   "id": "c6de9175",
   "metadata": {},
   "outputs": [],
   "source": [
    "def train_test_split_fun(x,y,model_name):\n",
    "    \n",
    "    test_size = 0.2\n",
    "    random_state=101\n",
    "    \n",
    "    x_train,x_test,y_train,y_test = train_test_split(x,y,test_size=0.25,random_state=7)\n",
    "    \n",
    "    model_details.append(model_name)\n",
    "    \n",
    "    return x_train,x_test,y_train,y_test\n",
    "\n",
    "\n",
    "model_name = \"AdaBoost Regular Model\"\n",
    "x_train, x_test, y_train, y_test = train_test_split_fun(x, y, model_name)"
   ]
  },
  {
   "cell_type": "code",
   "execution_count": 206,
   "id": "323c1b52",
   "metadata": {},
   "outputs": [],
   "source": [
    "def model_training(x_train, y_train):\n",
    "    adb_regg = AdaBoostRegressor()\n",
    "    adb_regg.fit(x_train, y_train)\n",
    "    return adb_regg\n",
    "\n",
    "adb_regg = model_training(x_train,y_train)"
   ]
  },
  {
   "cell_type": "code",
   "execution_count": 207,
   "id": "64cbdcfd",
   "metadata": {
    "scrolled": false
   },
   "outputs": [
    {
     "name": "stdout",
     "output_type": "stream",
     "text": [
      "Mean squared Error:  1602.899468993301\n",
      "Root Mean squared Error:  40.036226957510635\n",
      "Mean Absolute Error:  28.74071929019579\n",
      "r_squared_value for Training:  0.709626895207295\n"
     ]
    }
   ],
   "source": [
    "def model_evalution_training(adb_regg, x_train, y_train):\n",
    "    \n",
    "    y_pred_train = adb_regg.predict(x_train)\n",
    "\n",
    "    mse = mean_squared_error(y_train,y_pred_train)\n",
    "    print(\"Mean squared Error: \",mse)\n",
    "\n",
    "    rmse = np.sqrt(mse)\n",
    "    print(\"Root Mean squared Error: \",rmse)\n",
    "\n",
    "    mae = mean_absolute_error(y_train,y_pred_train)\n",
    "    print(\"Mean Absolute Error: \",mae)\n",
    "\n",
    "    r_square = r2_score(y_train,y_pred_train)\n",
    "    print(\"r_squared_value for Training: \",r_square)   \n",
    "    \n",
    "    # We are appending training accuracy in list\n",
    "    Training_accuracy.append(r_square)\n",
    "    \n",
    "    \n",
    "model_evalution_training(adb_regg, x_train, y_train)"
   ]
  },
  {
   "cell_type": "code",
   "execution_count": 208,
   "id": "e40f7024",
   "metadata": {},
   "outputs": [
    {
     "name": "stdout",
     "output_type": "stream",
     "text": [
      "Mean squared Error:  1537.0701445488978\n",
      "Root Mean squared Error:  39.20548615371193\n",
      "Mean Absolute Error:  28.696243973087356\n",
      "r_squared_value for Testing:  0.6420134864011967\n"
     ]
    }
   ],
   "source": [
    "def model_evalution_testing(adb_regg, x_test, y_test):\n",
    "    \n",
    "    y_pred = adb_regg.predict(x_test)\n",
    "    \n",
    "    mse = mean_squared_error(y_test,y_pred)\n",
    "    print(\"Mean squared Error: \",mse)\n",
    "\n",
    "    rmse = np.sqrt(mse)\n",
    "    print(\"Root Mean squared Error: \",rmse)\n",
    "\n",
    "    mae = mean_absolute_error(y_test,y_pred)\n",
    "    print(\"Mean Absolute Error: \",mae)\n",
    "\n",
    "    r_square = r2_score(y_test,y_pred)\n",
    "    print(\"r_squared_value for Testing: \",r_square)\n",
    "    \n",
    "    # We are appending testing accuracy in list\n",
    "    Testing_accuracy.append(r_square)\n",
    "    \n",
    "    \n",
    "model_evalution_testing(adb_regg, x_test, y_test)"
   ]
  },
  {
   "cell_type": "markdown",
   "id": "f771312d",
   "metadata": {},
   "source": [
    "# Hyper parameter for adaboost"
   ]
  },
  {
   "cell_type": "code",
   "execution_count": 209,
   "id": "064220f3",
   "metadata": {},
   "outputs": [],
   "source": [
    "def get_best_estimator(x_train, y_train):\n",
    "    \n",
    "    adb_reg = AdaBoostRegressor(random_state=30)\n",
    "    \n",
    "    param_grid = {\"n_estimators\" : np.arange(10,200,2),\n",
    "                \"learning_rate\" : np.arange(0,2,0.001)\n",
    "                }\n",
    "    \n",
    "    rscv_adb_reg = RandomizedSearchCV(adb_reg, param_grid, cv=7)\n",
    "    rscv_adb_reg.fit(x_train, y_train)\n",
    "    rscv_adb_reg.best_estimator_\n",
    "\n",
    "    model_details.append(\"AdaBoost Hyperp Tunning\")\n",
    "    \n",
    "    best_params = rscv_adb_reg.best_params_\n",
    "    best_params_list.append(best_params)\n",
    "    \n",
    "    return rscv_adb_reg.best_estimator_\n",
    "\n",
    "best_params = get_best_estimator(x_train, y_train)"
   ]
  },
  {
   "cell_type": "code",
   "execution_count": 210,
   "id": "7bd59560",
   "metadata": {},
   "outputs": [
    {
     "name": "stdout",
     "output_type": "stream",
     "text": [
      "Mean squared Error:  1063.6188393186558\n",
      "Root Mean squared Error:  32.61316972204106\n",
      "Mean Absolute Error:  20.900312826361883\n",
      "r_squared_value for Testing:  0.752281181547874\n"
     ]
    }
   ],
   "source": [
    "def get_hyp_testing_accuracy(best_params, x_test, y_test):\n",
    "    \n",
    "    # To get best model from hyperparameter tunning\n",
    "    rf_model = best_params\n",
    "    \n",
    "    y_pred = rf_model.predict(x_test)\n",
    "    \n",
    "    mse = mean_squared_error(y_test,y_pred)\n",
    "    print(\"Mean squared Error: \",mse)\n",
    "\n",
    "    rmse = np.sqrt(mse)\n",
    "    print(\"Root Mean squared Error: \",rmse)\n",
    "\n",
    "    mae = mean_absolute_error(y_test,y_pred)\n",
    "    print(\"Mean Absolute Error: \",mae)\n",
    "\n",
    "    r_square = r2_score(y_test,y_pred)\n",
    "    print(\"r_squared_value for Testing: \",r_square)\n",
    "    \n",
    "    # We are appending testing accuracy in list\n",
    "    Testing_accuracy.append(r_square)\n",
    "    \n",
    "get_hyp_testing_accuracy(best_params, x_test, y_test)"
   ]
  },
  {
   "cell_type": "code",
   "execution_count": 211,
   "id": "66c80b54",
   "metadata": {},
   "outputs": [],
   "source": [
    "rf_model = best_params"
   ]
  },
  {
   "cell_type": "code",
   "execution_count": 212,
   "id": "d3a5070b",
   "metadata": {},
   "outputs": [
    {
     "name": "stdout",
     "output_type": "stream",
     "text": [
      "Mean squared Error:  1105.6924359480633\n",
      "Root Mean squared Error:  33.25195386662359\n",
      "Mean Absolute Error:  20.53130786882461\n",
      "r_squared_value for Training:  0.799698389211089\n"
     ]
    }
   ],
   "source": [
    "def get_hyp_training_accuracy(x_train, y_train):\n",
    "   \n",
    "    y_pred_train = rf_model.predict(x_train)\n",
    "\n",
    "    mse = mean_squared_error(y_train,y_pred_train)\n",
    "    print(\"Mean squared Error: \",mse)\n",
    "\n",
    "    rmse = np.sqrt(mse)\n",
    "    print(\"Root Mean squared Error: \",rmse)\n",
    "\n",
    "    mae = mean_absolute_error(y_train,y_pred_train)\n",
    "    print(\"Mean Absolute Error: \",mae)\n",
    "\n",
    "    r_square = r2_score(y_train,y_pred_train)\n",
    "    print(\"r_squared_value for Training: \",r_square) \n",
    "\n",
    "    # We are appending training accuracy in list\n",
    "    Training_accuracy.append(r_square)\n",
    "    \n",
    "get_hyp_training_accuracy(x_train, y_train)\n",
    "    "
   ]
  },
  {
   "cell_type": "markdown",
   "id": "607cef32",
   "metadata": {},
   "source": [
    "# Making Pickle File "
   ]
  },
  {
   "cell_type": "code",
   "execution_count": 213,
   "id": "fd76b706",
   "metadata": {},
   "outputs": [],
   "source": [
    "with open(\"Pune_linear_model.pkl\",\"wb\") as f:\n",
    "    pickle.dump(model,f)"
   ]
  },
  {
   "cell_type": "markdown",
   "id": "2e921eab",
   "metadata": {},
   "source": [
    "# Taking inputs from user"
   ]
  },
  {
   "cell_type": "code",
   "execution_count": 214,
   "id": "60f5cbe2",
   "metadata": {},
   "outputs": [
    {
     "data": {
      "text/plain": [
       "Index(['total_sqft', 'bath', 'balcony', 'price', 'site_location',\n",
       "       'area_type_Built-up  Area', 'area_type_Carpet  Area',\n",
       "       'area_type_Plot  Area', 'area_type_Super built-up  Area',\n",
       "       'Availability_Ready_To_Move', 'Availability_Immediate_Possession',\n",
       "       'Availability_Month', 'BHK'],\n",
       "      dtype='object')"
      ]
     },
     "execution_count": 214,
     "metadata": {},
     "output_type": "execute_result"
    }
   ],
   "source": [
    "df.columns"
   ]
  },
  {
   "cell_type": "code",
   "execution_count": 215,
   "id": "fe035dff",
   "metadata": {},
   "outputs": [
    {
     "data": {
      "text/plain": [
       "(7494, 13)"
      ]
     },
     "execution_count": 215,
     "metadata": {},
     "output_type": "execute_result"
    }
   ],
   "source": [
    "df.shape"
   ]
  },
  {
   "cell_type": "code",
   "execution_count": 216,
   "id": "43971d67",
   "metadata": {},
   "outputs": [
    {
     "data": {
      "text/html": [
       "<div>\n",
       "<style scoped>\n",
       "    .dataframe tbody tr th:only-of-type {\n",
       "        vertical-align: middle;\n",
       "    }\n",
       "\n",
       "    .dataframe tbody tr th {\n",
       "        vertical-align: top;\n",
       "    }\n",
       "\n",
       "    .dataframe thead th {\n",
       "        text-align: right;\n",
       "    }\n",
       "</style>\n",
       "<table border=\"1\" class=\"dataframe\">\n",
       "  <thead>\n",
       "    <tr style=\"text-align: right;\">\n",
       "      <th></th>\n",
       "      <th>total_sqft</th>\n",
       "      <th>bath</th>\n",
       "      <th>balcony</th>\n",
       "      <th>price</th>\n",
       "      <th>site_location</th>\n",
       "      <th>area_type_Built-up  Area</th>\n",
       "      <th>area_type_Carpet  Area</th>\n",
       "      <th>area_type_Plot  Area</th>\n",
       "      <th>area_type_Super built-up  Area</th>\n",
       "      <th>Availability_Ready_To_Move</th>\n",
       "      <th>Availability_Immediate_Possession</th>\n",
       "      <th>Availability_Month</th>\n",
       "      <th>BHK</th>\n",
       "    </tr>\n",
       "  </thead>\n",
       "  <tbody>\n",
       "    <tr>\n",
       "      <th>0</th>\n",
       "      <td>1056.0</td>\n",
       "      <td>2</td>\n",
       "      <td>1</td>\n",
       "      <td>39.07</td>\n",
       "      <td>0</td>\n",
       "      <td>0</td>\n",
       "      <td>0</td>\n",
       "      <td>0</td>\n",
       "      <td>1</td>\n",
       "      <td>0</td>\n",
       "      <td>0</td>\n",
       "      <td>12</td>\n",
       "      <td>2</td>\n",
       "    </tr>\n",
       "  </tbody>\n",
       "</table>\n",
       "</div>"
      ],
      "text/plain": [
       "   total_sqft  bath  balcony  price  site_location  area_type_Built-up  Area  \\\n",
       "0      1056.0     2        1  39.07              0                         0   \n",
       "\n",
       "   area_type_Carpet  Area  area_type_Plot  Area  \\\n",
       "0                       0                     0   \n",
       "\n",
       "   area_type_Super built-up  Area  Availability_Ready_To_Move  \\\n",
       "0                               1                           0   \n",
       "\n",
       "   Availability_Immediate_Possession  Availability_Month  BHK  \n",
       "0                                  0                  12    2  "
      ]
     },
     "execution_count": 216,
     "metadata": {},
     "output_type": "execute_result"
    }
   ],
   "source": [
    "df.head(1)"
   ]
  },
  {
   "cell_type": "code",
   "execution_count": 217,
   "id": "1174a14b",
   "metadata": {},
   "outputs": [
    {
     "data": {
      "text/plain": [
       "{'site_location': {'Alandi Road': 0,\n",
       "  'Ambegaon Budruk': 1,\n",
       "  'Anandnagar': 2,\n",
       "  'Aundh': 3,\n",
       "  'Aundh Road': 4,\n",
       "  'Balaji Nagar': 5,\n",
       "  'Baner': 6,\n",
       "  'Baner road': 7,\n",
       "  'Bhandarkar Road': 8,\n",
       "  'Bhavani Peth': 9,\n",
       "  'Bibvewadi': 10,\n",
       "  'Bopodi': 11,\n",
       "  'Budhwar Peth': 12,\n",
       "  'Bund Garden Road': 13,\n",
       "  'Camp': 14,\n",
       "  'Chandan Nagar': 15,\n",
       "  'Dapodi': 16,\n",
       "  'Deccan Gymkhana': 17,\n",
       "  'Dehu Road': 18,\n",
       "  'Dhankawadi': 19,\n",
       "  'Dhayari Phata': 20,\n",
       "  'Dhole Patil Road': 21,\n",
       "  'Erandwane': 22,\n",
       "  'Fatima Nagar': 23,\n",
       "  'Fergusson College Road': 24,\n",
       "  'Ganesh Peth': 25,\n",
       "  'Ganeshkhind': 26,\n",
       "  'Ghorpade Peth': 27,\n",
       "  'Ghorpadi': 28,\n",
       "  'Gokhale Nagar': 29,\n",
       "  'Gultekdi': 30,\n",
       "  'Guruwar peth': 31,\n",
       "  'Hadapsar': 32,\n",
       "  'Hadapsar Industrial Estate': 33,\n",
       "  'Hingne Khurd': 34,\n",
       "  'Jangali Maharaj Road': 35,\n",
       "  'Kalyani Nagar': 36,\n",
       "  'Karve Nagar': 37,\n",
       "  'Karve Road': 38,\n",
       "  'Kasba Peth': 39,\n",
       "  'Katraj': 40,\n",
       "  'Khadaki': 41,\n",
       "  'Khadki': 42,\n",
       "  'Kharadi': 43,\n",
       "  'Kondhwa': 44,\n",
       "  'Kondhwa Budruk': 45,\n",
       "  'Kondhwa Khurd': 46,\n",
       "  'Koregaon Park': 47,\n",
       "  'Kothrud': 48,\n",
       "  'Law College Road': 49,\n",
       "  'Laxmi Road': 50,\n",
       "  'Lulla Nagar': 51,\n",
       "  'Mahatma Gandhi Road': 52,\n",
       "  'Mangalwar peth': 53,\n",
       "  'Manik Bagh': 54,\n",
       "  'Market yard': 55,\n",
       "  'Model colony': 56,\n",
       "  'Mukund Nagar': 57,\n",
       "  'Mundhawa': 58,\n",
       "  'Nagar Road': 59,\n",
       "  'Nana Peth': 60,\n",
       "  'Narayan Peth': 61,\n",
       "  'Narayangaon': 62,\n",
       "  'Navi Peth': 63,\n",
       "  'Padmavati': 64,\n",
       "  'Parvati Darshan': 65,\n",
       "  'Pashan': 66,\n",
       "  'Paud Road': 67,\n",
       "  'Pirangut': 68,\n",
       "  'Prabhat Road': 69,\n",
       "  'Pune Railway Station': 70,\n",
       "  'Rasta Peth': 71,\n",
       "  'Raviwar Peth': 72,\n",
       "  'Sadashiv Peth': 73,\n",
       "  'Sahakar Nagar': 74,\n",
       "  'Salunke Vihar': 75,\n",
       "  'Sasson Road': 76,\n",
       "  'Satara Road': 77,\n",
       "  'Senapati Bapat Road': 78,\n",
       "  'Shaniwar Peth': 79,\n",
       "  'Shivaji Nagar': 80,\n",
       "  'Shukrawar Peth': 81,\n",
       "  'Sinhagad Road': 82,\n",
       "  'Somwar Peth': 83,\n",
       "  'Swargate': 84,\n",
       "  'Tilak Road': 85,\n",
       "  'Uruli Devachi': 86,\n",
       "  'Vadgaon Budruk': 87,\n",
       "  'Viman Nagar': 88,\n",
       "  'Vishrant Wadi': 89,\n",
       "  'Wadgaon Sheri': 90,\n",
       "  'Wagholi': 91,\n",
       "  'Wakadewadi': 92,\n",
       "  'Wanowrie': 93,\n",
       "  'Warje': 94,\n",
       "  'Yerawada': 95},\n",
       " 'columns': ['total_sqft',\n",
       "  'bath',\n",
       "  'balcony',\n",
       "  'site_location',\n",
       "  'area_type_Built-up  Area',\n",
       "  'area_type_Carpet  Area',\n",
       "  'area_type_Plot  Area',\n",
       "  'area_type_Super built-up  Area',\n",
       "  'Availability_Ready_To_Move',\n",
       "  'Availability_Immediate_Possession',\n",
       "  'Availability_Month',\n",
       "  'BHK'],\n",
       " 'Availability': {'Availability_Month': {'Jan': 1,\n",
       "   'Feb': 2,\n",
       "   'Mar': 3,\n",
       "   'Apr': 4,\n",
       "   'May': 5,\n",
       "   'Jun': 6,\n",
       "   'July': 7,\n",
       "   'Aug': 8,\n",
       "   'Sep': 9,\n",
       "   'Oct': 10,\n",
       "   'Nov': 11,\n",
       "   'Dec': 12}}}"
      ]
     },
     "execution_count": 217,
     "metadata": {},
     "output_type": "execute_result"
    }
   ],
   "source": [
    "column_name = x.columns\n",
    "Availability_Month = {\"Jan\":1,\"Feb\":2,\"Mar\":3,\"Apr\":4,\"May\":5,\"Jun\":6,\"July\":7,\"Aug\":8,\"Sep\":9,\"Oct\":10,\"Nov\":11,\"Dec\":12}\n",
    "\n",
    "json_dict = {\"site_location\":encoder_dict,\n",
    "             \"columns\":list(column_name), \n",
    "             \"Availability\":{\"Availability_Month\":{\"Jan\":1,\"Feb\":2,\"Mar\":3,\"Apr\":4,\"May\":5,\"Jun\":6,\"July\":7,\n",
    "                                                   \"Aug\":8,\"Sep\":9,\"Oct\":10,\"Nov\":11,\"Dec\":12}}}\n",
    "json_dict"
   ]
  },
  {
   "cell_type": "markdown",
   "id": "82082114",
   "metadata": {},
   "source": [
    "# Making Json File"
   ]
  },
  {
   "cell_type": "code",
   "execution_count": 218,
   "id": "75dfe2c6",
   "metadata": {},
   "outputs": [],
   "source": [
    "with open(\"Pune_data.json\",\"w\") as f:\n",
    "    json.dump(json_dict,f)"
   ]
  },
  {
   "cell_type": "code",
   "execution_count": 219,
   "id": "d31ca211",
   "metadata": {},
   "outputs": [],
   "source": [
    "total_sqft    = 1000\n",
    "bath          = 4\n",
    "balcony       = 2\n",
    "site_location = \"Dhayari Phata\"\n",
    "area_type     = \"Super built-up  Area\"\n",
    "Availability  = \"Aug\"\n",
    "BHK           = 4\n",
    "\n",
    "area_type     = \"area_type_\" + area_type                      \n"
   ]
  },
  {
   "cell_type": "code",
   "execution_count": 220,
   "id": "9da9368b",
   "metadata": {},
   "outputs": [
    {
     "data": {
      "text/plain": [
       "7"
      ]
     },
     "execution_count": 220,
     "metadata": {},
     "output_type": "execute_result"
    }
   ],
   "source": [
    "area_type_index = list(column_name).index(area_type)\n",
    "area_type_index"
   ]
  },
  {
   "cell_type": "code",
   "execution_count": 221,
   "id": "bc36b24f",
   "metadata": {},
   "outputs": [
    {
     "data": {
      "text/plain": [
       "0"
      ]
     },
     "execution_count": 221,
     "metadata": {},
     "output_type": "execute_result"
    }
   ],
   "source": [
    "def avail(Availability):\n",
    "    \n",
    "    if Availability == \"Ready_To_Move\":\n",
    "        test = \"Availability_Ready_To_Move\"\n",
    "        avail_result = list(column_name).index(test)\n",
    "        \n",
    "    elif Availability == \"Immediate_Possession\":\n",
    "            \n",
    "        test = \"Availability_Immediate_Possession\"\n",
    "        avail_result = list(column_name).index(test)\n",
    "    else:\n",
    "        avail_result = 0\n",
    "        \n",
    "    return avail_result\n",
    "\n",
    "    \n",
    "avail_index = avail(\"Aug\")    \n",
    "avail_index"
   ]
  },
  {
   "cell_type": "code",
   "execution_count": 222,
   "id": "75dce913",
   "metadata": {},
   "outputs": [
    {
     "data": {
      "text/plain": [
       "array([0., 0., 0., 0., 0., 0., 0., 0., 0., 0., 0., 0.])"
      ]
     },
     "execution_count": 222,
     "metadata": {},
     "output_type": "execute_result"
    }
   ],
   "source": [
    "test_array = np.zeros(len(column_name))\n",
    "test_array"
   ]
  },
  {
   "cell_type": "code",
   "execution_count": 223,
   "id": "5b69cc78",
   "metadata": {},
   "outputs": [
    {
     "data": {
      "text/plain": [
       "array([1000.,    4.,    2.,   20.,    0.,    0.,    0.,    1.,    0.,\n",
       "          0.,    8.,    4.])"
      ]
     },
     "execution_count": 223,
     "metadata": {},
     "output_type": "execute_result"
    }
   ],
   "source": [
    "test_array[0] = total_sqft\n",
    "test_array[1] = bath\n",
    "test_array[2] = balcony\n",
    "test_array[3] = json_dict[\"site_location\"][site_location]\n",
    "test_array[area_type_index] = 1\n",
    "test_array[avail_index] = 1 if avail_index > 1 else total_sqft\n",
    "test_array[-2] = json_dict[\"Availability\"][\"Availability_Month\"][Availability]\n",
    "test_array[-1] = BHK\n",
    "\n",
    "test_array"
   ]
  },
  {
   "cell_type": "code",
   "execution_count": 224,
   "id": "ed6c64fa",
   "metadata": {},
   "outputs": [
    {
     "name": "stdout",
     "output_type": "stream",
     "text": [
      "The Total Price of your House is: 53 Lakhs only\n"
     ]
    }
   ],
   "source": [
    "price = round(model.predict([test_array])[0])\n",
    "print(f\"The Total Price of your House is: {price} Lakhs only\")"
   ]
  },
  {
   "cell_type": "code",
   "execution_count": null,
   "id": "d537b61a",
   "metadata": {},
   "outputs": [],
   "source": []
  },
  {
   "cell_type": "code",
   "execution_count": null,
   "id": "dd18c97f",
   "metadata": {},
   "outputs": [],
   "source": []
  },
  {
   "cell_type": "code",
   "execution_count": null,
   "id": "ddd54679",
   "metadata": {},
   "outputs": [],
   "source": []
  },
  {
   "cell_type": "code",
   "execution_count": null,
   "id": "22148221",
   "metadata": {},
   "outputs": [],
   "source": []
  },
  {
   "cell_type": "code",
   "execution_count": 234,
   "id": "4261dd0a",
   "metadata": {},
   "outputs": [],
   "source": [
    "pd.set_option('display.max_rows', None)"
   ]
  },
  {
   "cell_type": "code",
   "execution_count": 237,
   "id": "bfbeb3bc",
   "metadata": {},
   "outputs": [
    {
     "data": {
      "text/html": [
       "<div>\n",
       "<style scoped>\n",
       "    .dataframe tbody tr th:only-of-type {\n",
       "        vertical-align: middle;\n",
       "    }\n",
       "\n",
       "    .dataframe tbody tr th {\n",
       "        vertical-align: top;\n",
       "    }\n",
       "\n",
       "    .dataframe thead th {\n",
       "        text-align: right;\n",
       "    }\n",
       "</style>\n",
       "<table border=\"1\" class=\"dataframe\">\n",
       "  <thead>\n",
       "    <tr style=\"text-align: right;\">\n",
       "      <th></th>\n",
       "      <th>Model Details</th>\n",
       "      <th>Training Accuracy</th>\n",
       "      <th>Testing Accuracy</th>\n",
       "    </tr>\n",
       "  </thead>\n",
       "  <tbody>\n",
       "    <tr>\n",
       "      <th>0</th>\n",
       "      <td>Linear Regression Regular Model</td>\n",
       "      <td>0.840228</td>\n",
       "      <td>0.881856</td>\n",
       "    </tr>\n",
       "    <tr>\n",
       "      <th>1</th>\n",
       "      <td>Ridge Regression Hyperp Tunning GSCV</td>\n",
       "      <td>0.840228</td>\n",
       "      <td>0.881872</td>\n",
       "    </tr>\n",
       "    <tr>\n",
       "      <th>2</th>\n",
       "      <td>Ridge Regression Hyperp Tunning RSCV</td>\n",
       "      <td>0.840228</td>\n",
       "      <td>0.881867</td>\n",
       "    </tr>\n",
       "    <tr>\n",
       "      <th>3</th>\n",
       "      <td>Lasso Regression Hyperp Tunning GSCV</td>\n",
       "      <td>0.840224</td>\n",
       "      <td>0.881873</td>\n",
       "    </tr>\n",
       "    <tr>\n",
       "      <th>4</th>\n",
       "      <td>Lasso Regression Hyperp Tunning RSCV</td>\n",
       "      <td>0.839268</td>\n",
       "      <td>0.881954</td>\n",
       "    </tr>\n",
       "    <tr>\n",
       "      <th>5</th>\n",
       "      <td>KNN Regressor Regular Model</td>\n",
       "      <td>0.716092</td>\n",
       "      <td>0.688904</td>\n",
       "    </tr>\n",
       "    <tr>\n",
       "      <th>6</th>\n",
       "      <td>KNN Regressor Using Standardization</td>\n",
       "      <td>0.668828</td>\n",
       "      <td>0.611551</td>\n",
       "    </tr>\n",
       "    <tr>\n",
       "      <th>7</th>\n",
       "      <td>KNN Regressor Using Normalization</td>\n",
       "      <td>0.621630</td>\n",
       "      <td>0.474968</td>\n",
       "    </tr>\n",
       "    <tr>\n",
       "      <th>8</th>\n",
       "      <td>KNN Regressor Hyperp Tunning</td>\n",
       "      <td>0.589424</td>\n",
       "      <td>0.630537</td>\n",
       "    </tr>\n",
       "    <tr>\n",
       "      <th>9</th>\n",
       "      <td>Decision Tree Regular Model</td>\n",
       "      <td>0.997891</td>\n",
       "      <td>0.640557</td>\n",
       "    </tr>\n",
       "    <tr>\n",
       "      <th>10</th>\n",
       "      <td>Decision Tree Hyperp Tunning(pre-prunning)</td>\n",
       "      <td>0.635621</td>\n",
       "      <td>0.773981</td>\n",
       "    </tr>\n",
       "    <tr>\n",
       "      <th>11</th>\n",
       "      <td>Decision Tree Hyperp Tunning(post-prunning)</td>\n",
       "      <td>0.903459</td>\n",
       "      <td>0.766932</td>\n",
       "    </tr>\n",
       "    <tr>\n",
       "      <th>12</th>\n",
       "      <td>Random Forest Tree Regular Model</td>\n",
       "      <td>0.924109</td>\n",
       "      <td>0.778610</td>\n",
       "    </tr>\n",
       "    <tr>\n",
       "      <th>13</th>\n",
       "      <td>Decision Tree Hyperp Tunning</td>\n",
       "      <td>0.655054</td>\n",
       "      <td>0.780877</td>\n",
       "    </tr>\n",
       "    <tr>\n",
       "      <th>14</th>\n",
       "      <td>AdaBoost Regular Model</td>\n",
       "      <td>0.709627</td>\n",
       "      <td>0.642013</td>\n",
       "    </tr>\n",
       "    <tr>\n",
       "      <th>15</th>\n",
       "      <td>AdaBoost Hyperp Tunning</td>\n",
       "      <td>0.799698</td>\n",
       "      <td>0.752281</td>\n",
       "    </tr>\n",
       "  </tbody>\n",
       "</table>\n",
       "</div>"
      ],
      "text/plain": [
       "                                  Model Details  Training Accuracy  \\\n",
       "0               Linear Regression Regular Model           0.840228   \n",
       "1          Ridge Regression Hyperp Tunning GSCV           0.840228   \n",
       "2          Ridge Regression Hyperp Tunning RSCV           0.840228   \n",
       "3          Lasso Regression Hyperp Tunning GSCV           0.840224   \n",
       "4          Lasso Regression Hyperp Tunning RSCV           0.839268   \n",
       "5                   KNN Regressor Regular Model           0.716092   \n",
       "6           KNN Regressor Using Standardization           0.668828   \n",
       "7             KNN Regressor Using Normalization           0.621630   \n",
       "8                  KNN Regressor Hyperp Tunning           0.589424   \n",
       "9                   Decision Tree Regular Model           0.997891   \n",
       "10   Decision Tree Hyperp Tunning(pre-prunning)           0.635621   \n",
       "11  Decision Tree Hyperp Tunning(post-prunning)           0.903459   \n",
       "12             Random Forest Tree Regular Model           0.924109   \n",
       "13                 Decision Tree Hyperp Tunning           0.655054   \n",
       "14                       AdaBoost Regular Model           0.709627   \n",
       "15                      AdaBoost Hyperp Tunning           0.799698   \n",
       "\n",
       "    Testing Accuracy  \n",
       "0           0.881856  \n",
       "1           0.881872  \n",
       "2           0.881867  \n",
       "3           0.881873  \n",
       "4           0.881954  \n",
       "5           0.688904  \n",
       "6           0.611551  \n",
       "7           0.474968  \n",
       "8           0.630537  \n",
       "9           0.640557  \n",
       "10          0.773981  \n",
       "11          0.766932  \n",
       "12          0.778610  \n",
       "13          0.780877  \n",
       "14          0.642013  \n",
       "15          0.752281  "
      ]
     },
     "execution_count": 237,
     "metadata": {},
     "output_type": "execute_result"
    }
   ],
   "source": [
    "comparison_df = pd.DataFrame({\"Model Details\":model_details, \"Training Accuracy\":Training_accuracy,\n",
    "                              \"Testing Accuracy\":Testing_accuracy})\n",
    "comparison_df"
   ]
  },
  {
   "cell_type": "code",
   "execution_count": 236,
   "id": "462613d0",
   "metadata": {},
   "outputs": [
    {
     "data": {
      "text/html": [
       "<div>\n",
       "<style scoped>\n",
       "    .dataframe tbody tr th:only-of-type {\n",
       "        vertical-align: middle;\n",
       "    }\n",
       "\n",
       "    .dataframe tbody tr th {\n",
       "        vertical-align: top;\n",
       "    }\n",
       "\n",
       "    .dataframe thead th {\n",
       "        text-align: right;\n",
       "    }\n",
       "</style>\n",
       "<table border=\"1\" class=\"dataframe\">\n",
       "  <thead>\n",
       "    <tr style=\"text-align: right;\">\n",
       "      <th></th>\n",
       "      <th>Model Details</th>\n",
       "      <th>Training Accuracy</th>\n",
       "      <th>Testing Accuracy</th>\n",
       "      <th>Difference_in_%</th>\n",
       "    </tr>\n",
       "  </thead>\n",
       "  <tbody>\n",
       "    <tr>\n",
       "      <th>0</th>\n",
       "      <td>Linear Regression Regular Model</td>\n",
       "      <td>0.840228</td>\n",
       "      <td>0.881856</td>\n",
       "      <td>-4.162787</td>\n",
       "    </tr>\n",
       "    <tr>\n",
       "      <th>1</th>\n",
       "      <td>Ridge Regression Hyperp Tunning GSCV</td>\n",
       "      <td>0.840228</td>\n",
       "      <td>0.881872</td>\n",
       "      <td>-4.164373</td>\n",
       "    </tr>\n",
       "    <tr>\n",
       "      <th>2</th>\n",
       "      <td>Ridge Regression Hyperp Tunning RSCV</td>\n",
       "      <td>0.840228</td>\n",
       "      <td>0.881867</td>\n",
       "      <td>-4.163880</td>\n",
       "    </tr>\n",
       "    <tr>\n",
       "      <th>3</th>\n",
       "      <td>Lasso Regression Hyperp Tunning GSCV</td>\n",
       "      <td>0.840224</td>\n",
       "      <td>0.881873</td>\n",
       "      <td>-4.164886</td>\n",
       "    </tr>\n",
       "    <tr>\n",
       "      <th>4</th>\n",
       "      <td>Lasso Regression Hyperp Tunning RSCV</td>\n",
       "      <td>0.839268</td>\n",
       "      <td>0.881954</td>\n",
       "      <td>-4.268639</td>\n",
       "    </tr>\n",
       "    <tr>\n",
       "      <th>5</th>\n",
       "      <td>KNN Regressor Regular Model</td>\n",
       "      <td>0.716092</td>\n",
       "      <td>0.688904</td>\n",
       "      <td>2.718793</td>\n",
       "    </tr>\n",
       "    <tr>\n",
       "      <th>6</th>\n",
       "      <td>KNN Regressor Using Standardization</td>\n",
       "      <td>0.668828</td>\n",
       "      <td>0.611551</td>\n",
       "      <td>5.727712</td>\n",
       "    </tr>\n",
       "    <tr>\n",
       "      <th>7</th>\n",
       "      <td>KNN Regressor Using Normalization</td>\n",
       "      <td>0.621630</td>\n",
       "      <td>0.474968</td>\n",
       "      <td>14.666273</td>\n",
       "    </tr>\n",
       "    <tr>\n",
       "      <th>8</th>\n",
       "      <td>KNN Regressor Hyperp Tunning</td>\n",
       "      <td>0.589424</td>\n",
       "      <td>0.630537</td>\n",
       "      <td>-4.111383</td>\n",
       "    </tr>\n",
       "    <tr>\n",
       "      <th>9</th>\n",
       "      <td>Decision Tree Regular Model</td>\n",
       "      <td>0.997891</td>\n",
       "      <td>0.640557</td>\n",
       "      <td>35.733359</td>\n",
       "    </tr>\n",
       "    <tr>\n",
       "      <th>10</th>\n",
       "      <td>Decision Tree Hyperp Tunning(pre-prunning)</td>\n",
       "      <td>0.635621</td>\n",
       "      <td>0.773981</td>\n",
       "      <td>-13.835991</td>\n",
       "    </tr>\n",
       "    <tr>\n",
       "      <th>11</th>\n",
       "      <td>Decision Tree Hyperp Tunning(post-prunning)</td>\n",
       "      <td>0.903459</td>\n",
       "      <td>0.766932</td>\n",
       "      <td>13.652613</td>\n",
       "    </tr>\n",
       "    <tr>\n",
       "      <th>12</th>\n",
       "      <td>Random Forest Tree Regular Model</td>\n",
       "      <td>0.924109</td>\n",
       "      <td>0.778610</td>\n",
       "      <td>14.549893</td>\n",
       "    </tr>\n",
       "    <tr>\n",
       "      <th>13</th>\n",
       "      <td>Decision Tree Hyperp Tunning</td>\n",
       "      <td>0.655054</td>\n",
       "      <td>0.780877</td>\n",
       "      <td>-12.582283</td>\n",
       "    </tr>\n",
       "    <tr>\n",
       "      <th>14</th>\n",
       "      <td>AdaBoost Regular Model</td>\n",
       "      <td>0.709627</td>\n",
       "      <td>0.642013</td>\n",
       "      <td>6.761341</td>\n",
       "    </tr>\n",
       "    <tr>\n",
       "      <th>15</th>\n",
       "      <td>AdaBoost Hyperp Tunning</td>\n",
       "      <td>0.799698</td>\n",
       "      <td>0.752281</td>\n",
       "      <td>4.741721</td>\n",
       "    </tr>\n",
       "  </tbody>\n",
       "</table>\n",
       "</div>"
      ],
      "text/plain": [
       "                                  Model Details  Training Accuracy  \\\n",
       "0               Linear Regression Regular Model           0.840228   \n",
       "1          Ridge Regression Hyperp Tunning GSCV           0.840228   \n",
       "2          Ridge Regression Hyperp Tunning RSCV           0.840228   \n",
       "3          Lasso Regression Hyperp Tunning GSCV           0.840224   \n",
       "4          Lasso Regression Hyperp Tunning RSCV           0.839268   \n",
       "5                   KNN Regressor Regular Model           0.716092   \n",
       "6           KNN Regressor Using Standardization           0.668828   \n",
       "7             KNN Regressor Using Normalization           0.621630   \n",
       "8                  KNN Regressor Hyperp Tunning           0.589424   \n",
       "9                   Decision Tree Regular Model           0.997891   \n",
       "10   Decision Tree Hyperp Tunning(pre-prunning)           0.635621   \n",
       "11  Decision Tree Hyperp Tunning(post-prunning)           0.903459   \n",
       "12             Random Forest Tree Regular Model           0.924109   \n",
       "13                 Decision Tree Hyperp Tunning           0.655054   \n",
       "14                       AdaBoost Regular Model           0.709627   \n",
       "15                      AdaBoost Hyperp Tunning           0.799698   \n",
       "\n",
       "    Testing Accuracy  Difference_in_%  \n",
       "0           0.881856        -4.162787  \n",
       "1           0.881872        -4.164373  \n",
       "2           0.881867        -4.163880  \n",
       "3           0.881873        -4.164886  \n",
       "4           0.881954        -4.268639  \n",
       "5           0.688904         2.718793  \n",
       "6           0.611551         5.727712  \n",
       "7           0.474968        14.666273  \n",
       "8           0.630537        -4.111383  \n",
       "9           0.640557        35.733359  \n",
       "10          0.773981       -13.835991  \n",
       "11          0.766932        13.652613  \n",
       "12          0.778610        14.549893  \n",
       "13          0.780877       -12.582283  \n",
       "14          0.642013         6.761341  \n",
       "15          0.752281         4.741721  "
      ]
     },
     "execution_count": 236,
     "metadata": {},
     "output_type": "execute_result"
    }
   ],
   "source": [
    "comparison_df[\"Difference_in_%\"] = (comparison_df['Training Accuracy'] - comparison_df['Testing Accuracy']) *100\n",
    "comparison_df"
   ]
  },
  {
   "cell_type": "code",
   "execution_count": null,
   "id": "7988f289",
   "metadata": {},
   "outputs": [],
   "source": []
  }
 ],
 "metadata": {
  "kernelspec": {
   "display_name": "Python 3 (ipykernel)",
   "language": "python",
   "name": "python3"
  },
  "language_info": {
   "codemirror_mode": {
    "name": "ipython",
    "version": 3
   },
   "file_extension": ".py",
   "mimetype": "text/x-python",
   "name": "python",
   "nbconvert_exporter": "python",
   "pygments_lexer": "ipython3",
   "version": "3.9.13"
  }
 },
 "nbformat": 4,
 "nbformat_minor": 5
}
